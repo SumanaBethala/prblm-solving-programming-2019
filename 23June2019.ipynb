{
 "cells": [
  {
   "cell_type": "markdown",
   "metadata": {},
   "source": [
    "## Date 23June2019\n",
    "\n",
    "# Day Objectives\n",
    "\n",
    "- Words Frequency\n",
    "- Find and Replace\n",
    "- Student marks Analysis\n",
    "- **Hackerearth Test Problems**\n",
    "    - Average of a range\n",
    "    - Kth largest frequency for a character in a string\n",
    "    "
   ]
  },
  {
   "cell_type": "code",
   "execution_count": 2,
   "metadata": {
    "scrolled": true
   },
   "outputs": [
    {
     "name": "stdout",
     "output_type": "stream",
     "text": [
      "['Hi', 'good', 'morning', 'How', 'are', 'u', '?', 'Am', 'so', 'happy', 'for', 'this', 'day', 'because', \"i'll\", 'never', 'forget', 'this', 'day', 'this', 'is', 'soooooo', 'important', 'day', 'in', 'my', 'life']\n",
      "{'?': 1,\n",
      " 'Am': 1,\n",
      " 'Hi': 1,\n",
      " 'How': 1,\n",
      " 'are': 1,\n",
      " 'because': 1,\n",
      " 'day': 3,\n",
      " 'for': 1,\n",
      " 'forget': 1,\n",
      " 'good': 1,\n",
      " 'happy': 1,\n",
      " \"i'll\": 1,\n",
      " 'important': 1,\n",
      " 'in': 1,\n",
      " 'is': 1,\n",
      " 'life': 1,\n",
      " 'morning': 1,\n",
      " 'my': 1,\n",
      " 'never': 1,\n",
      " 'so': 1,\n",
      " 'soooooo': 1,\n",
      " 'this': 3,\n",
      " 'u': 1}\n"
     ]
    }
   ],
   "source": [
    "# Frequency count 1st method\n",
    "\n",
    "import pprint\n",
    "def frequrncyCount(filepath):\n",
    "    count={}\n",
    "    with open(filepath, 'r') as f:\n",
    "        filedata = f.read().split()\n",
    "        print(filedata)\n",
    "        for i in filedata:\n",
    "            if i not in count:\n",
    "                count[i] = 1\n",
    "            else:\n",
    "                count[i] +=1\n",
    "        pprint.pprint((count))\n",
    "        \n",
    "        \n",
    "filepath = \"DataFiles/data.txt\"\n",
    "frequrncyCount(filepath)"
   ]
  },
  {
   "cell_type": "code",
   "execution_count": 1,
   "metadata": {},
   "outputs": [
    {
     "name": "stdout",
     "output_type": "stream",
     "text": [
      "['Hi', 'good', 'morning', 'How', 'are', 'u', '?', 'Am', 'so', 'happy', 'for', 'this', 'day', 'because', \"i'll\", 'never', 'forget', 'this', 'day', 'this', 'is', 'soooooo', 'important', 'day', 'in', 'my', 'life']\n",
      "Hi :  1\n",
      "good :  1\n",
      "morning :  1\n",
      "How :  1\n",
      "are :  1\n",
      "u :  1\n",
      "? :  1\n",
      "Am :  1\n",
      "so :  1\n",
      "happy :  1\n",
      "for :  1\n",
      "this :  3\n",
      "day :  3\n",
      "because :  1\n",
      "i'll :  1\n",
      "never :  1\n",
      "forget :  1\n",
      "is :  1\n",
      "soooooo :  1\n",
      "important :  1\n",
      "in :  1\n",
      "my :  1\n",
      "life :  1\n"
     ]
    }
   ],
   "source": [
    "# Frequency count of all words\n",
    "# Frequency Distribution\n",
    "\n",
    "def frequencyCount(filepath): \n",
    "    count = {} \n",
    "    with open(filepath, \"r\") as f:\n",
    "        filedata = f.read().split()\n",
    "        print(filedata)\n",
    "        for i in filedata: \n",
    "            if i not in count: \n",
    "                count[i] = 1\n",
    "            else: \n",
    "                count[i] += 1\n",
    "  \n",
    "    for key, value in count.items(): \n",
    "        print (\"% s : % d\" %(key, value)) \n",
    "\n",
    "filepath = \"DataFiles/data.txt\"\n",
    "frequencyCount(filepath) "
   ]
  },
  {
   "cell_type": "code",
   "execution_count": null,
   "metadata": {},
   "outputs": [],
   "source": []
  },
  {
   "cell_type": "markdown",
   "metadata": {},
   "source": [
    "# Practice problem sets\n",
    "\n",
    "- **Contacts Application**\n",
    "\n",
    "    - Add, Search, List, Modify Delete contacts\n",
    "    \n",
    "- **Find and Replace Application**\n",
    "\n",
    "    - count the total no of occurances of a word (frequency)\n",
    "    - If word is existing\n",
    "    - Replace all occurances of a word with another word\n",
    "    \n",
    "- **Student marks analysis**\n",
    "\n",
    "    - Class Average\n",
    "    - Pass percentage\n",
    "    - Fail percentage\n",
    "    - Distinction percentage\n",
    "    - Highest marks frequency\n",
    "    - Lowest marks frequency\n",
    "\n",
    "    "
   ]
  },
  {
   "cell_type": "code",
   "execution_count": 2,
   "metadata": {},
   "outputs": [],
   "source": [
    "# Find and Replace the word in data\n",
    "\n",
    "def findAndReplace(filepath):\n",
    "    with open(filepath, 'r') as f:\n",
    "        newtext = f.read().replace('line','suma')\n",
    "    with open(filepath, 'w') as l:\n",
    "        l.write(newtext)\n",
    "        \n",
    "        \n",
    "filepath = 'DataFiles/data.txt'\n",
    "findAndReplace(filepath)"
   ]
  },
  {
   "cell_type": "code",
   "execution_count": 33,
   "metadata": {},
   "outputs": [],
   "source": [
    "# Student marks Analysis\n",
    "\n",
    "from random import randint\n",
    "\n",
    "def generateMarks(n,lb,ub):\n",
    "    with open(\"DataFiles/marks.txt\", \"w\") as f:\n",
    "        for i in range(0,n):\n",
    "            r= randint(lb,ub)\n",
    "            f.write(str(r) + \"\\n\")\n",
    "    return\n",
    "\n",
    "generateMarks(20,0,100)"
   ]
  },
  {
   "cell_type": "code",
   "execution_count": 34,
   "metadata": {},
   "outputs": [
    {
     "name": "stdout",
     "output_type": "stream",
     "text": [
      "1109\n",
      "20\n",
      "55.45\n"
     ]
    }
   ],
   "source": [
    "def classAverage(filepath):\n",
    "    count = 0\n",
    "    sum = 0\n",
    "    with open(filepath, \"r\") as f:\n",
    "        filedata = f.read().split()\n",
    "        for i in filedata:\n",
    "            if i.isdigit():\n",
    "                sum = sum+int(i)\n",
    "                count = count+1        \n",
    "        Avg = sum/count\n",
    "        print(sum)\n",
    "        print(count)\n",
    "        print(Avg)\n",
    "        \n",
    "    \n",
    "filepath = \"DataFiles/marks.txt\"\n",
    "classAverage(filepath)\n",
    "    "
   ]
  },
  {
   "cell_type": "code",
   "execution_count": 37,
   "metadata": {},
   "outputs": [
    {
     "name": "stdout",
     "output_type": "stream",
     "text": [
      "75.0\n"
     ]
    }
   ],
   "source": [
    "def passedStudents(filepath):\n",
    "    count = 0\n",
    "    l=[]\n",
    "    with open(filepath, \"r\") as f:\n",
    "        filedata = f.read().split()\n",
    "        for i in filedata:\n",
    "            if int(i)>=40:\n",
    "                count=count+1\n",
    "        passpercent = (count/len(filedata))*100\n",
    "        print(passpercent)\n",
    "                \n",
    "filepath = \"DataFiles/marks.txt\"\n",
    "passedStudents(filepath)"
   ]
  },
  {
   "cell_type": "code",
   "execution_count": 40,
   "metadata": {},
   "outputs": [
    {
     "name": "stdout",
     "output_type": "stream",
     "text": [
      "25.0\n"
     ]
    }
   ],
   "source": [
    "def failedStudents(filepath):\n",
    "    count = 0\n",
    "    l=[]\n",
    "    with open(filepath, \"r\") as f:\n",
    "        filedata = f.read().split()\n",
    "        for i in filedata:\n",
    "            if int(i)<40:\n",
    "                count=count+1\n",
    "        passpercent = (count/len(filedata))*100\n",
    "        print(passpercent)\n",
    "                \n",
    "filepath = \"DataFiles/marks.txt\"\n",
    "failedStudents(filepath)"
   ]
  },
  {
   "cell_type": "code",
   "execution_count": 42,
   "metadata": {},
   "outputs": [
    {
     "name": "stdout",
     "output_type": "stream",
     "text": [
      "50.0\n"
     ]
    }
   ],
   "source": [
    "def distinctionStudents(filepath):\n",
    "    count = 0\n",
    "    with open(filepath, \"r\") as f:\n",
    "        filedata = f.read().split()\n",
    "        for i in filedata:\n",
    "            if int(i)>=70:\n",
    "                count=count+1\n",
    "        passpercent = (count/len(filedata))*100\n",
    "        print(passpercent)\n",
    "                \n",
    "filepath = \"DataFiles/marks.txt\"\n",
    "distinctionStudents(filepath)"
   ]
  },
  {
   "cell_type": "code",
   "execution_count": 6,
   "metadata": {},
   "outputs": [
    {
     "name": "stdout",
     "output_type": "stream",
     "text": [
      "['77', '81', '77', '77', '73', '73', '48', '32', '50', '8', '20', '64', '1', '71', '80', '48', '85', '64', '76', '4']\n",
      "1 0 2 0 0 1 3 0 0 1 1 0 0 0 1 0 0 0 0 0 0 0 0 0 0 0 0 0 0 0 "
     ]
    }
   ],
   "source": [
    "def highestmarksfreq(filepath):\n",
    "    count=0\n",
    "    l=[]\n",
    "    with open(filepath, \"r\") as f:\n",
    "        filedata = f.read().split()\n",
    "        print(filedata)\n",
    "        for i in filedata:\n",
    "            l.append(int(i))\n",
    "        l.sort()\n",
    "        for i in range(71,101):\n",
    "            if i in l:\n",
    "                print(l.count(i),end = ' ')\n",
    "            else:\n",
    "                print(\"0\", end = \" \")\n",
    "    \n",
    "    \n",
    "filepath=\"DataFiles/marks.txt\"\n",
    "highestmarksfreq(filepath)\n",
    "    "
   ]
  },
  {
   "cell_type": "code",
   "execution_count": 1,
   "metadata": {},
   "outputs": [
    {
     "name": "stdout",
     "output_type": "stream",
     "text": [
      "['77', '81', '77', '77', '73', '73', '48', '32', '50', '8', '20', '64', '1', '71', '80', '48', '85', '64', '76', '4']\n",
      "0 1 0 0 1 0 0 0 1 0 0 "
     ]
    }
   ],
   "source": [
    "def highestmarksfreq(filepath):\n",
    "    count=0\n",
    "    l=[]\n",
    "    with open(filepath, \"r\") as f:\n",
    "        filedata = f.read().split()\n",
    "        print(filedata)\n",
    "        for i in filedata:\n",
    "            l.append(int(i))\n",
    "        l.sort()\n",
    "        for i in range(0,11):\n",
    "            if i in l:\n",
    "                print(l.count(i),end = ' ')\n",
    "            else:\n",
    "                print(\"0\", end = \" \")\n",
    "    \n",
    "    \n",
    "filepath=\"DataFiles/marks.txt\"\n",
    "highestmarksfreq(filepath)\n"
   ]
  },
  {
   "cell_type": "markdown",
   "metadata": {},
   "source": [
    "# Hackerearth Test Problems"
   ]
  },
  {
   "cell_type": "code",
   "execution_count": null,
   "metadata": {},
   "outputs": [],
   "source": [
    "# Average of a numbers in range\n"
   ]
  },
  {
   "cell_type": "code",
   "execution_count": 5,
   "metadata": {},
   "outputs": [
    {
     "name": "stdout",
     "output_type": "stream",
     "text": [
      "[3, 3, 3, 2, 2, 1, 1, 1, 1, 1, 1, 1]\n",
      "[1, 2, 3]\n"
     ]
    },
    {
     "data": {
      "text/plain": [
       "'b'"
      ]
     },
     "execution_count": 5,
     "metadata": {},
     "output_type": "execute_result"
    }
   ],
   "source": [
    "# Kth largest frequency of a string\n",
    "\n",
    "def kthLargest(s, k):\n",
    "    # Construct the frequency dictionary for all unique characters\n",
    "    freq = {}\n",
    "    for i in s:\n",
    "        if i not in freq.keys():\n",
    "            freq[i] = s.count(i)\n",
    "    # Extract unique frequencies in descending order\n",
    "    values = sorted(freq.values(), reverse = True)\n",
    "    print(values)\n",
    "    uniqueValues = list(set(values))\n",
    "    print(uniqueValues)\n",
    "    uniqueValues = sorted(uniqueValues, reverse = True)\n",
    "    \n",
    "    # Identify kth largest frequency\n",
    "    if k <= len(uniqueValues):\n",
    "        kvalue = uniqueValues[k-1]\n",
    "    else:\n",
    "        return -1\n",
    "    \n",
    "    # Get all elements with kth largest frequency\n",
    "    li=[]\n",
    "    for item in freq.items():\n",
    "        if item[1] == kvalue:\n",
    "            li.append(item[0])\n",
    "    \n",
    "    # Minimum of kth largest frequency\n",
    "    return min(li)\n",
    "\n",
    "kthLargest('aabcduigesesdrsetawr', 3)"
   ]
  }
 ],
 "metadata": {
  "kernelspec": {
   "display_name": "Python 3",
   "language": "python",
   "name": "python3"
  },
  "language_info": {
   "codemirror_mode": {
    "name": "ipython",
    "version": 3
   },
   "file_extension": ".py",
   "mimetype": "text/x-python",
   "name": "python",
   "nbconvert_exporter": "python",
   "pygments_lexer": "ipython3",
   "version": "3.7.3"
  }
 },
 "nbformat": 4,
 "nbformat_minor": 2
}
