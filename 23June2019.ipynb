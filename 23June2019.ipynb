{
 "cells": [
  {
   "cell_type": "code",
   "execution_count": 2,
   "metadata": {
    "scrolled": true
   },
   "outputs": [
    {
     "name": "stdout",
     "output_type": "stream",
     "text": [
      "['Hi', 'good', 'morning', 'How', 'are', 'u', '?', 'Am', 'so', 'happy', 'for', 'this', 'day', 'because', \"i'll\", 'never', 'forget', 'this', 'day', 'this', 'is', 'soooooo', 'important', 'day', 'in', 'my', 'life']\n",
      "{'?': 1,\n",
      " 'Am': 1,\n",
      " 'Hi': 1,\n",
      " 'How': 1,\n",
      " 'are': 1,\n",
      " 'because': 1,\n",
      " 'day': 3,\n",
      " 'for': 1,\n",
      " 'forget': 1,\n",
      " 'good': 1,\n",
      " 'happy': 1,\n",
      " \"i'll\": 1,\n",
      " 'important': 1,\n",
      " 'in': 1,\n",
      " 'is': 1,\n",
      " 'life': 1,\n",
      " 'morning': 1,\n",
      " 'my': 1,\n",
      " 'never': 1,\n",
      " 'so': 1,\n",
      " 'soooooo': 1,\n",
      " 'this': 3,\n",
      " 'u': 1}\n"
     ]
    }
   ],
   "source": [
    "# Frequency count 1st method\n",
    "\n",
    "import pprint\n",
    "def frequrncyCount(filepath):\n",
    "    count={}\n",
    "    with open(filepath, 'r') as f:\n",
    "        filedata = f.read().split()\n",
    "        print(filedata)\n",
    "        for i in filedata:\n",
    "            if i not in count:\n",
    "                count[i] = 1\n",
    "            else:\n",
    "                count[i] +=1\n",
    "        pprint.pprint((count))\n",
    "        \n",
    "        \n",
    "filepath = \"DataFiles/data.txt\"\n",
    "frequrncyCount(filepath)"
   ]
  },
  {
   "cell_type": "code",
   "execution_count": 1,
   "metadata": {},
   "outputs": [
    {
     "name": "stdout",
     "output_type": "stream",
     "text": [
      "['Hi', 'good', 'morning', 'How', 'are', 'u', '?', 'Am', 'so', 'happy', 'for', 'this', 'day', 'because', \"i'll\", 'never', 'forget', 'this', 'day', 'this', 'is', 'soooooo', 'important', 'day', 'in', 'my', 'life']\n",
      "Hi :  1\n",
      "good :  1\n",
      "morning :  1\n",
      "How :  1\n",
      "are :  1\n",
      "u :  1\n",
      "? :  1\n",
      "Am :  1\n",
      "so :  1\n",
      "happy :  1\n",
      "for :  1\n",
      "this :  3\n",
      "day :  3\n",
      "because :  1\n",
      "i'll :  1\n",
      "never :  1\n",
      "forget :  1\n",
      "is :  1\n",
      "soooooo :  1\n",
      "important :  1\n",
      "in :  1\n",
      "my :  1\n",
      "life :  1\n"
     ]
    }
   ],
   "source": [
    "# Frequency count of all words\n",
    "# Frequency Distribution\n",
    "\n",
    "def frequencyCount(filepath): \n",
    "    count = {} \n",
    "    with open(filepath, \"r\") as f:\n",
    "        filedata = f.read().split()\n",
    "        print(filedata)\n",
    "        for i in filedata: \n",
    "            if i not in count: \n",
    "                count[i] = 1\n",
    "            else: \n",
    "                count[i] += 1\n",
    "  \n",
    "    for key, value in count.items(): \n",
    "        print (\"% s : % d\" %(key, value)) \n",
    "\n",
    "filepath = \"DataFiles/data.txt\"\n",
    "frequencyCount(filepath) "
   ]
  },
  {
   "cell_type": "code",
   "execution_count": null,
   "metadata": {},
   "outputs": [],
   "source": []
  },
  {
   "cell_type": "code",
   "execution_count": null,
   "metadata": {},
   "outputs": [],
   "source": []
  },
  {
   "cell_type": "code",
   "execution_count": null,
   "metadata": {},
   "outputs": [],
   "source": []
  },
  {
   "cell_type": "code",
   "execution_count": null,
   "metadata": {},
   "outputs": [],
   "source": []
  }
 ],
 "metadata": {
  "kernelspec": {
   "display_name": "Python 3",
   "language": "python",
   "name": "python3"
  },
  "language_info": {
   "codemirror_mode": {
    "name": "ipython",
    "version": 3
   },
   "file_extension": ".py",
   "mimetype": "text/x-python",
   "name": "python",
   "nbconvert_exporter": "python",
   "pygments_lexer": "ipython3",
   "version": "3.7.3"
  }
 },
 "nbformat": 4,
 "nbformat_minor": 2
}
