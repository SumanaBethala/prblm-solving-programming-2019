{
 "cells": [
  {
   "cell_type": "markdown",
   "metadata": {},
   "source": [
    "# Python Programming\n",
    "### Date 12 June 2019\n",
    "##### String Slicing\n",
    "##### Functions in Python\n",
    "##### Basic Problems related to conditional statements using functions\n",
    "##### Iteration in Python\n",
    "##### Problem set for practice\n"
   ]
  },
  {
   "cell_type": "markdown",
   "metadata": {},
   "source": [
    "## String Slicing"
   ]
  },
  {
   "cell_type": "code",
   "execution_count": 5,
   "metadata": {
    "scrolled": true
   },
   "outputs": [
    {
     "data": {
      "text/plain": [
       "'nhy'"
      ]
     },
     "execution_count": 5,
     "metadata": {},
     "output_type": "execute_result"
    }
   ],
   "source": [
    "S1 = \"Python\"\n",
    "S1[0] #Accessing the first character in a string\n",
    "S1[1] # Accessing the second character in a string\n",
    "S1[len(S1)-1] # Accessing the last character in a string\n",
    "\n",
    "S1[-1] #Another way of accessing the last character\n",
    "\n",
    "S1[-2] #Accessing the penultimate character of a string\n",
    "\n",
    "S1[0:2] #Accessing the first two characters in a string\n",
    "\n",
    "S1[-2:] # Accessing the last two characters in a string\n",
    "\n",
    "S1[4:] #Accessing all characters from 5th character to end of the string\n",
    "\n",
    "S1[1:-1] #Accessing all characters except first and last character\n",
    "\n",
    "S1[len(S1)//2] #Accessing the middle character in a string\n",
    "\n",
    "S1[-1::-1] #Reverse of a string\n",
    "\n",
    "S1[-1:-3:-1] #Accessing last two characters in reverse order\n",
    "\n",
    "S1[len(S1)//2:len(S1)//2-2:-1]# Reverse the middle two characters in an even length string\n",
    "\n",
    "S1[::2]# Accessing alternate characters in a string\n",
    "# \"Python\" -> \"Pto\"\n",
    "\n",
    "S1[::-2]# Accessing alternate characters in a string in a reverse order\n",
    "# \"Python\" -> \"nhy\"\n",
    "\n",
    "s[::-1]"
   ]
  },
  {
   "cell_type": "markdown",
   "metadata": {},
   "source": [
    "## Functions"
   ]
  },
  {
   "cell_type": "code",
   "execution_count": 6,
   "metadata": {},
   "outputs": [
    {
     "data": {
      "text/plain": [
       "'nohtyP'"
      ]
     },
     "execution_count": 6,
     "metadata": {},
     "output_type": "execute_result"
    }
   ],
   "source": [
    "#Function to reverse a string\n",
    "def reverseString(s):\n",
    "    return s[::-1]\n",
    "\n",
    "reverseString(\"Python\")"
   ]
  },
  {
   "cell_type": "code",
   "execution_count": 12,
   "metadata": {},
   "outputs": [
    {
     "data": {
      "text/plain": [
       "True"
      ]
     },
     "execution_count": 12,
     "metadata": {},
     "output_type": "execute_result"
    }
   ],
   "source": [
    "#Function to check if a string is a Palindrome\n",
    "def palindrome(s):\n",
    "    if s == s[::-1]:\n",
    "        return True\n",
    "    else:\n",
    "        return False\n",
    "    \n",
    "palindrome(\"racecar\")"
   ]
  },
  {
   "cell_type": "code",
   "execution_count": 23,
   "metadata": {},
   "outputs": [
    {
     "data": {
      "text/plain": [
       "3"
      ]
     },
     "execution_count": 23,
     "metadata": {},
     "output_type": "execute_result"
    }
   ],
   "source": [
    "#Function to count the number of digits in a given number\n",
    "def countDigits(n):\n",
    "    return len(str(n))\n",
    "\n",
    "countDigits(123)"
   ]
  },
  {
   "cell_type": "code",
   "execution_count": 1,
   "metadata": {},
   "outputs": [
    {
     "data": {
      "text/plain": [
       "7"
      ]
     },
     "execution_count": 1,
     "metadata": {},
     "output_type": "execute_result"
    }
   ],
   "source": [
    "#Function to identify the greatest of 4 numbers\n",
    "def great(a, b, c, d):\n",
    "    if (a>b and a>c and a>d):\n",
    "        return a\n",
    "    elif (b>c and b>d):\n",
    "        return b\n",
    "    elif(c>d):\n",
    "        return c\n",
    "    return d\n",
    "    \n",
    "great(3,6,7,5)"
   ]
  },
  {
   "cell_type": "markdown",
   "metadata": {},
   "source": [
    "# Iteration\n",
    "\n",
    "- for\n",
    "- while\n",
    "\n",
    "### For Loop in Python\n",
    "\n",
    "[101,210] (inclusive,exclusive) for i in range(101,211): print i\n",
    "\n",
    "o/p: 101 102 .... 210 for i in range(lb,ub+1) here inclusive means add +1 to the number"
   ]
  },
  {
   "cell_type": "code",
   "execution_count": 31,
   "metadata": {},
   "outputs": [
    {
     "name": "stdout",
     "output_type": "stream",
     "text": [
      "1 2 3 4 5 6 7 8 9 10 11 12 13 14 15 "
     ]
    }
   ],
   "source": [
    "#Function to print n natural numbers\n",
    "\n",
    "def printNNN(n):\n",
    "    for i in range(1,n+1):\n",
    "        print (i, end = \" \")\n",
    "    return\n",
    "\n",
    "printNNN(15)\n",
    "        "
   ]
  },
  {
   "cell_type": "code",
   "execution_count": 36,
   "metadata": {},
   "outputs": [
    {
     "name": "stdout",
     "output_type": "stream",
     "text": [
      "1 2 3 4 5 6 7 8 9 "
     ]
    }
   ],
   "source": [
    "#Function to print n natural numbers using while loop\n",
    "\n",
    "def NNN(n):\n",
    "    counter = 1\n",
    "    while counter <= n:\n",
    "        print(counter, end = \" \")\n",
    "        counter = counter + 1\n",
    "    return\n",
    "\n",
    "NNN(9)"
   ]
  },
  {
   "cell_type": "code",
   "execution_count": 36,
   "metadata": {},
   "outputs": [
    {
     "name": "stdout",
     "output_type": "stream",
     "text": [
      "6 12 18 24 30 36 42 48 54 60 66 72 78 84 90 96 102 108 114 120 126 132 138 144 150 156 162 168 174 180 186 192 198 204 210 216 222 228 234 240 246 252 258 264 270 276 282 288 294 306 "
     ]
    }
   ],
   "source": [
    "#Function to print all numbers divisible by 6 and not a factor of 100 in a given range(lb, ub) inclusive\n",
    "def number(lb,ub):\n",
    "    for i in range(lb,ub+1):\n",
    "        if (i%6==0 and i%100!=0):\n",
    "            print(i, end = \" \")\n",
    "number(6,306)"
   ]
  },
  {
   "cell_type": "code",
   "execution_count": 38,
   "metadata": {},
   "outputs": [
    {
     "name": "stdout",
     "output_type": "stream",
     "text": [
      "2\n",
      "4\n"
     ]
    },
    {
     "data": {
      "text/plain": [
       "36.0"
      ]
     },
     "execution_count": 38,
     "metadata": {},
     "output_type": "execute_result"
    }
   ],
   "source": [
    "#Function to find the average of cubes of all even numbers in a given range(lb, ub) inclusive\n",
    "def avgcubes(lb,ub):\n",
    "    sum=0\n",
    "    count=0\n",
    "    for i in range(lb,ub+1):\n",
    "        if i%2==0:\n",
    "            print (i)\n",
    "            sum+= i**3\n",
    "            count+= 1\n",
    "    return sum/count\n",
    "    \n",
    "avgcubes(1,4)"
   ]
  },
  {
   "cell_type": "code",
   "execution_count": 23,
   "metadata": {},
   "outputs": [
    {
     "name": "stdout",
     "output_type": "stream",
     "text": [
      "1 2 3 4 6 12\n"
     ]
    }
   ],
   "source": [
    "#Function to generate the list of factors for a given number 12 -> 1,2,3,4,6,12 \n",
    "def factors(n):\n",
    "    for i in range(1,n//2+1):\n",
    "        if(n%i==0):\n",
    "            print(i, end=\" \")\n",
    "    print(n)\n",
    "    return\n",
    "            \n",
    "factors(12)"
   ]
  },
  {
   "cell_type": "code",
   "execution_count": 22,
   "metadata": {},
   "outputs": [
    {
     "name": "stdout",
     "output_type": "stream",
     "text": [
      "120\n"
     ]
    }
   ],
   "source": [
    "#Function to calculate the factorial of a given number\n",
    "\n",
    "def fact(n):\n",
    "    f=1\n",
    "    for i in range(1,n+1):\n",
    "        f = f*i\n",
    "    print(f)\n",
    "  \n",
    "fact(5)\n"
   ]
  },
  {
   "cell_type": "code",
   "execution_count": 103,
   "metadata": {},
   "outputs": [
    {
     "name": "stdout",
     "output_type": "stream",
     "text": [
      "1\n",
      "3\n",
      "37\n",
      "111\n",
      "Not a prime\n"
     ]
    }
   ],
   "source": [
    "#Function to check if a given number is Prime\n",
    "def prime(n):\n",
    "    count=0\n",
    "    for i in range(1,n+1):\n",
    "        if(n%i==0):\n",
    "            print(i)\n",
    "            count= count+1\n",
    "    if(count==2):\n",
    "        print(\"Prime\")\n",
    "    else:\n",
    "        print(\"Not a prime\")\n",
    "                \n",
    "prime(111)"
   ]
  },
  {
   "cell_type": "code",
   "execution_count": 106,
   "metadata": {},
   "outputs": [
    {
     "name": "stdout",
     "output_type": "stream",
     "text": [
      "13 "
     ]
    }
   ],
   "source": [
    "#Function to generate N Prime Numbers\n",
    "def prime(n):\n",
    "    count=0\n",
    "    for i in range(1,n+1):\n",
    "        if(n%i==0):\n",
    "            count=count+1\n",
    "    if(count==2):\n",
    "        print(i, end=\" \")\n",
    "    else:\n",
    "        print(\"not a prime\")\n",
    "    \n",
    "prime(13)\n",
    "    "
   ]
  },
  {
   "cell_type": "code",
   "execution_count": 1,
   "metadata": {},
   "outputs": [
    {
     "data": {
      "text/plain": [
       "31.95"
      ]
     },
     "execution_count": 1,
     "metadata": {},
     "output_type": "execute_result"
    }
   ],
   "source": [
    "#Function to calculate the average first N Prime numbers\n",
    "def isprime(n):\n",
    "    count=0\n",
    "    for i in range(1,n+1):\n",
    "        if(n%i==0):\n",
    "            count=count+1\n",
    "    if(count==2):\n",
    "        return True\n",
    "    return False\n",
    "        \n",
    "def avgNPrimes(n):\n",
    "    primecount=0\n",
    "    sum=0\n",
    "    seqcount=2\n",
    "    while(primecount<n):\n",
    "        if isprime(seqcount):\n",
    "            primecount+=1\n",
    "            sum+=seqcount\n",
    "        seqcount+=1\n",
    "    return sum/n\n",
    "\n",
    "avgNPrimes(20)"
   ]
  },
  {
   "cell_type": "code",
   "execution_count": 2,
   "metadata": {},
   "outputs": [
    {
     "data": {
      "text/plain": [
       "31.95"
      ]
     },
     "execution_count": 2,
     "metadata": {},
     "output_type": "execute_result"
    }
   ],
   "source": [
    "# Another method for avg of n prime numbers\n",
    "\n",
    "def isPrime(n):\n",
    "    flag = True\n",
    "    for i in range(2, n//2+1):\n",
    "        if n % i == 0:\n",
    "            flag = False\n",
    "            return flag\n",
    "    return flag\n",
    "\n",
    "def avgNPrimes(n):\n",
    "    primeCount = 0\n",
    "    sum = 0\n",
    "    seqCount = 2\n",
    "    while(primeCount < n):\n",
    "        if isPrime(seqCount):\n",
    "            primeCount += 1\n",
    "            sum += seqCount\n",
    "            #print(seqCount)\n",
    "        seqCount += 1\n",
    "    return sum/n\n",
    "\n",
    "avgNPrimes(20)"
   ]
  },
  {
   "cell_type": "code",
   "execution_count": 62,
   "metadata": {},
   "outputs": [
    {
     "name": "stdout",
     "output_type": "stream",
     "text": [
      "6 28 496 8128 "
     ]
    }
   ],
   "source": [
    "#Function to generate all perfect numbers in a given range\n",
    "\n",
    "def isperfect(n):\n",
    "    sum = 0\n",
    "    for i in range(1,n):\n",
    "        if n%i==0:\n",
    "            sum = sum+i\n",
    "    if sum == n:\n",
    "        return True\n",
    "    return False\n",
    "\n",
    "def perfectrange(lb,ub):\n",
    "    for i in range(lb, ub+1):\n",
    "        if isperfect(i):\n",
    "            print (i, end=\" \")\n",
    "    return\n",
    "         \n",
    "        \n",
    "perfectrange(1,8129)"
   ]
  },
  {
   "cell_type": "markdown",
   "metadata": {},
   "source": [
    "# 13 June 2019\n",
    "\n",
    "## Practice set"
   ]
  },
  {
   "cell_type": "code",
   "execution_count": 63,
   "metadata": {},
   "outputs": [
    {
     "name": "stdout",
     "output_type": "stream",
     "text": [
      "500 502 504 506 508 510 512 514 516 518 520 522 524 526 528 530 532 534 536 538 540 542 544 546 548 550 "
     ]
    }
   ],
   "source": [
    "#Function to print the alternate values in a range in the same line\n",
    "# In mathematics, [500, 550] -> 500 502 504 .......... 550\n",
    "# (500, 550) -> 501 503 505 .......... 549\n",
    "# In Python, range(500,550) -> 500 501 502 ...... 549\n",
    "# All set based functions in Python have start value inclusive and end value exclusive\n",
    "\n",
    "def alternateValues(start, end):\n",
    "    for value in range(start, end+1, 2):\n",
    "        print(value, end=\" \")\n",
    "    return\n",
    "\n",
    "alternateValues(500,550)\n",
    "    \n"
   ]
  },
  {
   "cell_type": "code",
   "execution_count": 10,
   "metadata": {},
   "outputs": [
    {
     "name": "stdout",
     "output_type": "stream",
     "text": [
      "15 14 13 12 11 10 9 8 7 6 5 4 3 2 1 "
     ]
    }
   ],
   "source": [
    "# Function to print reverse of given range in the same line\n",
    "\n",
    "def reverseValues(lb, ub):\n",
    "    for i in range(ub, lb-1, -1):\n",
    "        print(i, end = \" \")\n",
    "\n",
    "reverseValues(1,15)"
   ]
  },
  {
   "cell_type": "code",
   "execution_count": 16,
   "metadata": {},
   "outputs": [
    {
     "name": "stdout",
     "output_type": "stream",
     "text": [
      "19 17 15 13 11 9 7 5 3 1 "
     ]
    }
   ],
   "source": [
    "# Function to print the odd numbers in reverse order in a range\n",
    "\n",
    "def oddReverse(start,end):\n",
    "    for i in range(end, start-1, -1):\n",
    "        if(i%2!=0):\n",
    "            print(i, end=\" \")\n",
    "\n",
    "oddReverse(1,20)"
   ]
  },
  {
   "cell_type": "code",
   "execution_count": 18,
   "metadata": {},
   "outputs": [
    {
     "name": "stdout",
     "output_type": "stream",
     "text": [
      "5050\n"
     ]
    }
   ],
   "source": [
    "# Function to calculate the sum of numbers in a range\n",
    "\n",
    "def sumNumbers(lb,ub):\n",
    "    sum = 0\n",
    "    for i in range(lb,ub+1):\n",
    "        sum=sum+i\n",
    "    print(sum)\n",
    "\n",
    "sumNumbers(1,100)\n",
    "\n",
    "# (100*101/2 - 1*2/2) = sum"
   ]
  },
  {
   "cell_type": "code",
   "execution_count": 2,
   "metadata": {},
   "outputs": [
    {
     "data": {
      "text/plain": [
       "3.0"
      ]
     },
     "execution_count": 2,
     "metadata": {},
     "output_type": "execute_result"
    }
   ],
   "source": [
    "#Function to calculate the average of a given range\n",
    "# (1,5) -> 3\n",
    "def avg(lb,ub):\n",
    "    sum = 0\n",
    "    #count = 0\n",
    "    for i in range(lb, ub+1):\n",
    "        sum = sum + i\n",
    "        #count = count + 1\n",
    "        a = sum/(ub-lb+1) #count\n",
    "    return a\n",
    "    \n",
    "avg(1,5)"
   ]
  },
  {
   "cell_type": "code",
   "execution_count": 6,
   "metadata": {},
   "outputs": [
    {
     "data": {
      "text/plain": [
       "True"
      ]
     },
     "execution_count": 6,
     "metadata": {},
     "output_type": "execute_result"
    }
   ],
   "source": [
    "#Function to check if a given year is a leap year\n",
    "def isLeapYear(year):\n",
    "    if (year % 400 == 0 or (year % 100 != 0 and year % 4 == 0)):\n",
    "        return True\n",
    "    return False\n",
    "\n",
    "isLeapYear(2016)"
   ]
  },
  {
   "cell_type": "code",
   "execution_count": 25,
   "metadata": {},
   "outputs": [
    {
     "name": "stdout",
     "output_type": "stream",
     "text": [
      "1920 1924 1928 1932 1936 1940 1944 1948 1952 1956 1960 1964 1968 1972 1976 1980 1984 1988 1992 1996 2000 2004 2008 2012 2016 2020 "
     ]
    }
   ],
   "source": [
    "# Function to generate the leap years in a given time period \n",
    "# (2000, 2020) -> 2000 2004 2008 2012 2016 2020\n",
    "\n",
    "#''''def leapyear(lb,ub):\n",
    "#    for i in range(lb,ub+1):\n",
    "#        if(i % 400 == 0 or (i % 100 != 0 and i % 4 == 0)):\n",
    "#            print(i, end = \" \")\n",
    "#    return\n",
    "#leapyear(1900,2021)''''\n",
    "\n",
    "def isLeapYear(year):\n",
    "    if year % 400 == 0 or (year % 100 != 0 and year % 4 == 0):\n",
    "        return True\n",
    "    return False\n",
    "\n",
    "def generateLeapYears(start, end):\n",
    "    for i in range(start,end+1):\n",
    "        if isLeapYear(i):\n",
    "            print(i, end=\" \")\n",
    "    return\n",
    "generateLeapYears(1919,2020)\n",
    "    "
   ]
  },
  {
   "cell_type": "code",
   "execution_count": 31,
   "metadata": {},
   "outputs": [
    {
     "data": {
      "text/plain": [
       "7671"
      ]
     },
     "execution_count": 31,
     "metadata": {},
     "output_type": "execute_result"
    }
   ],
   "source": [
    "# Calculate number of days in a given time period using leapyear logic\n",
    "# For every year in the given time period, if the year\n",
    "def totdaysyear(start, end):\n",
    "    sum=0\n",
    "    for i in range(start, end+1):\n",
    "        if isLeapYear(i):\n",
    "            sum = sum + 366\n",
    "        else:\n",
    "            sum = sum + 365\n",
    "    return sum\n",
    "\n",
    "totdaysyear(2000,2020)"
   ]
  },
  {
   "cell_type": "code",
   "execution_count": 91,
   "metadata": {},
   "outputs": [
    {
     "data": {
      "text/plain": [
       "1464"
      ]
     },
     "execution_count": 91,
     "metadata": {},
     "output_type": "execute_result"
    }
   ],
   "source": [
    "# Function to calculate number of hours for a given period in the format(month1, year1, month2, year2)\n",
    "# (07, 1994, 09, 1995) -> \n",
    "#(5, 2019, 6, 2019) -> 1464 (61* 24)\n",
    "#(11, 1975, 3, 1999) -> 205248\n",
    "# 2, 2016, 6, 2019\n",
    "#No of hours = 24 * No of days\n",
    "# 3 steps\n",
    "    # 1. Start month year to end of year - calculate no. of days\n",
    "    # 2. Calculate days for all years b/w start year and end year exclusive\n",
    "            # 2017, 2018 - 365 * No of years\n",
    "    # 3. Calculate days from Jan to end month year\n",
    "    \n",
    "# Excluding Feb\n",
    "  \n",
    "def numberOfDaysMonth(month, year):\n",
    "    if month == 2:\n",
    "        if isLeapYear(year):\n",
    "            return 29\n",
    "        return 28\n",
    "    elif (month <= 7 and month % 2!= 0) or (month >= 8 and month % 2 == 0):\n",
    "        return 31\n",
    "    else:\n",
    "        return 30\n",
    "\n",
    "def daysInStartYear(startmonth, startyear):\n",
    "    days = 0 \n",
    "    for month in range(startmonth, 13):\n",
    "        days += numberOfDaysMonth(month, startyear)\n",
    "    return days    \n",
    "\n",
    "def daysInEndYear(endmonth, endyear):\n",
    "    days = 0\n",
    "    for month in range(1, endmonth+1):\n",
    "        days += numberOfDaysMonth(month, endyear)\n",
    "    return days\n",
    "\n",
    "def numberOfHours(startmonth, startyear, endmonth, endyear):\n",
    "    days = 0\n",
    "    if startyear != endyear:\n",
    "        days += daysInStartYear(startmonth, startyear)\n",
    "        days += daysInEndYear(endmonth, endyear)\n",
    "        if endyear - startyear == 2: # 2019 - 2017\n",
    "            days += numberOfDays(startyear+1, startyear+1)\n",
    "        elif endyear - startyear > 2:\n",
    "            days += numberOfDays(startyear+1, endyear-1)\n",
    "    else:\n",
    "        for month in range(startmonth, endmonth+1):\n",
    "            days += numberOfDaysMonth(month, startyear)\n",
    "    return 24 * days\n",
    "\n",
    "numberOfHours(6, 2018, 7, 2018)"
   ]
  }
 ],
 "metadata": {
  "kernelspec": {
   "display_name": "Python 3",
   "language": "python",
   "name": "python3"
  },
  "language_info": {
   "codemirror_mode": {
    "name": "ipython",
    "version": 3
   },
   "file_extension": ".py",
   "mimetype": "text/x-python",
   "name": "python",
   "nbconvert_exporter": "python",
   "pygments_lexer": "ipython3",
   "version": "3.7.3"
  }
 },
 "nbformat": 4,
 "nbformat_minor": 2
}
