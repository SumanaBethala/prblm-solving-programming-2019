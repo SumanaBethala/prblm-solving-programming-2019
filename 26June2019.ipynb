{
 "cells": [
  {
   "cell_type": "markdown",
   "metadata": {},
   "source": [
    "## Date 26June2019\n",
    "\n",
    "# Day Objectives\n",
    "\n",
    "### Problem set\n",
    "\n",
    "- Largest number in a list\n",
    "- Second largest number in a list\n",
    "- Kth largest number in a list\n",
    "\n",
    "- Element with highest frequency\n",
    "- Second highest frequency\n",
    "- Kth highest frequency\n"
   ]
  },
  {
   "cell_type": "code",
   "execution_count": null,
   "metadata": {},
   "outputs": [],
   "source": [
    "# Using set\n",
    "\n",
    "li=[1,2,3,4,5,6,7,3,3,5,3,6,8,9]\n",
    "unique = set(li)\n",
    "print(unique)\n",
    "if unique == li:\n",
    "    print(\"yes\")\n",
    "else:\n",
    "    print(\"no\")"
   ]
  },
  {
   "cell_type": "code",
   "execution_count": 12,
   "metadata": {},
   "outputs": [],
   "source": [
    "# Function to Kth largest number in a list\n",
    "\n",
    "def kLargest(li,k):\n",
    "    # Convert the list into a unique list\n",
    "    # order, O(n)\n",
    "    unique=[]\n",
    "    for n in li:\n",
    "        if n not in unique:\n",
    "            unique.append(n)\n",
    "            \n",
    "    unique = sorted(unique, reverse = True)\n",
    "    if (len(unique)>=k):\n",
    "        return unique[k-1] # or k-1 for kth largest\n",
    "    else:\n",
    "        return -1\n",
    "#k=int(input())\n",
    "#kLargest([1,2,3,4,5-2,4,-5,3,76,8,67,-65,5,11,6,7,3,3,5,3,6,8,9],k)"
   ]
  },
  {
   "cell_type": "code",
   "execution_count": 26,
   "metadata": {},
   "outputs": [
    {
     "name": "stdout",
     "output_type": "stream",
     "text": [
      "2\n",
      "[3, 9]\n"
     ]
    },
    {
     "data": {
      "text/plain": [
       "9"
      ]
     },
     "execution_count": 26,
     "metadata": {},
     "output_type": "execute_result"
    }
   ],
   "source": [
    "# Function to Kth Smallest number in a list\n",
    "def kSmallest(li,k):\n",
    "    unique=[]\n",
    "    for n in li:\n",
    "        if n not in unique:\n",
    "            unique.append(n)\n",
    "            \n",
    "    unique = sorted(unique)\n",
    "    print(unique)\n",
    "    if (len(unique)>=k):\n",
    "        return unique[k-1] \n",
    "    else:\n",
    "        return -1\n",
    "k=int(input())\n",
    "kSmallest([3,3,3,3,9],k)\n",
    "\n",
    "    "
   ]
  },
  {
   "cell_type": "code",
   "execution_count": 50,
   "metadata": {},
   "outputs": [
    {
     "name": "stdout",
     "output_type": "stream",
     "text": [
      "{9: 1, 8: 1, 7: 1, 6: 1, 5: 1, 4: 1, 3: 1, 2: 2, 1: 1, 11: 1}\n",
      "dict_values([1, 1, 1, 1, 1, 1, 1, 2, 1, 1])\n",
      "2\n",
      "[2]\n"
     ]
    },
    {
     "data": {
      "text/plain": [
       "2"
      ]
     },
     "execution_count": 50,
     "metadata": {},
     "output_type": "execute_result"
    }
   ],
   "source": [
    "# Function to identify the Element with highest frequency\n",
    "# If many elements have the highest frequency\n",
    "#Highrst frequency element([1,2,3,9,8,7,4,3,2,1])\n",
    "\n",
    "def highFreqElement(li,k):\n",
    "    unique = {}\n",
    "    for n in li:\n",
    "        if n in unique:\n",
    "            unique[n] += 1\n",
    "        else:\n",
    "            unique[n] = 1\n",
    "    print(unique)\n",
    "    # Getting all frequencies into a list        \n",
    "    freq = unique.values()\n",
    "    print(freq)\n",
    "    maxfreq = max(freq)\n",
    "    print(maxfreq)\n",
    "    maxfreqE = []\n",
    "    \n",
    "    # Identify the keys with max frequency\n",
    "    for item in unique.items():\n",
    "        if item[1] == maxfreq:\n",
    "            maxfreqE.append(item[0])\n",
    "    print(maxfreqE)\n",
    "    \n",
    "            \n",
    "    # Select the minimum from the keys with max frequency\n",
    "    maxfreqE = sorted(maxfreqE)\n",
    "    return maxfreqE[k-1]\n",
    "    #return min(maxfreqE)\n",
    "    \n",
    "highFreqElement([9,8,7,6,5,4,3,2,1,2,11],1)        \n",
    "    \n"
   ]
  },
  {
   "cell_type": "code",
   "execution_count": 60,
   "metadata": {},
   "outputs": [
    {
     "name": "stdout",
     "output_type": "stream",
     "text": [
      "{1: 2, 2: 2, 3: 1, 4: 2, 9: 1}\n",
      "dict_values([2, 2, 1, 2, 1])\n",
      "[2, 1]\n",
      "1\n",
      "[3, 9]\n"
     ]
    },
    {
     "data": {
      "text/plain": [
       "3"
      ]
     },
     "execution_count": 60,
     "metadata": {},
     "output_type": "execute_result"
    }
   ],
   "source": [
    "# Kth highest frequency\n",
    "\n",
    "def khighFreq(li,k):\n",
    "    unique = {}\n",
    "    for n in li:\n",
    "        if n in unique:\n",
    "            unique[n] += 1\n",
    "        else:\n",
    "            unique[n] = 1\n",
    "    print(unique)\n",
    "    # Getting all frequencies into a list        \n",
    "    freq = unique.values()\n",
    "    print(freq)\n",
    "    a = kLargest(freq,k)\n",
    "    #maxfreq = max(freq)\n",
    "    print(a)\n",
    "    maxfreqE = []\n",
    "    \n",
    "     # Identify the keys with max frequency\n",
    "    for item in unique.items():\n",
    "        if item[1] == a:\n",
    "            maxfreqE.append(item[0])\n",
    "    print(maxfreqE)\n",
    "    \n",
    "            \n",
    "    # Select the minimum from the keys with max frequency\n",
    "    #maxfreqE = sorted(maxfreqE)\n",
    "    #return maxfreqE[k-1]\n",
    "    return min(maxfreqE)\n",
    "    \n",
    "khighFreq([1,2,3,2,1,4,4,9],2) "
   ]
  },
  {
   "cell_type": "code",
   "execution_count": 29,
   "metadata": {},
   "outputs": [
    {
     "name": "stdout",
     "output_type": "stream",
     "text": [
      "dict_values([3843, 3743, 3725, 3879, 3818, 3936, 3914, 3731, 3849, 3926, 3776, 3884, 3858, 3774, 3793, 3908, 3832, 3892, 3742, 3864, 3888, 3777, 3959, 3811, 3840, 4038])\n",
      "3731\n",
      "['s']\n",
      "s\n",
      "dict_values([3795, 3883, 3821, 3836, 3880, 3866, 3769, 3835, 3858, 3886, 3797, 3893, 3820, 3867, 3931, 3870, 3864, 3862, 3960, 3880, 3799, 3727, 3835, 3890, 3865, 3711])\n",
      "3870\n",
      "['g']\n",
      "g\n",
      "dict_values([3807, 3751, 3819, 3801, 3874, 3903, 3854, 3866, 3864, 3792, 3861, 3799, 3854, 3871, 3903, 3903, 3747, 3881, 3966, 3784, 3936, 3851, 3925, 3868, 3813, 3707])\n",
      "3854\n",
      "['x', 'h']\n",
      "h\n",
      "dict_values([3714, 3820, 3769, 3848, 3747, 3877, 3819, 3888, 3984, 4016, 3884, 3851, 3970, 3822, 3880, 3894, 3901, 3885, 3738, 3917, 3813, 3831, 3828, 3756, 3824, 3724])\n",
      "3877\n",
      "['e']\n",
      "e\n",
      "dict_values([3904, 3816, 3826, 3831, 3900, 3772, 3974, 3746, 3878, 3795, 3872, 3882, 3805, 3828, 3887, 3802, 3940, 3907, 3881, 3895, 3890, 3829, 3756, 3750, 3794, 3840])\n",
      "3802\n",
      "['w']\n",
      "w\n",
      "dict_values([3896, 3835, 3803, 3810, 3801, 3787, 3933, 3862, 3848, 3881, 3853, 3790, 3760, 3805, 3942, 3853, 3851, 3928, 3782, 3952, 3799, 3868, 3786, 3838, 3814, 3923])\n",
      "3848\n",
      "['r']\n",
      "r\n",
      "dict_values([3853, 3811, 3976, 3774, 3877, 3876, 3738, 3853, 3794, 3874, 3868, 3779, 3846, 3854, 3910, 3893, 3817, 3958, 3880, 3884, 3787, 3785, 3817, 3741, 3927, 3828])\n",
      "3927\n",
      "['n']\n",
      "n\n",
      "dict_values([3842, 3793, 3849, 3842, 3804, 3770, 3947, 3854, 3829, 3835, 3777, 3867, 3889, 3909, 3789, 3866, 3771, 3845, 3868, 3934, 3910, 3859, 3855, 3880, 3752, 3864])\n",
      "3880\n",
      "['k']\n",
      "k\n",
      "dict_values([3927, 3758, 3842, 3902, 3777, 3917, 3900, 3740, 3822, 3797, 3893, 3881, 3843, 3878, 3885, 3855, 3809, 3843, 3822, 3768, 3990, 3847, 3862, 3904, 3750, 3788])\n",
      "-1\n",
      "[]\n"
     ]
    },
    {
     "ename": "ValueError",
     "evalue": "min() arg is an empty sequence",
     "output_type": "error",
     "traceback": [
      "\u001b[1;31m---------------------------------------------------------------------------\u001b[0m",
      "\u001b[1;31mValueError\u001b[0m                                Traceback (most recent call last)",
      "\u001b[1;32m<ipython-input-29-fc1c295538fd>\u001b[0m in \u001b[0;36m<module>\u001b[1;34m\u001b[0m\n\u001b[0;32m     36\u001b[0m         \u001b[0mli\u001b[0m \u001b[1;33m=\u001b[0m \u001b[0mf\u001b[0m\u001b[1;33m.\u001b[0m\u001b[0mreadline\u001b[0m\u001b[1;33m(\u001b[0m\u001b[1;33m)\u001b[0m\u001b[1;33m.\u001b[0m\u001b[0mstrip\u001b[0m\u001b[1;33m(\u001b[0m\u001b[1;33m)\u001b[0m\u001b[1;33m\u001b[0m\u001b[1;33m\u001b[0m\u001b[0m\n\u001b[0;32m     37\u001b[0m         \u001b[0mk\u001b[0m\u001b[1;33m=\u001b[0m \u001b[0mint\u001b[0m\u001b[1;33m(\u001b[0m\u001b[0mf\u001b[0m\u001b[1;33m.\u001b[0m\u001b[0mreadline\u001b[0m\u001b[1;33m(\u001b[0m\u001b[1;33m)\u001b[0m\u001b[1;33m)\u001b[0m\u001b[1;33m\u001b[0m\u001b[1;33m\u001b[0m\u001b[0m\n\u001b[1;32m---> 38\u001b[1;33m         \u001b[0mprint\u001b[0m\u001b[1;33m(\u001b[0m\u001b[0mkhighFreq\u001b[0m\u001b[1;33m(\u001b[0m\u001b[0mli\u001b[0m\u001b[1;33m,\u001b[0m\u001b[0mk\u001b[0m\u001b[1;33m)\u001b[0m\u001b[1;33m)\u001b[0m\u001b[1;33m\u001b[0m\u001b[1;33m\u001b[0m\u001b[0m\n\u001b[0m\u001b[0;32m     39\u001b[0m \u001b[1;33m\u001b[0m\u001b[0m\n\u001b[0;32m     40\u001b[0m \u001b[1;31m#khighFreq([9,8,7,6,5,2,3,4,9,6,7,7,7,6,7,6],66)\u001b[0m\u001b[1;33m\u001b[0m\u001b[1;33m\u001b[0m\u001b[1;33m\u001b[0m\u001b[0m\n",
      "\u001b[1;32m<ipython-input-29-fc1c295538fd>\u001b[0m in \u001b[0;36mkhighFreq\u001b[1;34m(li, k)\u001b[0m\n\u001b[0;32m     29\u001b[0m     \u001b[1;31m#return maxfreqE[k-1]\u001b[0m\u001b[1;33m\u001b[0m\u001b[1;33m\u001b[0m\u001b[1;33m\u001b[0m\u001b[0m\n\u001b[0;32m     30\u001b[0m     \u001b[0mprint\u001b[0m\u001b[1;33m(\u001b[0m\u001b[0mmaxfreqE\u001b[0m\u001b[1;33m)\u001b[0m\u001b[1;33m\u001b[0m\u001b[1;33m\u001b[0m\u001b[0m\n\u001b[1;32m---> 31\u001b[1;33m     \u001b[1;32mreturn\u001b[0m \u001b[0mmin\u001b[0m\u001b[1;33m(\u001b[0m\u001b[0mmaxfreqE\u001b[0m\u001b[1;33m)\u001b[0m\u001b[1;33m\u001b[0m\u001b[1;33m\u001b[0m\u001b[0m\n\u001b[0m\u001b[0;32m     32\u001b[0m \u001b[1;33m\u001b[0m\u001b[0m\n\u001b[0;32m     33\u001b[0m \u001b[1;32mwith\u001b[0m \u001b[0mopen\u001b[0m\u001b[1;33m(\u001b[0m\u001b[1;34m\"DataFiles/k-largest-frequency-input.txt\"\u001b[0m\u001b[1;33m,\u001b[0m \u001b[1;34m\"r\"\u001b[0m\u001b[1;33m)\u001b[0m \u001b[1;32mas\u001b[0m \u001b[0mf\u001b[0m\u001b[1;33m:\u001b[0m\u001b[1;33m\u001b[0m\u001b[1;33m\u001b[0m\u001b[0m\n",
      "\u001b[1;31mValueError\u001b[0m: min() arg is an empty sequence"
     ]
    }
   ],
   "source": [
    "# Kth highest frequency\n",
    "\n",
    "def khighFreq(li,k):\n",
    "    unique = {}\n",
    "    for n in li:\n",
    "        if n in unique:\n",
    "            unique[n] += 1\n",
    "        else:\n",
    "            unique[n] = 1\n",
    "    # Getting all frequencies into a list        \n",
    "    freq = unique.values()\n",
    "    print(freq)\n",
    "    if len(freq) >= k:\n",
    "        a = kLargest(freq,k)\n",
    "        #maxfreq = max(freq)\n",
    "        print(a)\n",
    "    else:\n",
    "        return -1\n",
    "    maxfreqE = []\n",
    "    \n",
    "    # Identify the keys with max frequency\n",
    "    for item in unique.items():\n",
    "        if item[1] == a:\n",
    "            maxfreqE.append(item[0])\n",
    "    \n",
    "            \n",
    "    # Select the minimum from the keys with max frequency\n",
    "    #maxfreqE = sorted(maxfreqE)\n",
    "    #return maxfreqE[k-1]\n",
    "    print(maxfreqE)\n",
    "    return min(maxfreqE)\n",
    "\n",
    "with open(\"DataFiles/k-largest-frequency-input.txt\", \"r\") as f:\n",
    "    data = int(f.readline())\n",
    "    for i in range(data):\n",
    "        li = f.readline().strip()\n",
    "        k= int(f.readline())\n",
    "        print(khighFreq(li,k))\n",
    "    \n",
    "#khighFreq([9,8,7,6,5,2,3,4,9,6,7,7,7,6,7,6],66) "
   ]
  }
 ],
 "metadata": {
  "kernelspec": {
   "display_name": "Python 3",
   "language": "python",
   "name": "python3"
  },
  "language_info": {
   "codemirror_mode": {
    "name": "ipython",
    "version": 3
   },
   "file_extension": ".py",
   "mimetype": "text/x-python",
   "name": "python",
   "nbconvert_exporter": "python",
   "pygments_lexer": "ipython3",
   "version": "3.7.3"
  }
 },
 "nbformat": 4,
 "nbformat_minor": 2
}
