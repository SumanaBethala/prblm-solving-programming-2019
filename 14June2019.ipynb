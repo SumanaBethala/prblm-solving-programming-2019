{
 "cells": [
  {
   "cell_type": "markdown",
   "metadata": {},
   "source": [
    "# Problem Solving and Programming in Python\n",
    "\n",
    "#### Date 14 June 2019\n",
    "\n",
    "#### Day Objectives\n",
    "- Python Data Structures\n",
    "        - Lists\n",
    "        - Tuples\n",
    "        - Dictionaries\n",
    "- Basic Problem set on Data Structures\n",
    "- Advanced Problem Set\n",
    "- Packages and Modules in Python"
   ]
  },
  {
   "cell_type": "code",
   "execution_count": null,
   "metadata": {},
   "outputs": [],
   "source": []
  },
  {
   "cell_type": "markdown",
   "metadata": {},
   "source": [
    "## Python Data Structures\n",
    "\n",
    "### Lists"
   ]
  },
  {
   "cell_type": "code",
   "execution_count": 42,
   "metadata": {},
   "outputs": [
    {
     "data": {
      "text/plain": [
       "[123, 345, 654, 234, 456, 678]"
      ]
     },
     "execution_count": 42,
     "metadata": {},
     "output_type": "execute_result"
    }
   ],
   "source": [
    "li = [123, 978, 654]\n",
    "\n",
    "li #Access the entire list\n",
    "\n",
    "li[1] # Access an element with index in a list\n",
    "\n",
    "li[1:] # Access all elements from second element to last element\n",
    "\n",
    "li = li[::-1] # reversing list elements and reassigning to the original list\n",
    "\n",
    "li\n",
    "\n",
    "li = li[::-1]\n",
    "\n",
    "li[::2] # Accessing even index elements\n",
    "\n",
    "li[1::2] # Accessing odd index elements\n",
    "\n",
    "# Lists can be accessed, manipulated in two different ways\n",
    "    # Direct Referencing - [index]\n",
    "    # Indirect Referencing - through functions\n",
    "    \n",
    "li.append(345) # Adding an element to the end of the list\n",
    "\n",
    "li.insert(1,234) # Adding an element at a particular index\n",
    "\n",
    "li.sort() # Sort elements in ascending order\n",
    "\n",
    "li.pop() # Remove the last element in a list\n",
    "\n",
    "li.pop(1) # Remove the particular element in a list\n",
    "\n",
    "li2 = [234, 456, 678]\n",
    "\n",
    "li.extend(li2) # Merge list 2 into list 1\n",
    "\n",
    "sum(li) # Sum of all elements in a list\n",
    "max(li) # Maximum element in a list\n",
    "len(li) # Number of elements in a list\n",
    "\n",
    "sum(li)/len(li)\n",
    "\n",
    "sum(li[1::2])/len(li[1::2]) # Average of all alternate elements\n",
    "\n",
    "min(li)\n",
    "\n",
    "li.index(234)\n",
    "li"
   ]
  },
  {
   "cell_type": "code",
   "execution_count": 34,
   "metadata": {
    "scrolled": true
   },
   "outputs": [
    {
     "data": {
      "text/plain": [
       "123"
      ]
     },
     "execution_count": 34,
     "metadata": {},
     "output_type": "execute_result"
    }
   ],
   "source": [
    "# Function to identify the second largest element in a unique list\n",
    "        # Sort the data and select the second largest element\n",
    "        # Sort the data in reverse order, and select the second element\n",
    "        # Remove the max element and then get the max of the new list\n",
    "        # \n",
    "def secondLargest(li):\n",
    "    li.sort()\n",
    "    return li[-2]\n",
    "      \n",
    "# Function that returns the nth largest\n",
    "def genericLargest(li,n):\n",
    "    li.sort()\n",
    "    return li[-n]\n",
    "    \n",
    "genericLargest(li, 6)"
   ]
  },
  {
   "cell_type": "code",
   "execution_count": 43,
   "metadata": {
    "scrolled": true
   },
   "outputs": [
    {
     "data": {
      "text/plain": [
       "5"
      ]
     },
     "execution_count": 43,
     "metadata": {},
     "output_type": "execute_result"
    }
   ],
   "source": [
    "# Function to search for data in a list\n",
    "\n",
    "def linearSearch(li, key):\n",
    "    for index in range(0, len(li)):\n",
    "        if li[index] == key:\n",
    "            return index\n",
    "    return -1\n",
    "\n",
    "def linearSearch2(li, key):\n",
    "    for element in li:\n",
    "        if element == key:\n",
    "            return li.index(element)\n",
    "    return -1\n",
    "\n",
    "\n",
    "def linearSearch3(li, key):\n",
    "    if key in li:\n",
    "        return li.index(key)\n",
    "    return -1\n",
    "\n",
    "linearSearch3(li, 678)"
   ]
  },
  {
   "cell_type": "code",
   "execution_count": 47,
   "metadata": {},
   "outputs": [
    {
     "data": {
      "text/plain": [
       "1"
      ]
     },
     "execution_count": 47,
     "metadata": {},
     "output_type": "execute_result"
    }
   ],
   "source": [
    "# Function to count the occurances of a character\n",
    "# \"Python Programming\", m -> 2\n",
    "\n",
    "def countOccurances(s, ch):\n",
    "    count = 0\n",
    "    for ch in s:\n",
    "        if ch == c:\n",
    "            count += 1\n",
    "    return count\n",
    "\n",
    "def countCharOccurances2(s, c):\n",
    "            return s.count(c)\n",
    "    \n",
    "countCharOccurances2(\"Python Programming\", 'Py')\n",
    "\n",
    "\n",
    "    "
   ]
  },
  {
   "cell_type": "code",
   "execution_count": 2,
   "metadata": {},
   "outputs": [
    {
     "data": {
      "text/plain": [
       "2"
      ]
     },
     "execution_count": 2,
     "metadata": {},
     "output_type": "execute_result"
    }
   ],
   "source": [
    "#Function to find the number of occurances of \"abcabcddcba\", \"ab\" ->2\n",
    "\n",
    "def countCharOccurances2(s, c):\n",
    "            return s.count(c)\n",
    "    \n",
    "countCharOccurances2(\"abcabcddcba\", 'ab')\n",
    "\n",
    "\n"
   ]
  },
  {
   "cell_type": "code",
   "execution_count": 59,
   "metadata": {},
   "outputs": [
    {
     "data": {
      "text/plain": [
       "0"
      ]
     },
     "execution_count": 59,
     "metadata": {},
     "output_type": "execute_result"
    }
   ],
   "source": [
    "# \"abcabcddbcaaaa\" -> 3\n",
    "\n",
    "def strcount(string, substr):\n",
    "    count = 0\n",
    "    l= len(substr)\n",
    "    for i in range(len(string)):\n",
    "        if substr == string[::-1]:\n",
    "            count+=1\n",
    "    return count\n",
    "\n",
    "strcount(\"abcabcddbcaaaa\", 'aa')"
   ]
  },
  {
   "cell_type": "code",
   "execution_count": 56,
   "metadata": {},
   "outputs": [
    {
     "data": {
      "text/plain": [
       "[1, 2, 3, 4, 5, 6]"
      ]
     },
     "execution_count": 56,
     "metadata": {},
     "output_type": "execute_result"
    }
   ],
   "source": [
    "s=\"1 2 3 4 5 6\"\n",
    "li = s.split()\n",
    "nlist = []\n",
    "for i in li:\n",
    "    nlist.append(int(i))\n",
    "nlist"
   ]
  },
  {
   "cell_type": "code",
   "execution_count": 68,
   "metadata": {},
   "outputs": [
    {
     "name": "stdout",
     "output_type": "stream",
     "text": [
      "3\n",
      "14\n"
     ]
    }
   ],
   "source": [
    "n= int(input())\n",
    "def squaresum(n):\n",
    "    sum = 0\n",
    "    for i in range(1,n+1):\n",
    "        sum = sum + (i**2)\n",
    "    print(sum)\n",
    "    \n",
    "squaresum(n)"
   ]
  },
  {
   "cell_type": "code",
   "execution_count": 13,
   "metadata": {},
   "outputs": [
    {
     "name": "stdout",
     "output_type": "stream",
     "text": [
      "3\n",
      "-1 0 1\n"
     ]
    },
    {
     "data": {
      "text/plain": [
       "0"
      ]
     },
     "execution_count": 13,
     "metadata": {},
     "output_type": "execute_result"
    }
   ],
   "source": [
    "#Function to find the number Closest to Zero\n",
    "\n",
    "n = int(input())\n",
    "s = input()\n",
    "# \"1 2 3 4 5\"\n",
    "li =[]\n",
    "for i in s.split():\n",
    "    li.append(abs(int(i)))  # abs converts - values to + closest to 0\n",
    "\n",
    "def closest_zero(li):\n",
    "    if 0 in li:\n",
    "        return 0\n",
    "    else:\n",
    "        li.sort()\n",
    "        pc = []\n",
    "        nc = []\n",
    "        for i in li:\n",
    "            if i > 0:\n",
    "                pc.append(i)\n",
    "        for i in li:\n",
    "            if i < 0:\n",
    "                nc.append(i)\n",
    "        if len(nc)==0:\n",
    "            return min(pc)\n",
    "        elif len(pc)==0:\n",
    "            return max(nc)\n",
    "        else:\n",
    "            nz = max(nc)\n",
    "            pz = min(pc)\n",
    "            if abs(nc) > pc:\n",
    "                return pc\n",
    "            elif abs(nz) > pc or abs(nz) == pc:\n",
    "                return pz\n",
    "            else:\n",
    "                return nz\n",
    "    \n",
    "closest_zero(li)"
   ]
  },
  {
   "cell_type": "code",
   "execution_count": 11,
   "metadata": {},
   "outputs": [
    {
     "name": "stdout",
     "output_type": "stream",
     "text": [
      "4\n",
      "1 -2 2 3\n",
      "1\n"
     ]
    }
   ],
   "source": [
    "# Closest number to zero\n",
    "\n",
    "n = int(input())\n",
    "s= input()\n",
    "s= s.split()\n",
    "li = []\n",
    "for i in s:\n",
    "    li.append(int(i))\n",
    "\n",
    "pl = []\n",
    "for i in li:\n",
    "    pl.append(abs(i))\n",
    "pl.sort()\n",
    "if pl[0] in li:\n",
    "    print(pl[0])\n",
    "else:\n",
    "    print(-pl[0])"
   ]
  },
  {
   "cell_type": "code",
   "execution_count": 15,
   "metadata": {},
   "outputs": [
    {
     "name": "stdout",
     "output_type": "stream",
     "text": [
      "5\n",
      "-10 3 9 2 -1\n",
      "-10\n"
     ]
    }
   ],
   "source": [
    "# Function to find the Farthest number to zero\n",
    "\n",
    "n = int(input())\n",
    "s= input()\n",
    "s= s.split()\n",
    "li = []\n",
    "for i in s:\n",
    "    li.append(int(i))\n",
    "\n",
    "pl = []\n",
    "for i in li:\n",
    "    pl.append(abs(i))\n",
    "pl.sort()\n",
    "if pl[-1] in li:\n",
    "    print(pl[-1])\n",
    "else:\n",
    "    print(-pl[-1])"
   ]
  },
  {
   "cell_type": "code",
   "execution_count": 33,
   "metadata": {},
   "outputs": [
    {
     "name": "stdout",
     "output_type": "stream",
     "text": [
      "3\n",
      "2\n",
      "9\n"
     ]
    },
    {
     "data": {
      "text/plain": [
       "8"
      ]
     },
     "execution_count": 33,
     "metadata": {},
     "output_type": "execute_result"
    }
   ],
   "source": [
    "# a,b,c and print the largest number which is less than or equal to c if the number leaves remainder b when divide by a\n",
    "\n",
    "def call(a,b,c):\n",
    "    for i in range(c, a-1,-1):\n",
    "        if (i%a == b):\n",
    "            return i\n",
    "    return -1\n",
    "\n",
    "a=int(input())\n",
    "b= int(input())\n",
    "c= int(input())\n",
    "\n",
    "call(a, b, c)"
   ]
  },
  {
   "cell_type": "code",
   "execution_count": 2,
   "metadata": {},
   "outputs": [
    {
     "name": "stdout",
     "output_type": "stream",
     "text": [
      "1\n",
      "10\n",
      "1\n"
     ]
    },
    {
     "data": {
      "text/plain": [
       "10"
      ]
     },
     "execution_count": 2,
     "metadata": {},
     "output_type": "execute_result"
    }
   ],
   "source": [
    "def countDivisor(l,r,k):\n",
    "    count = 0\n",
    "    for i in range(l, r+1):\n",
    "        if (i%k == 0):\n",
    "            count = count +1\n",
    "    return count\n",
    "\n",
    "l=int(input())\n",
    "r=int(input())\n",
    "k=int(input())\n",
    "countDivisor(l,r,k)"
   ]
  },
  {
   "cell_type": "code",
   "execution_count": 5,
   "metadata": {},
   "outputs": [
    {
     "data": {
      "text/plain": [
       "'SUMANA'"
      ]
     },
     "execution_count": 5,
     "metadata": {},
     "output_type": "execute_result"
    }
   ],
   "source": [
    "s=\"sumana\"\n",
    "s=s.upper()\n",
    "s"
   ]
  },
  {
   "cell_type": "code",
   "execution_count": 6,
   "metadata": {},
   "outputs": [
    {
     "data": {
      "text/plain": [
       "'sumana'"
      ]
     },
     "execution_count": 6,
     "metadata": {},
     "output_type": "execute_result"
    }
   ],
   "source": [
    "s.lower()"
   ]
  },
  {
   "cell_type": "code",
   "execution_count": 20,
   "metadata": {},
   "outputs": [
    {
     "name": "stdout",
     "output_type": "stream",
     "text": [
      "sUmAnA\n"
     ]
    }
   ],
   "source": [
    "s=\"SuMaNa\"\n",
    "k=\"\"\n",
    "for i in s:\n",
    "    if i.islower():\n",
    "        k= k+i.upper()\n",
    "    else:\n",
    "        k=k+i.lower()\n",
    "print(k)"
   ]
  },
  {
   "cell_type": "code",
   "execution_count": 8,
   "metadata": {},
   "outputs": [
    {
     "data": {
      "text/plain": [
       "'SuMaNa'"
      ]
     },
     "execution_count": 8,
     "metadata": {},
     "output_type": "execute_result"
    }
   ],
   "source": [
    "s"
   ]
  },
  {
   "cell_type": "code",
   "execution_count": 9,
   "metadata": {},
   "outputs": [
    {
     "data": {
      "text/plain": [
       "'SUMANA'"
      ]
     },
     "execution_count": 9,
     "metadata": {},
     "output_type": "execute_result"
    }
   ],
   "source": [
    "s.upper()"
   ]
  },
  {
   "cell_type": "code",
   "execution_count": 30,
   "metadata": {},
   "outputs": [
    {
     "name": "stdout",
     "output_type": "stream",
     "text": [
      "9\n",
      "2 3 5 7 "
     ]
    }
   ],
   "source": [
    "def isprime(k):\n",
    "    count = 0\n",
    "    for i in range(1,k+1):\n",
    "        if k%i == 0:\n",
    "            count= count+1\n",
    "    if count==2:\n",
    "        return i\n",
    "    return\n",
    "        \n",
    "def sys(lb,N):\n",
    "    for i in range(lb,N+1):\n",
    "        if isprime(i):\n",
    "            print(i, end=\" \")\n",
    "            \n",
    "N= int(input())\n",
    "sys(1,N)\n",
    "            "
   ]
  },
  {
   "cell_type": "code",
   "execution_count": 3,
   "metadata": {},
   "outputs": [
    {
     "name": "stdout",
     "output_type": "stream",
     "text": [
      "sumana\n",
      "sam\n",
      "['a', 'a', 'm', 'n', 's', 'u']\n",
      "['a', 'm', 's']\n"
     ]
    },
    {
     "data": {
      "text/plain": [
       "'NO'"
      ]
     },
     "execution_count": 3,
     "metadata": {},
     "output_type": "execute_result"
    }
   ],
   "source": [
    "s1 = input()\n",
    "s2 = input()\n",
    "l1=[]\n",
    "l2=[]\n",
    "def test(t):\n",
    "    for i in s1:\n",
    "        l1.append(i)\n",
    "    l1.sort()\n",
    "    print(l1)\n",
    "    for j in s2:\n",
    "        l2.append(j)\n",
    "    l2.sort()\n",
    "    print(l2)\n",
    "    if l1==l2:\n",
    "        return \"YES\"\n",
    "    else:\n",
    "        return \"NO\"\n",
    "test(3)"
   ]
  },
  {
   "cell_type": "code",
   "execution_count": 1,
   "metadata": {},
   "outputs": [
    {
     "name": "stdout",
     "output_type": "stream",
     "text": [
      "3\n",
      "sumana manasu\n",
      "YES\n",
      "sam samson\n",
      "NO\n",
      "sam sam\n",
      "YES\n"
     ]
    }
   ],
   "source": [
    "def test(h1,h2):\n",
    "    l1=[]\n",
    "    l2=[]\n",
    "    for i in h1:\n",
    "        l1.append(i)\n",
    "    l1.sort()\n",
    "    for j in h2:\n",
    "        l2.append(j)\n",
    "    l2.sort()\n",
    "    if l1==l2:\n",
    "        print(\"YES\")\n",
    "    else:\n",
    "        print(\"NO\")\n",
    "    \n",
    "t=int(input())\n",
    "for g in range(0,t):\n",
    "    s = input()\n",
    "    l = s.split()\n",
    "    h1=l[0]\n",
    "    h2=l[1]\n",
    "    test(h1,h2)"
   ]
  },
  {
   "cell_type": "code",
   "execution_count": null,
   "metadata": {},
   "outputs": [],
   "source": []
  }
 ],
 "metadata": {
  "kernelspec": {
   "display_name": "Python 3",
   "language": "python",
   "name": "python3"
  },
  "language_info": {
   "codemirror_mode": {
    "name": "ipython",
    "version": 3
   },
   "file_extension": ".py",
   "mimetype": "text/x-python",
   "name": "python",
   "nbconvert_exporter": "python",
   "pygments_lexer": "ipython3",
   "version": "3.7.3"
  }
 },
 "nbformat": 4,
 "nbformat_minor": 2
}
