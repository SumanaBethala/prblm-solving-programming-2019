{
 "cells": [
  {
   "cell_type": "markdown",
   "metadata": {},
   "source": [
    "### Date : 20 JUNE 2019\n",
    "\n",
    "### Day Objectives\n",
    "\n",
    "- Regular Expressions\n",
    "        - Constructing regular expressions for various use cases\n",
    "        - Regular expressions module and related in python\n",
    "        - Improving the contacts application with name and phone number\n",
    "- File Handling\n",
    "        - Text Files\n",
    "        - Upgrading the contacts application to store contact information in a text file\n",
    "\n",
    "\n",
    "### Regular Expressions\n",
    "\n",
    "- Pattern Matching\n",
    "- Symbolic Notation of a pattern\n",
    "           - Pattern : Format which repeats(Particular way or particular format)\n",
    "           - Pattern(RE) represents The set of all values matches that pattern\n",
    "           \n",
    "- [0-9] -> Any digit\n",
    "- [a-z] -> Any lower case alphabet\n",
    "- [2468]-> All single digit multiples of 2\n",
    "- [6428] ->order is not important : All single digit multiples of 2\n",
    "- [2864] ->order is not important :All single digit multiples of 2\n",
    "\n",
    "- ^[0-9]{1}$ -> highlights single digits only\n",
    "\n",
    "- ^[0-9]{3} -> highlights only first 3 characters\n",
    "\n",
    "- [0-9]{3}$ ->highlights only last 3 characters\n",
    "\n",
    "- [0-9]*0$ ->all multiples of 10\n",
    "\n",
    "- ^[1-9][0-9]*0$ -> All multiples of 10\n",
    "\n",
    "- ^([1-9][0-9]*[05])$|^([5])$ ->All multiples of 5\n",
    "\n",
    "- ^[1-9][0-9]{9}$ ->All 10 digit number\n",
    "\n",
    "- ^[6-9][0-9]{9}$|^[0][6-9][0-9]{9}$|^[+][6-9][0-9]{9}$ ->Validating phone number(india)(start with 9879 followed by 9)\n",
    "\n",
    "- ^[0-9a-z][0-9a-z_.]{4,13}[0-9a-z][@][0-9a-z]{3,18}[.][a-z]{2,4}$ -> Email Validation(username@domain.extension)\n",
    "\n",
    "\n",
    "    - username\n",
    "               - length of username:[6,15]\n",
    "               - No special characters other than _.\n",
    "               -  should not begin and with -.\n",
    "               - character set:all digits and alphabet\n",
    "    - domain\n",
    "                - length of domain:[3,18]\n",
    "                - no special characters\n",
    "                - character set:all digits and alphabet\n",
    "    - extension\n",
    "               - length of extension:[2,4]\n",
    "               - no speciaal characters\n",
    "               - character set:only lowercase alphaabet\n",
    "\n",
    "- [w][o][r][d] or word* or (word) ->searching for a word5 that starts with'a'\n",
    "\n",
    "- Any string of length 5 that starts with'a' and ends with 'z'\n",
    "\n",
    "- ^[a]...[z]$\n",
    "\n",
    "- ^[a].*[z]$ -> any string of any length starts with \"a\" and ends with \"z\"\n"
   ]
  },
  {
   "cell_type": "code",
   "execution_count": 9,
   "metadata": {},
   "outputs": [
    {
     "data": {
      "text/plain": [
       "True"
      ]
     },
     "execution_count": 9,
     "metadata": {},
     "output_type": "execute_result"
    }
   ],
   "source": [
    "# Function to validate a phone number\n",
    "\n",
    "import re\n",
    "def phonenumberValidator(number):\n",
    "    pattern  = '^[6-9][0-9]{9}$|^[0][6-9][0-9]{9}$|^[+][6-9][0-9]{9}$'\n",
    "    if re.match(pattern,str(number)):\n",
    "        return True\n",
    "    return False\n",
    "phonenumberValidator(8523874274)\n",
    "\n",
    "def emailValidator(email):\n",
    "    pattern = '^[0-9a-z][0-9a-z_.]{4,13}[0-9a-z][@][0-9a-z]{3,18}[.][a-z]{2,5}$'\n",
    "    if re.match(pattern,email):\n",
    "        return True\n",
    "    return False\n",
    "\n",
    "emailValidator('sumana@gmail.com')"
   ]
  },
  {
   "cell_type": "code",
   "execution_count": 10,
   "metadata": {},
   "outputs": [
    {
     "name": "stdout",
     "output_type": "stream",
     "text": [
      "name3 is added\n"
     ]
    }
   ],
   "source": [
    "contacts={\"g1\":[9908699451,'g1name@domain.ext'],\"g2\":[98765432213,'g2name@domin.ext']}\n",
    "def addContact(name, phone, email):\n",
    "    if name not in contacts:\n",
    "        print(\"%s is added\" %name)\n",
    "    else:\n",
    "        if not phonenumberValidator(phone):\n",
    "            print(\"Invalid phone number\")\n",
    "            return\n",
    "        if not emailValidator(email):\n",
    "            print(\"Invalid email address\")\n",
    "            return\n",
    "        newcontact=[]\n",
    "        newcontact.append(phone)\n",
    "        newcontact.append(email)\n",
    "        contact[name]=newcontact\n",
    "    return\n",
    "\n",
    "addContact(\"name3\", 6758565873, \"hgfah@hgf.com\")"
   ]
  },
  {
   "cell_type": "code",
   "execution_count": 14,
   "metadata": {},
   "outputs": [
    {
     "name": "stdout",
     "output_type": "stream",
     "text": [
      "g1\n",
      "phone: 9908699451\n",
      "Email: g1name@domain.ext\n"
     ]
    }
   ],
   "source": [
    "def searchContact(name):\n",
    "    if name in contacts:\n",
    "        print(name)\n",
    "        print(\"phone:\", contacts[name][0])\n",
    "        print(\"Email:\",contacts[name][1])\n",
    "    else:\n",
    "        print(\"%s doesnot exist\"%name)\n",
    "    return\n",
    "searchContact(\"g1\")"
   ]
  },
  {
   "cell_type": "code",
   "execution_count": 15,
   "metadata": {},
   "outputs": [
    {
     "name": "stdout",
     "output_type": "stream",
     "text": [
      "1 added successfully\n"
     ]
    },
    {
     "data": {
      "text/plain": [
       "dict_items([('g1', [9908699451, 'g1name@domain.ext']), ('g2', [98765432213, 'g2name@domin.ext']), ('name4', [9561234567, 'name4@gmail.com'])])"
      ]
     },
     "execution_count": 15,
     "metadata": {},
     "output_type": "execute_result"
    }
   ],
   "source": [
    "# New contacts is given as a dictionary\n",
    "# Merge new contacts with existing contacts\n",
    "\n",
    "def importContacts(newContacts):\n",
    "    contacts.update(newContacts)\n",
    "    print(len(newContacts.keys()),\"added successfully\")\n",
    "    return\n",
    "\n",
    "newContacts={\"name4\":[9561234567,\"name4@gmail.com\"]}\n",
    "importContacts(newContacts)\n",
    "contacts.items()"
   ]
  },
  {
   "cell_type": "code",
   "execution_count": 16,
   "metadata": {},
   "outputs": [
    {
     "name": "stdout",
     "output_type": "stream",
     "text": [
      "g1 \n",
      " Phone : 9908699451 \n",
      " Email : g1name@domain.ext\n"
     ]
    }
   ],
   "source": [
    "# fUNCTION TO LIST ALL CONTACTS\n",
    "\n",
    "def listAllContacts():\n",
    "    for contact,info in contacts.items():\n",
    "        print(contact,\"\\n\",\"Phone :\",info[0],\"\\n\",\"Email :\",info[1])\n",
    "        return\n",
    "listAllContacts()"
   ]
  },
  {
   "cell_type": "code",
   "execution_count": null,
   "metadata": {},
   "outputs": [],
   "source": []
  },
  {
   "cell_type": "markdown",
   "metadata": {},
   "source": [
    "## *File Handling in Python *\n",
    "\n",
    "    - File - Document containing information residing on the permanent storage Types - Text,PDF,CSV,Image files...etc\n",
    "\n",
    "    - File I/O - Channelling I/O data to files Default I/O channels - Keyboard/screen\n",
    "\n",
    "    - change I/O channel to files for Reading and writing\n",
    "\n",
    "    - Read a file - Input from file Write to a file - Output to a file\n",
    "\n",
    "    - Read/write a file - open(filename,mode)"
   ]
  },
  {
   "cell_type": "code",
   "execution_count": 2,
   "metadata": {},
   "outputs": [
    {
     "name": "stdout",
     "output_type": "stream",
     "text": [
      "Hi good morning\n",
      "How are u ? \n",
      "Am so happy for this day because i'll never forget this day\n",
      "this is soooooo important day in my life\n",
      "\n"
     ]
    }
   ],
   "source": [
    "# Function to read a file\n",
    "\n",
    "def readFile(filename):\n",
    "    f=open(filename,'r')\n",
    "    filedata=f.read()\n",
    "    f.close()\n",
    "    return filedata\n",
    "filename='DataFiles/data.txt'\n",
    "for line in readFile(filename).split('\\n'):\n",
    "    print(line)"
   ]
  },
  {
   "cell_type": "code",
   "execution_count": 3,
   "metadata": {},
   "outputs": [
    {
     "name": "stdout",
     "output_type": "stream",
     "text": [
      "Hi good morning\n",
      "How are u ? \n",
      "Am so happy for this day because i'll never forget this day\n",
      "this is soooooo important day in my life\n"
     ]
    }
   ],
   "source": [
    "def readFile(filename):\n",
    "    f=open(filename,'r')\n",
    "    filedata=f.read()\n",
    "    f.close()\n",
    "    return filedata\n",
    "filename='DataFiles/data.txt'\n",
    "filedata=readFile(filename)\n",
    "def printFileDataLines(filename):\n",
    "    with open(filename,'r') as f:\n",
    "        for line in f:\n",
    "            print(line,end='')\n",
    "        return\n",
    "\n",
    "printFileDataLines(filename)"
   ]
  },
  {
   "cell_type": "code",
   "execution_count": 5,
   "metadata": {},
   "outputs": [],
   "source": [
    "# Function to write data into a file\n",
    "\n",
    "def writeIntoFile(filename,filedata):\n",
    "    with open(filename,'w') as f:\n",
    "        f.write(filedata)\n",
    "    return\n",
    "filename='DataFiles/data.txt'\n",
    "writeIntoFile(filename,\"new data\")"
   ]
  },
  {
   "cell_type": "code",
   "execution_count": 6,
   "metadata": {},
   "outputs": [],
   "source": [
    "# Function to append data to a file\n",
    "\n",
    "def appendDatatoFile(filename,filedata):\n",
    "    with open(filename,'a') as f:\n",
    "        for line in filedata:\n",
    "            f.write('\\n'+line)\n",
    "    return\n",
    "filedata=[\"Sumana\",\"Sam\"]\n",
    "appendDatatoFile(filename,filedata)"
   ]
  },
  {
   "cell_type": "code",
   "execution_count": null,
   "metadata": {},
   "outputs": [],
   "source": []
  },
  {
   "cell_type": "code",
   "execution_count": null,
   "metadata": {},
   "outputs": [],
   "source": []
  }
 ],
 "metadata": {
  "kernelspec": {
   "display_name": "Python 3",
   "language": "python",
   "name": "python3"
  },
  "language_info": {
   "codemirror_mode": {
    "name": "ipython",
    "version": 3
   },
   "file_extension": ".py",
   "mimetype": "text/x-python",
   "name": "python",
   "nbconvert_exporter": "python",
   "pygments_lexer": "ipython3",
   "version": "3.7.3"
  }
 },
 "nbformat": 4,
 "nbformat_minor": 2
}
