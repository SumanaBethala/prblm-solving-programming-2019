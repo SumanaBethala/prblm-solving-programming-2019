{
 "cells": [
  {
   "cell_type": "code",
   "execution_count": 4,
   "metadata": {},
   "outputs": [
    {
     "name": "stdout",
     "output_type": "stream",
     "text": [
      "['36', '67', '3667']\n"
     ]
    }
   ],
   "source": [
    "import re\n",
    "\n",
    "s = \"Hai 36 and 67 is 3667\"\n",
    "pattern = \"\\d+\"\n",
    "result = re.findall(pattern, s)\n",
    "print(result)"
   ]
  },
  {
   "cell_type": "code",
   "execution_count": 5,
   "metadata": {},
   "outputs": [
    {
     "data": {
      "text/plain": [
       "'Hai 36 and 67 is 3667'"
      ]
     },
     "execution_count": 5,
     "metadata": {},
     "output_type": "execute_result"
    }
   ],
   "source": [
    "s"
   ]
  },
  {
   "cell_type": "code",
   "execution_count": 6,
   "metadata": {},
   "outputs": [
    {
     "name": "stdout",
     "output_type": "stream",
     "text": [
      "['Hai ', ' and ', ' is ', '']\n"
     ]
    }
   ],
   "source": [
    "pattern = \"\\d+\"\n",
    "result = re.split(pattern, s)\n",
    "print(result)"
   ]
  },
  {
   "cell_type": "code",
   "execution_count": 19,
   "metadata": {},
   "outputs": [
    {
     "name": "stdout",
     "output_type": "stream",
     "text": [
      "['12', '8']\n"
     ]
    }
   ],
   "source": [
    "l= \"Twelve:12 Eight:8\"\n",
    "pattern = \"\\d+\"\n",
    "result = re.findall(pattern,l)\n",
    "print(result)"
   ]
  },
  {
   "cell_type": "code",
   "execution_count": 88,
   "metadata": {},
   "outputs": [
    {
     "name": "stdout",
     "output_type": "stream",
     "text": [
      "samsumana % samson prakash %\n"
     ]
    }
   ],
   "source": [
    "s = \"samsumana 36 samson prakash 67\"\n",
    "pattern = \"[0-9]+\"\n",
    "replace = \"%\"\n",
    "new = re.sub(pattern, replace, s)\n",
    "print(new)"
   ]
  },
  {
   "cell_type": "code",
   "execution_count": 37,
   "metadata": {},
   "outputs": [
    {
     "name": "stdout",
     "output_type": "stream",
     "text": [
      "('samsumana%36%samson%prakash%67', 4)\n"
     ]
    }
   ],
   "source": [
    "s = \"samsumana 36 samson prakash 67\"\n",
    "pattern = \"\\s+\"\n",
    "replace = \"%\"\n",
    "new = re.subn(pattern, replace, s)\n",
    "print(new)"
   ]
  },
  {
   "cell_type": "code",
   "execution_count": 36,
   "metadata": {},
   "outputs": [
    {
     "name": "stdout",
     "output_type": "stream",
     "text": [
      "found\n"
     ]
    }
   ],
   "source": [
    "s = \"samsumana 36 samson prakash 67\"\n",
    "pattern = \"\\Asam+\"\n",
    "#replace = \"\"\n",
    "new = re.search(pattern, s)\n",
    "if new:\n",
    "    print(\"found\")\n",
    "else:\n",
    "    print(\"not found\")"
   ]
  },
  {
   "cell_type": "code",
   "execution_count": 60,
   "metadata": {},
   "outputs": [
    {
     "data": {
      "text/plain": [
       "True"
      ]
     },
     "execution_count": 60,
     "metadata": {},
     "output_type": "execute_result"
    }
   ],
   "source": [
    "def emailValidator(email):\n",
    "    pattern = '^[0-9a-z][0-9a-z_.]{4,13}[0-9a-z][@][0-9a-z]{2,18}[.][a-z]{2,5}$'\n",
    "    if re.match(pattern,email):\n",
    "        return True\n",
    "    return False\n",
    "email=\"www.apssdc@ac.in\"\n",
    "emailValidator(email)"
   ]
  },
  {
   "cell_type": "code",
   "execution_count": 79,
   "metadata": {},
   "outputs": [
    {
     "name": "stdout",
     "output_type": "stream",
     "text": [
      "<re.Match object; span=(0, 1), match='w'>\n"
     ]
    }
   ],
   "source": [
    "pattern = \"[a-z0-9]\"\n",
    "#replace = \"*\"\n",
    "match = re.search(pattern, email )\n",
    "print(match)"
   ]
  },
  {
   "cell_type": "code",
   "execution_count": 94,
   "metadata": {},
   "outputs": [
    {
     "name": "stdout",
     "output_type": "stream",
     "text": [
      "HellodhgHellohfhdsghfdHellokfHellogdhfgegfjgHGJegK\n"
     ]
    }
   ],
   "source": [
    "s = \"jdhgjhfhdsghfdjkfjgdhfgegfjgHGJegK\"\n",
    "pattern = \"[j]\"\n",
    "replace = \"Hello\"\n",
    "new = re.sub(pattern, replace, s)\n",
    "print(new)"
   ]
  },
  {
   "cell_type": "code",
   "execution_count": 95,
   "metadata": {},
   "outputs": [
    {
     "name": "stdout",
     "output_type": "stream",
     "text": [
      "Enter file namembox-short.txt\n",
      "459815\n"
     ]
    }
   ],
   "source": [
    "import re\n",
    "name = input(\"Enter file name\")\n",
    "fh = open(name)\n",
    "x = list()\n",
    "for i in fh:\n",
    "    y = re.findall(\"[0-9]+\", i)\n",
    "    x = x+y\n",
    "sum = 0\n",
    "for i in x:\n",
    "    sum = sum + int(i)\n",
    "print(sum)"
   ]
  },
  {
   "cell_type": "code",
   "execution_count": 3,
   "metadata": {},
   "outputs": [
    {
     "name": "stdout",
     "output_type": "stream",
     "text": [
      "2\n",
      "sumana amitha asks sweets\n",
      "Valid\n",
      "samson native is dont know\n",
      "Invalid\n"
     ]
    }
   ],
   "source": [
    "def compare(s):\n",
    "    if len(s)==1:\n",
    "        print(\"Valid\")\n",
    "    else:\n",
    "        status = True\n",
    "        for i in range(1, len(s)):\n",
    "            word1 = s[i]\n",
    "            word2 = s[i-1]\n",
    "            if word1[0] != word2[-1]:\n",
    "                status = False\n",
    "        for i in s:\n",
    "            if s.count(i)>1:\n",
    "                status = False\n",
    "        if status:\n",
    "            print(\"Valid\")\n",
    "        else:\n",
    "            print(\"Invalid\")\n",
    "\n",
    "t = int(input())\n",
    "for i in range(0,t):\n",
    "    s = input().split()\n",
    "    compare(s)"
   ]
  },
  {
   "cell_type": "code",
   "execution_count": null,
   "metadata": {},
   "outputs": [],
   "source": []
  }
 ],
 "metadata": {
  "kernelspec": {
   "display_name": "Python 3",
   "language": "python",
   "name": "python3"
  },
  "language_info": {
   "codemirror_mode": {
    "name": "ipython",
    "version": 3
   },
   "file_extension": ".py",
   "mimetype": "text/x-python",
   "name": "python",
   "nbconvert_exporter": "python",
   "pygments_lexer": "ipython3",
   "version": "3.7.3"
  }
 },
 "nbformat": 4,
 "nbformat_minor": 2
}
