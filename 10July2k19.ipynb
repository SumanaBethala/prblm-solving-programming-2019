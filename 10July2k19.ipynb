{
 "cells": [
  {
   "cell_type": "code",
   "execution_count": 1,
   "metadata": {},
   "outputs": [
    {
     "name": "stdout",
     "output_type": "stream",
     "text": [
      "\n",
      "Dictionary with the use of Mixed Keys: \n",
      "{'Name': 'Geeks', 1: [1, 2, 3, 4]}\n"
     ]
    }
   ],
   "source": [
    "Dict = {'Name': 'Geeks', 1: [1, 2, 3, 4]} \n",
    "print(\"\\nDictionary with the use of Mixed Keys: \") \n",
    "print(Dict) "
   ]
  },
  {
   "cell_type": "code",
   "execution_count": 9,
   "metadata": {},
   "outputs": [
    {
     "name": "stdout",
     "output_type": "stream",
     "text": [
      "[0]\n",
      "[2]\n"
     ]
    }
   ],
   "source": [
    "# creating a new dictionary \n",
    "my_dict ={\"java\":100, \"python\":112, \"c\":11} \n",
    "  \n",
    "# list out keys and values separately \n",
    "key_list = list(my_dict.keys()) \n",
    "val_list = list(my_dict.values()) \n",
    "\n",
    "# print(key_list)\n",
    "print([val_list.index(100)])\n",
    "print([val_list.index(112)])\n",
    "  \n",
    "# print(key_list[val_list.index(100)]) \n",
    "# print(key_list[val_list.index(112)]) \n",
    "  \n",
    "# # one-liner \n",
    "# print(list(my_dict.keys())[list(my_dict.values()).index(112)]) \n"
   ]
  },
  {
   "cell_type": "code",
   "execution_count": 10,
   "metadata": {},
   "outputs": [
    {
     "data": {
      "text/plain": [
       "{'k1': 1, 'k2': 2}"
      ]
     },
     "execution_count": 10,
     "metadata": {},
     "output_type": "execute_result"
    }
   ],
   "source": [
    "d={\"k1\":1, \"k2\":2}\n",
    "d\n"
   ]
  },
  {
   "cell_type": "code",
   "execution_count": 13,
   "metadata": {},
   "outputs": [
    {
     "data": {
      "text/plain": [
       "{'k1': 1, 'k2': 3}"
      ]
     },
     "execution_count": 13,
     "metadata": {},
     "output_type": "execute_result"
    }
   ],
   "source": [
    "d[\"k2\"]=3\n",
    "d"
   ]
  },
  {
   "cell_type": "code",
   "execution_count": 14,
   "metadata": {},
   "outputs": [
    {
     "name": "stdout",
     "output_type": "stream",
     "text": [
      "\n",
      "Dictionary with each item as a pair: \n",
      "{1: 'Geeks', 2: 'For', 3: 'SamHany'}\n"
     ]
    }
   ],
   "source": [
    "# Creating a Dictionary \n",
    "# with each item as a Pair \n",
    "Dict = dict([(1, 'Geeks'), (2, 'For'),(3,\"SamHany\")]) \n",
    "print(\"\\nDictionary with each item as a pair: \") \n",
    "print(Dict) "
   ]
  },
  {
   "cell_type": "code",
   "execution_count": 3,
   "metadata": {},
   "outputs": [
    {
     "name": "stdout",
     "output_type": "stream",
     "text": [
      "2\n",
      "Hai\n",
      "Ibj\n",
      "Hello Welcome to my world Sam!\n",
      "Ifmmp Xfmdpnf up nz xpsme Tbn!\n"
     ]
    }
   ],
   "source": [
    "def alphaadd(s):\n",
    "    l = \"\"\n",
    "    for i in s:\n",
    "        if i.isalpha():\n",
    "            k = chr(ord(i)+1)\n",
    "            l = l + k\n",
    "        else:\n",
    "            l = l + i\n",
    "    print(l)\n",
    "        \n",
    "t = int(input())\n",
    "for i in range(0,t):\n",
    "    s = input()\n",
    "    alphaadd(s)"
   ]
  },
  {
   "cell_type": "code",
   "execution_count": null,
   "metadata": {},
   "outputs": [],
   "source": []
  }
 ],
 "metadata": {
  "kernelspec": {
   "display_name": "Python 3",
   "language": "python",
   "name": "python3"
  },
  "language_info": {
   "codemirror_mode": {
    "name": "ipython",
    "version": 3
   },
   "file_extension": ".py",
   "mimetype": "text/x-python",
   "name": "python",
   "nbconvert_exporter": "python",
   "pygments_lexer": "ipython3",
   "version": "3.7.3"
  }
 },
 "nbformat": 4,
 "nbformat_minor": 2
}
