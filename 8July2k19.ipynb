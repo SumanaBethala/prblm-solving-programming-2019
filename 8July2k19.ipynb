{
 "cells": [
  {
   "cell_type": "code",
   "execution_count": 32,
   "metadata": {},
   "outputs": [
    {
     "name": "stdout",
     "output_type": "stream",
     "text": [
      "1\n",
      "600\n",
      "6 12 18 24 30 36 42 48 54 60 66 72 78 84 90 96 102 108 114 120 126 132 138 144 150 156 162 168 174 180 186 192 198 204 210 216 222 228 234 240 246 252 258 264 270 276 282 288 294 300 306 312 318 324 330 336 342 348 354 360 366 372 378 384 390 396 402 408 414 420 426 432 438 444 450 456 462 468 474 480 486 492 498 504 510 516 522 528 534 540 546 552 558 564 570 576 582 588 594 600 "
     ]
    }
   ],
   "source": [
    "# Function to print all numbers divisible by 6 and not a factor of 100 in a given range(lb, ub) inclusive\n",
    "\n",
    "def divisible(lb,ub):\n",
    "    for i in range(lb,ub+1):\n",
    "        if (i%6 == 0 and 100%i != 0):\n",
    "            print(i, end = \" \")\n",
    "            \n",
    "lb = int(input())\n",
    "ub = int(input())\n",
    "divisible(lb,ub)"
   ]
  },
  {
   "cell_type": "code",
   "execution_count": 55,
   "metadata": {},
   "outputs": [
    {
     "name": "stdout",
     "output_type": "stream",
     "text": [
      "36.0\n"
     ]
    }
   ],
   "source": [
    "# Function to find the average of cubes of all even numbers in a given range(lb, ub) inclusive\n",
    "\n",
    "def evencubes(lb,ub):\n",
    "    sum = 0\n",
    "    count = 0\n",
    "    for i in range(lb,ub+1):\n",
    "        if i%2 == 0:\n",
    "            sum = sum + i**3\n",
    "            count = count + 1\n",
    "    print(sum/count)\n",
    "    \n",
    "evencubes(1,5)"
   ]
  },
  {
   "cell_type": "code",
   "execution_count": 31,
   "metadata": {},
   "outputs": [
    {
     "name": "stdout",
     "output_type": "stream",
     "text": [
      "100\n",
      "1 2 4 5 10 20 25 50 100 "
     ]
    }
   ],
   "source": [
    "# Function to generate the list of factors for a given number\n",
    "\n",
    "def factors(n):\n",
    "    for i in range(1,n+1):\n",
    "        if n%i == 0:\n",
    "            print(i, end = \" \")\n",
    "    return \n",
    "n=int(input())\n",
    "factors(n)"
   ]
  },
  {
   "cell_type": "code",
   "execution_count": 34,
   "metadata": {},
   "outputs": [
    {
     "name": "stdout",
     "output_type": "stream",
     "text": [
      "6\n",
      "720\n"
     ]
    }
   ],
   "source": [
    "# Function to calculate the factorial of a given number\n",
    "\n",
    "def factorial(n):\n",
    "    fact = 1\n",
    "    for i in range(1,n+1):\n",
    "        fact = fact *i\n",
    "    print(fact)\n",
    "    \n",
    "n = int(input())\n",
    "factorial(n)"
   ]
  },
  {
   "cell_type": "code",
   "execution_count": 40,
   "metadata": {},
   "outputs": [
    {
     "name": "stdout",
     "output_type": "stream",
     "text": [
      "199\n",
      "199  is a prime number\n"
     ]
    }
   ],
   "source": [
    "# Function to check if a given number is Prime\n",
    "\n",
    "def isprime(n):\n",
    "    count = 0\n",
    "    for i in range(1,n+1):\n",
    "        if n%i == 0:\n",
    "            count = count+1\n",
    "    if count == 2:\n",
    "        print(n, \" is a prime number\")\n",
    "    else:\n",
    "        print(n, \" is not a prime\")\n",
    "\n",
    "n = int(input())\n",
    "isprime(n)"
   ]
  },
  {
   "cell_type": "code",
   "execution_count": 49,
   "metadata": {},
   "outputs": [
    {
     "name": "stdout",
     "output_type": "stream",
     "text": [
      "4.25\n"
     ]
    }
   ],
   "source": [
    "# Function to calculate the average first N Prime numbers\n",
    "\n",
    "def isprime(n):\n",
    "    count = 0\n",
    "    for i in range(1,n+1):\n",
    "        if n%i == 0:\n",
    "            count = count+1\n",
    "    if count == 2:\n",
    "        return True\n",
    "    return False\n",
    "\n",
    "def nprimes(lb,ub):\n",
    "    count = 0\n",
    "    sum = 0\n",
    "    for i in range(lb, ub+1):\n",
    "        if isprime(i):\n",
    "            sum = sum + i\n",
    "            count = count +1\n",
    "    print(sum/count)\n",
    "    \n",
    "nprimes(1,10)"
   ]
  },
  {
   "cell_type": "code",
   "execution_count": null,
   "metadata": {},
   "outputs": [],
   "source": [
    "# Function to generate all Perfect numbers in a given range\n",
    "\n",
    "def isperfect(n):\n",
    "    sum = 0\n",
    "    for i in range(1,n):\n",
    "        if n%i == 0:\n",
    "            sum = sum + i\n",
    "    if sum == n:\n",
    "        return True\n",
    "    return False\n",
    "\n",
    "def perfectrange(lb,ub):\n",
    "    for i in range(lb,ub+1):\n",
    "        if isperfect(i):\n",
    "            print(i, end = \" \")\n",
    "            \n",
    "perfectrange(1,10)"
   ]
  },
  {
   "cell_type": "markdown",
   "metadata": {},
   "source": [
    "# Advanced problem set"
   ]
  },
  {
   "cell_type": "code",
   "execution_count": 65,
   "metadata": {},
   "outputs": [
    {
     "name": "stdout",
     "output_type": "stream",
     "text": [
      "30.6\n"
     ]
    }
   ],
   "source": [
    "# Function to calculate the average of all factorials in a given range\n",
    "\n",
    "def factorial(n):\n",
    "    fact = 1\n",
    "    for i in range(1,n+1):\n",
    "        fact = fact *i\n",
    "    return fact\n",
    "\n",
    "def factorialavg(lb,ub):\n",
    "    sum = 0\n",
    "    count = 0\n",
    "    for i in range(lb,ub+1):\n",
    "        sum = sum + factorial(i)\n",
    "        count = count + 1\n",
    "    print(sum/count)\n",
    "    \n",
    "factorialavg(1,5)"
   ]
  },
  {
   "cell_type": "code",
   "execution_count": 7,
   "metadata": {},
   "outputs": [
    {
     "name": "stdout",
     "output_type": "stream",
     "text": [
      "407\n",
      "407  is an Armstrong number\n"
     ]
    }
   ],
   "source": [
    "# Function to generate N Armstrong number\n",
    "\n",
    "def armstrong(n):\n",
    "    count = len(str(n))\n",
    "    temp = n\n",
    "    sum = 0\n",
    "    while temp > 0:\n",
    "        rem = temp % 10\n",
    "        sum = sum + rem**count\n",
    "        temp = temp//10\n",
    "    if n == sum:\n",
    "        print(n, \" is an Armstrong number\")\n",
    "    else:\n",
    "        print(n, \" is not an Armstrong number\")\n",
    "    \n",
    "n = int(input())\n",
    "armstrong(n)"
   ]
  },
  {
   "cell_type": "code",
   "execution_count": 3,
   "metadata": {},
   "outputs": [
    {
     "name": "stdout",
     "output_type": "stream",
     "text": [
      "100\n",
      "2000\n",
      "153  is an Armstrong number\n",
      "371  is an Armstrong number\n",
      "407  is an Armstrong number\n"
     ]
    }
   ],
   "source": [
    "# Function to generate N odd Armstrong numbers\n",
    "\n",
    "def oddarmstrong(lb, ub):\n",
    "    for i in range(lb,ub+1):\n",
    "        count = len(str(i))\n",
    "        temp = i\n",
    "        sum = 0\n",
    "        if i%2 != 0:\n",
    "            while temp > 0:\n",
    "                rem = temp % 10\n",
    "                sum = sum + rem**count\n",
    "                temp = temp//10\n",
    "            if i == sum:\n",
    "                print(i, \" is an Armstrong number\")\n",
    "                \n",
    "lb = int(input())\n",
    "ub = int(input())\n",
    "oddarmstrong(lb,ub)"
   ]
  },
  {
   "cell_type": "code",
   "execution_count": 67,
   "metadata": {},
   "outputs": [
    {
     "name": "stdout",
     "output_type": "stream",
     "text": [
      "10\n",
      "10 x 100 = 1000\n",
      "10 x 101 = 1010\n",
      "10 x 102 = 1020\n"
     ]
    }
   ],
   "source": [
    "# Function to generate Multiplication table for a number in a given range\n",
    "# 10 in the range(100, 102) inclusive\n",
    "# 10 x 100 = 1000\n",
    "# 10 x 101 = 1010\n",
    "# 10 x 102 = 1020\n",
    "    \n",
    "def mul(lb,ub):\n",
    "    for i in range(lb,ub+1):\n",
    "        print(a, \"x\", i, \"=\", a*i)\n",
    "        \n",
    "a = int(input())\n",
    "mul(100,102)"
   ]
  },
  {
   "cell_type": "markdown",
   "metadata": {},
   "source": [
    "# Additional problems"
   ]
  },
  {
   "cell_type": "code",
   "execution_count": 97,
   "metadata": {},
   "outputs": [
    {
     "name": "stdout",
     "output_type": "stream",
     "text": [
      "SuMaNa_LoVeS*ThE%MuSiC$\n",
      "sUmAnA_lOvEs*tHe%mUsIc$\n"
     ]
    }
   ],
   "source": [
    "# You are given a string and your task is to swap cases\n",
    "# In other words, convert all lowercase letters to uppercase letters and vice versa \n",
    "# The String may contain special characters\n",
    "\n",
    "s = input()\n",
    "print(s.swapcase())"
   ]
  },
  {
   "cell_type": "code",
   "execution_count": 12,
   "metadata": {},
   "outputs": [
    {
     "name": "stdout",
     "output_type": "stream",
     "text": [
      "100\n",
      "Not Wierd\n"
     ]
    }
   ],
   "source": [
    "# Given an integer, ’n’ , perform the following conditional actions:\n",
    "# If ‘n’  is odd, print Weird\n",
    "# If  ‘n’ is even and in the inclusive range of 2 to 5, print Not Weird\n",
    "# If  ‘n’ is even and in the inclusive range of 6 to 20 , print Weird\n",
    "# If  ‘n’ is even and greater than 20, print Not Weird\n",
    "\n",
    "n = int(input())\n",
    "if n%2 != 0:\n",
    "    print(\"Wierd\")\n",
    "elif 2<=n<=5 and n%2 == 0:\n",
    "    print(\"Not Wierd\")\n",
    "elif 6<=n<=20 and n%2 == 0:\n",
    "    print(\"Wierd\")\n",
    "elif n>20 and n%2 == 0:\n",
    "    print(\"Not Wierd\")"
   ]
  },
  {
   "cell_type": "code",
   "execution_count": null,
   "metadata": {},
   "outputs": [],
   "source": [
    "# Given the participants ‘n’ score sheet for your University Sports Day, you are required to find the runner-up score.\n",
    "# You are given scores. Store them in a list and find the score of the runner-up.\n",
    "# (there can be multiple winners - if their scores match). "
   ]
  }
 ],
 "metadata": {
  "kernelspec": {
   "display_name": "Python 3",
   "language": "python",
   "name": "python3"
  },
  "language_info": {
   "codemirror_mode": {
    "name": "ipython",
    "version": 3
   },
   "file_extension": ".py",
   "mimetype": "text/x-python",
   "name": "python",
   "nbconvert_exporter": "python",
   "pygments_lexer": "ipython3",
   "version": "3.7.3"
  }
 },
 "nbformat": 4,
 "nbformat_minor": 2
}
