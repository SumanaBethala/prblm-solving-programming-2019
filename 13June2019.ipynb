{
 "cells": [
  {
   "cell_type": "markdown",
   "metadata": {},
   "source": [
    "## Date 13June2019\n",
    "\n",
    "# Day Objectives\n",
    "\n",
    "**Practice set Problems**\n",
    "\n",
    "- Alternate values in a range\n",
    "- Reverse of a given range\n",
    "- Odd numbers in reverse order\n",
    "- Sum of no.s in a range\n",
    "- Average of a given range\n",
    "- Generate Leap year in a time period range\n",
    "- No. of days in a range of time period\n",
    "- No. of hours in a time period\n",
    "\n",
    "## Tasks\n",
    "\n",
    "- Average of all factorials in a range\n",
    "- Armstrong number\n",
    "- Multiplication table formation"
   ]
  },
  {
   "cell_type": "code",
   "execution_count": 1,
   "metadata": {},
   "outputs": [
    {
     "name": "stdout",
     "output_type": "stream",
     "text": [
      "500 502 504 506 508 510 512 514 516 518 520 522 524 526 528 530 532 534 536 538 540 542 544 546 548 550 "
     ]
    }
   ],
   "source": [
    "#Function to print the alternate values in a range in the same line\n",
    "# In mathematics, [500, 550] -> 500 502 504 .......... 550\n",
    "# (500, 550) -> 501 503 505 .......... 549\n",
    "# In Python, range(500,550) -> 500 501 502 ...... 549\n",
    "# All set based functions in Python have start value inclusive and end value exclusive\n",
    "\n",
    "def alternateValues(start, end):\n",
    "    for value in range(start, end+1, 2):\n",
    "        print(value, end=\" \")\n",
    "    return\n",
    "\n",
    "alternateValues(500,550)"
   ]
  },
  {
   "cell_type": "code",
   "execution_count": 2,
   "metadata": {},
   "outputs": [
    {
     "name": "stdout",
     "output_type": "stream",
     "text": [
      "15 14 13 12 11 10 9 8 7 6 5 4 3 2 1 "
     ]
    }
   ],
   "source": [
    "# Function to print reverse of given range in the same line\n",
    "\n",
    "def reverseValues(lb, ub):\n",
    "    for i in range(ub, lb-1, -1):\n",
    "        print(i, end = \" \")\n",
    "\n",
    "reverseValues(1,15)"
   ]
  },
  {
   "cell_type": "code",
   "execution_count": 3,
   "metadata": {},
   "outputs": [
    {
     "name": "stdout",
     "output_type": "stream",
     "text": [
      "19 17 15 13 11 9 7 5 3 1 "
     ]
    }
   ],
   "source": [
    "# Function to print the odd numbers in reverse order in a range\n",
    "\n",
    "def oddReverse(start,end):\n",
    "    for i in range(end, start-1, -1):\n",
    "        if(i%2!=0):\n",
    "            print(i, end=\" \")\n",
    "\n",
    "oddReverse(1,20)"
   ]
  },
  {
   "cell_type": "code",
   "execution_count": 4,
   "metadata": {},
   "outputs": [
    {
     "name": "stdout",
     "output_type": "stream",
     "text": [
      "5050\n"
     ]
    }
   ],
   "source": [
    "# Function to calculate the sum of numbers in a range\n",
    "\n",
    "def sumNumbers(lb,ub):\n",
    "    sum = 0\n",
    "    for i in range(lb,ub+1):\n",
    "        sum=sum+i\n",
    "    print(sum)\n",
    "\n",
    "sumNumbers(1,100)\n",
    "\n",
    "# (100*101/2 - 1*2/2) = sum"
   ]
  },
  {
   "cell_type": "code",
   "execution_count": 5,
   "metadata": {},
   "outputs": [
    {
     "data": {
      "text/plain": [
       "3.0"
      ]
     },
     "execution_count": 5,
     "metadata": {},
     "output_type": "execute_result"
    }
   ],
   "source": [
    "#Function to calculate the average of a given range\n",
    "# (1,5) -> 3\n",
    "def avg(lb,ub):\n",
    "    sum = 0\n",
    "    #count = 0\n",
    "    for i in range(lb, ub+1):\n",
    "        sum = sum + i\n",
    "        #count = count + 1\n",
    "        a = sum/(ub-lb+1) #count\n",
    "    return a\n",
    "    \n",
    "avg(1,5)"
   ]
  },
  {
   "cell_type": "code",
   "execution_count": 6,
   "metadata": {},
   "outputs": [
    {
     "name": "stdout",
     "output_type": "stream",
     "text": [
      "1920 1924 1928 1932 1936 1940 1944 1948 1952 1956 1960 1964 1968 1972 1976 1980 1984 1988 1992 1996 2000 2004 2008 2012 2016 2020 "
     ]
    }
   ],
   "source": [
    "# Function to generate the leap years in a given time period \n",
    "# (2000, 2020) -> 2000 2004 2008 2012 2016 2020\n",
    "\n",
    "#''''def leapyear(lb,ub):\n",
    "#    for i in range(lb,ub+1):\n",
    "#        if(i % 400 == 0 or (i % 100 != 0 and i % 4 == 0)):\n",
    "#            print(i, end = \" \")\n",
    "#    return\n",
    "#leapyear(1900,2021)''''\n",
    "\n",
    "def isLeapYear(year):\n",
    "    if year % 400 == 0 or (year % 100 != 0 and year % 4 == 0):\n",
    "        return True\n",
    "    return False\n",
    "\n",
    "def generateLeapYears(start, end):\n",
    "    for i in range(start,end+1):\n",
    "        if isLeapYear(i):\n",
    "            print(i, end=\" \")\n",
    "    return\n",
    "generateLeapYears(1919,2020)"
   ]
  },
  {
   "cell_type": "code",
   "execution_count": 7,
   "metadata": {},
   "outputs": [
    {
     "data": {
      "text/plain": [
       "7671"
      ]
     },
     "execution_count": 7,
     "metadata": {},
     "output_type": "execute_result"
    }
   ],
   "source": [
    "# Calculate number of days in a given time period using leapyear logic\n",
    "# For every year in the given time period, if the year\n",
    "def totdaysyear(start, end):\n",
    "    sum=0\n",
    "    for i in range(start, end+1):\n",
    "        if isLeapYear(i):\n",
    "            sum = sum + 366\n",
    "        else:\n",
    "            sum = sum + 365\n",
    "    return sum\n",
    "\n",
    "totdaysyear(2000,2020)"
   ]
  },
  {
   "cell_type": "code",
   "execution_count": 8,
   "metadata": {},
   "outputs": [
    {
     "data": {
      "text/plain": [
       "1464"
      ]
     },
     "execution_count": 8,
     "metadata": {},
     "output_type": "execute_result"
    }
   ],
   "source": [
    "# Function to calculate number of hours for a given period in the format(month1, year1, month2, year2)\n",
    "# (07, 1994, 09, 1995) -> \n",
    "#(5, 2019, 6, 2019) -> 1464 (61* 24)\n",
    "#(11, 1975, 3, 1999) -> 205248\n",
    "# 2, 2016, 6, 2019\n",
    "#No of hours = 24 * No of days\n",
    "# 3 steps\n",
    "    # 1. Start month year to end of year - calculate no. of days\n",
    "    # 2. Calculate days for all years b/w start year and end year exclusive\n",
    "            # 2017, 2018 - 365 * No of years\n",
    "    # 3. Calculate days from Jan to end month year\n",
    "    \n",
    "# Excluding Feb\n",
    "  \n",
    "def numberOfDaysMonth(month, year):\n",
    "    if month == 2:\n",
    "        if isLeapYear(year):\n",
    "            return 29\n",
    "        return 28\n",
    "    elif (month <= 7 and month % 2!= 0) or (month >= 8 and month % 2 == 0):\n",
    "        return 31\n",
    "    else:\n",
    "        return 30\n",
    "\n",
    "def daysInStartYear(startmonth, startyear):\n",
    "    days = 0 \n",
    "    for month in range(startmonth, 13):\n",
    "        days += numberOfDaysMonth(month, startyear)\n",
    "    return days    \n",
    "\n",
    "def daysInEndYear(endmonth, endyear):\n",
    "    days = 0\n",
    "    for month in range(1, endmonth+1):\n",
    "        days += numberOfDaysMonth(month, endyear)\n",
    "    return days\n",
    "\n",
    "def numberOfHours(startmonth, startyear, endmonth, endyear):\n",
    "    days = 0\n",
    "    if startyear != endyear:\n",
    "        days += daysInStartYear(startmonth, startyear)\n",
    "        days += daysInEndYear(endmonth, endyear)\n",
    "        if endyear - startyear == 2: # 2019 - 2017\n",
    "            days += numberOfDays(startyear+1, startyear+1)\n",
    "        elif endyear - startyear > 2:\n",
    "            days += numberOfDays(startyear+1, endyear-1)\n",
    "    else:\n",
    "        for month in range(startmonth, endmonth+1):\n",
    "            days += numberOfDaysMonth(month, startyear)\n",
    "    return 24 * days\n",
    "\n",
    "numberOfHours(6, 2018, 7, 2018)"
   ]
  },
  {
   "cell_type": "markdown",
   "metadata": {},
   "source": [
    "# Tasks"
   ]
  },
  {
   "cell_type": "code",
   "execution_count": 3,
   "metadata": {},
   "outputs": [
    {
     "data": {
      "text/plain": [
       "367083.0"
      ]
     },
     "execution_count": 3,
     "metadata": {},
     "output_type": "execute_result"
    }
   ],
   "source": [
    "# Function to calculate average of all factorials in a given range\n",
    "\n",
    "def fact(n):\n",
    "    f=1\n",
    "    for i in range(1,n+1):\n",
    "        f = f*i\n",
    "    return f\n",
    "\n",
    "def factavg(lb,ub):\n",
    "    sum = 0\n",
    "    count = 1\n",
    "    for i in range(lb,ub+1):\n",
    "        if fact(i):\n",
    "            sum = sum + fact(i)\n",
    "            count = count + 1\n",
    "    return sum/count\n",
    "    \n",
    "\n",
    "factavg(1,10)\n"
   ]
  },
  {
   "cell_type": "code",
   "execution_count": 13,
   "metadata": {},
   "outputs": [
    {
     "name": "stdout",
     "output_type": "stream",
     "text": [
      "153 is an Armstrong number\n"
     ]
    }
   ],
   "source": [
    "# Armstrong number\n",
    "\n",
    "def armstrong(n):\n",
    "    sum = 0\n",
    "    temp = n\n",
    "    while temp > 0:\n",
    "        rem= temp % 10\n",
    "        sum+= rem ** 3\n",
    "        temp//= 10\n",
    "    if n == sum:\n",
    "        print(n,\"is an Armstrong number\")\n",
    "    else:\n",
    "        print(n,\"is not an Armstrong number\")\n",
    "        \n",
    "armstrong(153)"
   ]
  },
  {
   "cell_type": "code",
   "execution_count": 3,
   "metadata": {},
   "outputs": [
    {
     "name": "stdout",
     "output_type": "stream",
     "text": [
      "1 x 1 = 1\n",
      "2 x 1 = 2\n",
      "3 x 1 = 3\n",
      "4 x 1 = 4\n",
      "5 x 1 = 5\n",
      "6 x 1 = 6\n",
      "7 x 1 = 7\n",
      "8 x 1 = 8\n",
      "9 x 1 = 9\n",
      "10 x 1 = 10\n",
      "1 x 2 = 2\n",
      "2 x 2 = 4\n",
      "3 x 2 = 6\n",
      "4 x 2 = 8\n",
      "5 x 2 = 10\n",
      "6 x 2 = 12\n",
      "7 x 2 = 14\n",
      "8 x 2 = 16\n",
      "9 x 2 = 18\n",
      "10 x 2 = 20\n"
     ]
    }
   ],
   "source": [
    "# Table formation\n",
    "\n",
    "def mul(a):\n",
    "    for i in range(1,a+1):\n",
    "        for j in range(1, 10+1):\n",
    "            print(j, \"x\", i, \"=\", i*j)\n",
    "            \n",
    "\n",
    "mul(2)"
   ]
  }
 ],
 "metadata": {
  "kernelspec": {
   "display_name": "Python 3",
   "language": "python",
   "name": "python3"
  },
  "language_info": {
   "codemirror_mode": {
    "name": "ipython",
    "version": 3
   },
   "file_extension": ".py",
   "mimetype": "text/x-python",
   "name": "python",
   "nbconvert_exporter": "python",
   "pygments_lexer": "ipython3",
   "version": "3.7.3"
  }
 },
 "nbformat": 4,
 "nbformat_minor": 2
}
