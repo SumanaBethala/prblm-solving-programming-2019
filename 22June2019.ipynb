{
 "cells": [
  {
   "cell_type": "markdown",
   "metadata": {},
   "source": [
    "### Day Objectives\n",
    "\n",
    "- File Handling\n",
    "     - Basic File Data Processing\n",
    "          - Accessing & Modifying File Data\n",
    "     - Character Count\n",
    "     - Line Count\n",
    "     - File Size\n",
    "     - Word Count\n",
    "     - Unique Word Count"
   ]
  },
  {
   "cell_type": "code",
   "execution_count": 51,
   "metadata": {},
   "outputs": [
    {
     "name": "stdout",
     "output_type": "stream",
     "text": [
      "Hi good morning.. \n",
      "How are u? \n",
      "Am so happy for this day because i'll never forget this day.. \n",
      "this is soooooo important day in my life\n",
      "\n"
     ]
    }
   ],
   "source": [
    "# Read a File - File should exist (Read Mode)\n",
    "# Write a File - Existing(Append Mode) or New File(Write Mode)\n",
    "\n",
    "def readFile(filepath):\n",
    "    with open(filepath, \"r\") as f:\n",
    "        filedata = f.read()\n",
    "    return filedata\n",
    "\n",
    "filepath = \"DataFiles/data.txt\"\n",
    "print(readFile(filepath))"
   ]
  },
  {
   "cell_type": "code",
   "execution_count": 50,
   "metadata": {
    "scrolled": true
   },
   "outputs": [
    {
     "name": "stdout",
     "output_type": "stream",
     "text": [
      "135\n",
      "Hi good morning.. \n",
      "How are u? \n",
      "Am so happy for this day because i'll never forget this day.. \n",
      "this is soooooo important day in my life\n",
      "\n"
     ]
    }
   ],
   "source": [
    "# Characters Count\n",
    "\n",
    "def charCount(filepath):\n",
    "    count = 0\n",
    "    with open(filepath, \"r\") as f:\n",
    "        filedata = f.read()\n",
    "        for i in filedata:\n",
    "            count+=1\n",
    "        print(count)\n",
    "    return filedata\n",
    "\n",
    "filepath = \"DataFiles/data.txt\"\n",
    "print(charCount(filepath))"
   ]
  },
  {
   "cell_type": "code",
   "execution_count": 59,
   "metadata": {},
   "outputs": [
    {
     "data": {
      "text/plain": [
       "4"
      ]
     },
     "execution_count": 59,
     "metadata": {},
     "output_type": "execute_result"
    }
   ],
   "source": [
    "# Lines count\n",
    "\n",
    "def lineCount(filepath):\n",
    "    count = 0\n",
    "    with open(filepath, \"r\") as f:\n",
    "        filedata = f.readlines()\n",
    "        for i in filedata:\n",
    "            count+=1\n",
    "        return count\n",
    "\n",
    "filepath = \"DataFiles/data.txt\"\n",
    "lineCount(filepath)"
   ]
  },
  {
   "cell_type": "code",
   "execution_count": 11,
   "metadata": {},
   "outputs": [
    {
     "data": {
      "text/plain": [
       "26"
      ]
     },
     "execution_count": 11,
     "metadata": {},
     "output_type": "execute_result"
    }
   ],
   "source": [
    "# Word Count\n",
    "\n",
    "def wordCount(filepath):\n",
    "    count = 0\n",
    "    with open(filepath, \"r\") as f:\n",
    "        filedata = f.read()\n",
    "        for i in filedata:\n",
    "            if (i==' '):\n",
    "                count+=1\n",
    "    return count+1\n",
    "\n",
    "filepath = \"DataFiles/data.txt\"\n",
    "wordCount(filepath)"
   ]
  },
  {
   "cell_type": "code",
   "execution_count": 12,
   "metadata": {},
   "outputs": [
    {
     "name": "stdout",
     "output_type": "stream",
     "text": [
      "['Hi', 'good', 'morning..', 'How', 'are', 'u?', 'Am', 'so', 'happy', 'for', 'this', 'day', 'because', \"i'll\", 'never', 'forget', 'this', 'day..', 'this', 'is', 'soooooo', 'important', 'day', 'in', 'my', 'life']\n"
     ]
    },
    {
     "data": {
      "text/plain": [
       "26"
      ]
     },
     "execution_count": 12,
     "metadata": {},
     "output_type": "execute_result"
    }
   ],
   "source": [
    "# Word count 2nd method\n",
    "\n",
    "def wordCount(filepath):\n",
    "    count = 0\n",
    "    with open(filepath, \"r\") as f:\n",
    "        filedata = f.read().split()\n",
    "        print(filedata)\n",
    "        p = len(filedata)\n",
    "    return p\n",
    "\n",
    "filepath = \"DataFiles/data.txt\"\n",
    "wordCount(filepath)"
   ]
  },
  {
   "cell_type": "code",
   "execution_count": 61,
   "metadata": {},
   "outputs": [
    {
     "data": {
      "text/plain": [
       "134"
      ]
     },
     "execution_count": 61,
     "metadata": {},
     "output_type": "execute_result"
    }
   ],
   "source": [
    "# File Size\n",
    "\n",
    "import os\n",
    "\n",
    "def fileSize(filepath):\n",
    "    with open(filepath, \"r\") as f:\n",
    "        filedata = os.path.getsize(filepath)\n",
    "        \n",
    "        #filedata = os.stat(filepath)\n",
    "    return filedata #.st_size\n",
    "\n",
    "filepath = \"DataFiles/data.txt\"\n",
    "fileSize(filepath)"
   ]
  },
  {
   "cell_type": "code",
   "execution_count": 36,
   "metadata": {
    "scrolled": true
   },
   "outputs": [
    {
     "name": "stdout",
     "output_type": "stream",
     "text": [
      "['Hi', 'good', 'morning..', 'How', 'are', 'u?', 'Am', 'so', 'happy', 'for', 'this', 'a', 'day', 'because', \"i'll\", 'never', 'forget', 'this', 'day..', 'this', 'is', 'soooooo', 'important', 'day', 'in', 'my', 'life', 'is', 'a', 'happy', 'for']\n",
      "['Hi', 'good', 'morning..', 'How', 'are', 'u?', 'Am', 'so', 'happy', 'for', 'this', 'a', 'day', 'because', \"i'll\", 'never', 'forget', 'day..', 'is', 'soooooo', 'important', 'in', 'my', 'life']\n",
      "24\n"
     ]
    }
   ],
   "source": [
    "# Unique Words Count\n",
    "\n",
    "def uniqueWord(filepath):\n",
    "    l=[]\n",
    "    count=0\n",
    "    with open(filepath, \"r\") as f:\n",
    "        filedata=f.read().split()\n",
    "        print(filedata)\n",
    "        for x in filedata:\n",
    "            if x not in l:\n",
    "                l.append(x)\n",
    "                count+=1\n",
    "        print(l)\n",
    "        print(count)\n",
    "        \n",
    "    \n",
    "    \n",
    "    \n",
    "filepath = \"DataFiles/data.txt\"\n",
    "uniqueWord(filepath)"
   ]
  }
 ],
 "metadata": {
  "kernelspec": {
   "display_name": "Python 3",
   "language": "python",
   "name": "python3"
  },
  "language_info": {
   "codemirror_mode": {
    "name": "ipython",
    "version": 3
   },
   "file_extension": ".py",
   "mimetype": "text/x-python",
   "name": "python",
   "nbconvert_exporter": "python",
   "pygments_lexer": "ipython3",
   "version": "3.7.3"
  }
 },
 "nbformat": 4,
 "nbformat_minor": 2
}
