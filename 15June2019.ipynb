{
 "cells": [
  {
   "cell_type": "code",
   "execution_count": 1,
   "metadata": {},
   "outputs": [
    {
     "name": "stdout",
     "output_type": "stream",
     "text": [
      "9\n",
      "2 3 5 7 "
     ]
    }
   ],
   "source": [
    "# Prime Numbers range\n",
    "\n",
    "def isprime(k):\n",
    "    count = 0\n",
    "    for i in range(1,k+1):\n",
    "        if k%i == 0:\n",
    "            count= count+1\n",
    "    if count==2:\n",
    "        return i\n",
    "    return\n",
    "        \n",
    "def sys(lb,N):\n",
    "    for i in range(lb,N+1):\n",
    "        if isprime(i):\n",
    "            print(i, end=\" \")\n",
    "            \n",
    "N= int(input())\n",
    "sys(1,N)"
   ]
  },
  {
   "cell_type": "code",
   "execution_count": 2,
   "metadata": {},
   "outputs": [
    {
     "name": "stdout",
     "output_type": "stream",
     "text": [
      "racecar\n",
      "YES\n"
     ]
    }
   ],
   "source": [
    "def palindrome(s):\n",
    "    if s[::-1] == s:\n",
    "        print(\"YES\")\n",
    "    else:\n",
    "        print(\"NO\")\n",
    "        \n",
    "s=input()\n",
    "\n",
    "palindrome(s)"
   ]
  },
  {
   "cell_type": "code",
   "execution_count": 3,
   "metadata": {},
   "outputs": [
    {
     "name": "stdout",
     "output_type": "stream",
     "text": [
      "1 100 4\n",
      "25\n"
     ]
    }
   ],
   "source": [
    "# Count Divisor\n",
    "\n",
    "def countDivisor(l,r,k):\n",
    "    count = 0\n",
    "    for i in range(l, r+1):\n",
    "        if (i%k == 0):\n",
    "            count = count +1\n",
    "    print (count)\n",
    "    \n",
    "s= input()\n",
    "\n",
    "s= s.split()\n",
    "\n",
    "l=int(s[0])\n",
    "r=int(s[1])\n",
    "k=int(s[2])\n",
    "\n",
    "countDivisor(l,r,k)\n"
   ]
  },
  {
   "cell_type": "code",
   "execution_count": 4,
   "metadata": {},
   "outputs": [
    {
     "name": "stdout",
     "output_type": "stream",
     "text": [
      "6\n",
      "720\n"
     ]
    }
   ],
   "source": [
    "# Factorial\n",
    "\n",
    "def fact(N):\n",
    "    f=1\n",
    "    for i in range(1,N+1):\n",
    "        f=f*i\n",
    "    print(f)\n",
    "    \n",
    "N=int(input())\n",
    "fact(N)"
   ]
  },
  {
   "cell_type": "code",
   "execution_count": 5,
   "metadata": {},
   "outputs": [
    {
     "name": "stdout",
     "output_type": "stream",
     "text": [
      "SuMaNaSaM\n",
      "sUmAnAsAm\n"
     ]
    }
   ],
   "source": [
    "# Toggle string\n",
    "\n",
    "def string(s):\n",
    "    newstr=\"\"\n",
    "    for i in s:\n",
    "        if i.islower():\n",
    "            newstr= newstr+i.upper()\n",
    "        else:\n",
    "            newstr=newstr+i.lower()\n",
    "    print(newstr)\n",
    "    \n",
    "s=input()\n",
    "string(s)"
   ]
  },
  {
   "cell_type": "code",
   "execution_count": 6,
   "metadata": {},
   "outputs": [
    {
     "name": "stdout",
     "output_type": "stream",
     "text": [
      "3\n",
      "sumana manasu\n",
      "YES\n",
      "sam mas\n",
      "YES\n",
      "samson sonsan\n",
      "NO\n"
     ]
    }
   ],
   "source": [
    "# Two strings\n",
    "\n",
    "def test(h1,h2):\n",
    "    l1=[]\n",
    "    l2=[]\n",
    "    for i in h1:\n",
    "        l1.append(i)\n",
    "    l1.sort()\n",
    "    for j in h2:\n",
    "        l2.append(j)\n",
    "    l2.sort()\n",
    "    if l1==l2:\n",
    "        print(\"YES\")\n",
    "    else:\n",
    "        print(\"NO\")\n",
    "    \n",
    "t=int(input())\n",
    "for g in range(0,t):\n",
    "    s = input()\n",
    "    l = s.split()\n",
    "    h1=l[0]\n",
    "    h2=l[1]\n",
    "    test(h1,h2)"
   ]
  },
  {
   "cell_type": "code",
   "execution_count": 7,
   "metadata": {},
   "outputs": [
    {
     "name": "stdout",
     "output_type": "stream",
     "text": [
      "Hello Kirti\n"
     ]
    }
   ],
   "source": [
    "# Hello\n",
    "\n",
    "print(\"Hello Kirti\")"
   ]
  },
  {
   "cell_type": "code",
   "execution_count": 8,
   "metadata": {},
   "outputs": [
    {
     "name": "stdout",
     "output_type": "stream",
     "text": [
      "sumana\n",
      "69\n"
     ]
    }
   ],
   "source": [
    "#Char sum\n",
    "\n",
    "def string(str):\n",
    "    sum=0\n",
    "    for i in str:\n",
    "        sum=sum+(ord(i)-96)\n",
    "    print(sum)\n",
    "    \n",
    "str=input()\n",
    "string(str)"
   ]
  },
  {
   "cell_type": "code",
   "execution_count": null,
   "metadata": {},
   "outputs": [],
   "source": []
  }
 ],
 "metadata": {
  "kernelspec": {
   "display_name": "Python 3",
   "language": "python",
   "name": "python3"
  },
  "language_info": {
   "codemirror_mode": {
    "name": "ipython",
    "version": 3
   },
   "file_extension": ".py",
   "mimetype": "text/x-python",
   "name": "python",
   "nbconvert_exporter": "python",
   "pygments_lexer": "ipython3",
   "version": "3.7.3"
  }
 },
 "nbformat": 4,
 "nbformat_minor": 2
}
