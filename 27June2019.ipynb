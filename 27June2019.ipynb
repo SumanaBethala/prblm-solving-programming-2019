{
 "cells": [
  {
   "cell_type": "markdown",
   "metadata": {},
   "source": [
    "## Date 27June2019\n",
    "\n",
    "# Day Objectives\n",
    "\n",
    "### Problem set\n",
    "\n",
    "- Combination of pairs\n",
    "- combination of 3 no.s in a list"
   ]
  },
  {
   "cell_type": "code",
   "execution_count": 3,
   "metadata": {},
   "outputs": [
    {
     "name": "stdout",
     "output_type": "stream",
     "text": [
      "1 2\n",
      "1 3\n",
      "1 4\n",
      "2 3\n",
      "2 4\n",
      "3 4\n"
     ]
    }
   ],
   "source": [
    "# Function to print all combinations of pairs of integers in a unique list\n",
    "# [1,2,3] -> (1,2) (1,3)(2,3) ->nC2 -> mfor this Ex: 3C2 = 3!/(3-2)!*2! with formula\n",
    "\n",
    "#[1,2,3,4] -> 1,2 1,3 1,4 2,3 2,4 3,4\n",
    "\n",
    "def combinations(li):\n",
    "    for i in range(len(li)-1):\n",
    "        for j in range(i+1, len(li)):\n",
    "            print(li[i],li[j])\n",
    "            \n",
    "combinations([1,2,3,4])"
   ]
  },
  {
   "cell_type": "code",
   "execution_count": 7,
   "metadata": {},
   "outputs": [
    {
     "name": "stdout",
     "output_type": "stream",
     "text": [
      "1 2 3\n",
      "1 2 4\n",
      "1 2 5\n",
      "1 3 4\n",
      "1 3 5\n",
      "1 4 5\n",
      "2 3 4\n",
      "2 3 5\n",
      "2 4 5\n",
      "3 4 5\n"
     ]
    }
   ],
   "source": [
    "#[1,2,3,4,5] -> 1,2,3 1,2,4 1,2,5 1,3,4 1,3,5 1,4,5 2,3,4 2,3,5 2,4,5 3,4,5\n",
    "\n",
    "def combinations3(li):\n",
    "    for i in range(len(li)-2):\n",
    "        for j in range(i+1, len(li)-1):\n",
    "            for k in range(j+1,len(li)):\n",
    "                print(li[i],li[j],li[k])\n",
    "                \n",
    "combinations3([1,2,3,4,5])"
   ]
  },
  {
   "cell_type": "code",
   "execution_count": 49,
   "metadata": {},
   "outputs": [
    {
     "data": {
      "text/plain": [
       "[[1, 9, 8, 7, 6, 2], [1, 9, 8, 7, 6, 2, 5, 3, 4]]"
      ]
     },
     "execution_count": 49,
     "metadata": {},
     "output_type": "execute_result"
    }
   ],
   "source": [
    "# Function to identify all pairs of numbers and add those differences to the same list\n",
    "# It returns the updated list and original list\n",
    "\n",
    "def diffPairs(li):\n",
    "    cli = li[:]\n",
    "    new = []\n",
    "    for i in range(len(li)-1):\n",
    "        for j in range(i+1, len(li)):\n",
    "            d=abs(li[i]-li[j])\n",
    "            if d not in li and d not in new:\n",
    "                new.append(d)\n",
    "    li.extend(new)\n",
    "    return [cli, li]\n",
    "li = [1,9,8,7,6,2]\n",
    "diffPairs(li)"
   ]
  },
  {
   "cell_type": "code",
   "execution_count": 50,
   "metadata": {},
   "outputs": [],
   "source": [
    "def medium(li,k):\n",
    "    count = 1\n",
    "    while(True):\n",
    "        li3 = diffPairs(li)\n",
    "        if li3[0] == li3[1]:\n",
    "            break\n",
    "    if len(li3[0]) >= k:\n",
    "        return sorted(li3[0], reverse = True)[k]\n",
    "    return -1\n",
    "\n",
    "medium"
   ]
  },
  {
   "cell_type": "code",
   "execution_count": null,
   "metadata": {},
   "outputs": [],
   "source": []
  },
  {
   "cell_type": "code",
   "execution_count": null,
   "metadata": {},
   "outputs": [],
   "source": []
  }
 ],
 "metadata": {
  "kernelspec": {
   "display_name": "Python 3",
   "language": "python",
   "name": "python3"
  },
  "language_info": {
   "codemirror_mode": {
    "name": "ipython",
    "version": 3
   },
   "file_extension": ".py",
   "mimetype": "text/x-python",
   "name": "python",
   "nbconvert_exporter": "python",
   "pygments_lexer": "ipython3",
   "version": "3.7.3"
  }
 },
 "nbformat": 4,
 "nbformat_minor": 2
}
