{
 "cells": [
  {
   "cell_type": "markdown",
   "metadata": {},
   "source": [
    "## Date 24June2019\n",
    "\n",
    "# Day Objectives\n",
    "\n",
    "### Problem set\n",
    "\n",
    "- Sum of digits\n",
    "- Word frequency\n"
   ]
  },
  {
   "cell_type": "code",
   "execution_count": 1,
   "metadata": {},
   "outputs": [
    {
     "name": "stdout",
     "output_type": "stream",
     "text": [
      "123\n",
      "[1, 2, 3]\n",
      "6\n"
     ]
    }
   ],
   "source": [
    "# Sum of digits\n",
    "\n",
    "def summation(n):\n",
    "    sum = 0\n",
    "    l=[]\n",
    "    for i in n:\n",
    "        l.append(int(i))\n",
    "    print(l)\n",
    "    for i in l:\n",
    "        sum +=i\n",
    "    print(sum)\n",
    "    \n",
    "    \n",
    "    \n",
    "n=input()\n",
    "# 1 2 3\n",
    "summation(n)"
   ]
  },
  {
   "cell_type": "code",
   "execution_count": 2,
   "metadata": {},
   "outputs": [
    {
     "name": "stdout",
     "output_type": "stream",
     "text": [
      "h874tyfg834yrufguh489y76fj\n",
      "[3, 4, 4, 4, 6, 7, 7, 8, 8, 8, 9]\n",
      "0 0 0 1 3 0 1 2 3 1 "
     ]
    }
   ],
   "source": [
    "# Word Frequency\n",
    "\n",
    "def freq(s):\n",
    "    count=0\n",
    "    l=[]\n",
    "    j=[]\n",
    "    for i in s:\n",
    "        l.append(i)\n",
    "    for i in l:\n",
    "        if i.isdigit():\n",
    "            j.append(int(i))\n",
    "    j.sort()\n",
    "    print(j)\n",
    "    for i in range(0,10):\n",
    "        if i in j:\n",
    "            print(j.count(i),end = ' ')\n",
    "        else:\n",
    "            print(\"0\", end = \" \")\n",
    "    \n",
    "    \n",
    "s=input()\n",
    "freq(s)\n",
    "    "
   ]
  }
 ],
 "metadata": {
  "kernelspec": {
   "display_name": "Python 3",
   "language": "python",
   "name": "python3"
  },
  "language_info": {
   "codemirror_mode": {
    "name": "ipython",
    "version": 3
   },
   "file_extension": ".py",
   "mimetype": "text/x-python",
   "name": "python",
   "nbconvert_exporter": "python",
   "pygments_lexer": "ipython3",
   "version": "3.7.3"
  }
 },
 "nbformat": 4,
 "nbformat_minor": 2
}
