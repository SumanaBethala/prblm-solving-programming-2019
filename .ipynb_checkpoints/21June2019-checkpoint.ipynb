{
 "cells": [
  {
   "cell_type": "markdown",
   "metadata": {},
   "source": [
    "## Date 21June2019\n",
    "\n",
    "# Day Objectives\n",
    "\n",
    "**Contact Applications**\n",
    "\n",
    "    - Add Contact\n",
    "    - Modify Contact\n",
    "    - Delete Contact\n",
    "    - Display all contacts\n",
    "    - Search Contact\n",
    "    \n",
    "### Hackerearth problems\n",
    "    \n",
    "- Birthday party\n",
    "- Old Legendary problem\n",
    "- Array sum\n"
   ]
  },
  {
   "cell_type": "code",
   "execution_count": 30,
   "metadata": {},
   "outputs": [
    {
     "data": {
      "text/plain": [
       "' name1, 9876543210, name1_23@gmail.com\\n'"
      ]
     },
     "execution_count": 30,
     "metadata": {},
     "output_type": "execute_result"
    }
   ],
   "source": [
    "# CSV to List\n",
    "\n",
    "filename = 'DataFiles/contacts.txt'\n",
    "def csvToList(filename):\n",
    "    li=[]\n",
    "    with open(filename, 'r') as f:\n",
    "        for line in f:\n",
    "            li.append(line.split(','))\n",
    "    return li\n",
    "\n",
    "def listToFile(li):\n",
    "    s=' '\n",
    "    for i in li:\n",
    "        s+= ','.join(i)\n",
    "    return s\n",
    "\n",
    "li = csvToList(filename)\n",
    "listToFile(li)"
   ]
  },
  {
   "cell_type": "code",
   "execution_count": 11,
   "metadata": {},
   "outputs": [
    {
     "name": "stdout",
     "output_type": "stream",
     "text": [
      "name1 already exists\n"
     ]
    }
   ],
   "source": [
    "# Function to add contact to contacts text file\n",
    "\n",
    "from Packages.validators import phonenumberValidator as pnv, emailValidator as ev\n",
    "\n",
    "def addContact(name, phone, email):\n",
    "    # store data as name, phone, email in the contacts file\n",
    "    filename = 'DataFiles/contacts.txt'\n",
    "    if not contactCheck(name):\n",
    "        if pnv(phone) and ev(email):\n",
    "            with open(filename, 'a') as f:\n",
    "                line = name + \", \"+str(phone)+', '+email\n",
    "                f.write(line)\n",
    "            print(name,'added to contacts')\n",
    "        else:\n",
    "            print('Invalid number or Email')\n",
    "        return\n",
    "    else:\n",
    "        print(name, 'already exists')\n",
    "    return\n",
    "\n",
    "\n",
    "\n",
    "import re\n",
    "# Function to check if contact already exists\n",
    "\n",
    "def contactCheck(name):\n",
    "    filename = 'DataFiles/contacts.txt'\n",
    "    with open(filename, 'r') as f:\n",
    "        filedata = f.read()\n",
    "        pattern = name +','\n",
    "    return re.search(pattern, filedata)\n",
    "\n",
    "\n",
    "addContact('name1', 8765432107, 'name2_34@gmail.com')"
   ]
  },
  {
   "cell_type": "code",
   "execution_count": 20,
   "metadata": {},
   "outputs": [
    {
     "data": {
      "text/plain": [
       "<re.Match object; span=(0, 6), match='name1,'>"
      ]
     },
     "execution_count": 20,
     "metadata": {},
     "output_type": "execute_result"
    }
   ],
   "source": [
    "import re\n",
    "# Function to check if contact already exists\n",
    "\n",
    "def contactCheck(name):\n",
    "    filename = 'DataFiles/contacts.txt'\n",
    "    with open(filename, 'r') as f:\n",
    "        filedata = f.read()\n",
    "        pattern = name +','\n",
    "    return re.search(pattern, filedata)\n",
    "\n",
    "contactCheck(\"name1\")\n"
   ]
  },
  {
   "cell_type": "code",
   "execution_count": 2,
   "metadata": {},
   "outputs": [
    {
     "data": {
      "text/plain": [
       "[['name1', ' 9876543210', ' name1_23@gmail.com\\n'],\n",
       " ['name2', ' 8765432109', ' name2_34@gmail.com']]"
      ]
     },
     "execution_count": 2,
     "metadata": {},
     "output_type": "execute_result"
    }
   ],
   "source": [
    "#Reading contacts from file\n",
    "\n",
    "def ReadContact(filepath):\n",
    "    contact=[]\n",
    "    with open(filepath,'r') as f:\n",
    "        for line in f:\n",
    "            contact.append(line.split(','))\n",
    "        return contact\n",
    "        \n",
    "filepath = \"DataFiles/contacts.txt\"\n",
    "ReadContact(filepath)"
   ]
  },
  {
   "cell_type": "code",
   "execution_count": 6,
   "metadata": {},
   "outputs": [
    {
     "name": "stdout",
     "output_type": "stream",
     "text": [
      "Phone Number:   9876543210 Email Id:   name1_23@gmail.com\n",
      "\n"
     ]
    }
   ],
   "source": [
    "# Function to search contacts using files\n",
    "\n",
    "def SearchContact(name):\n",
    "    contact=ReadContact(filepath)\n",
    "    for i in range(0,len(contact)):\n",
    "        if(contact[i][0]==name):\n",
    "            print(\"Phone Number: \",contact[i][1], \"Email Id: \",contact[i][2]) # Print the contact and email in the shell\n",
    "            a=1\n",
    "            break\n",
    "        else: \n",
    "            a=0\n",
    "        if a==0:\n",
    "            print(name, \"contact doesn't exist\")\n",
    "            \n",
    "filepath = \"DataFiles/contacts.txt\"\n",
    "SearchContact(\"name1\")\n"
   ]
  },
  {
   "cell_type": "code",
   "execution_count": 17,
   "metadata": {},
   "outputs": [],
   "source": [
    "# Function to join contacts\n",
    "\n",
    "def WriteData(filepath,contact):\n",
    "    with open(filepath,'a') as f:\n",
    "        for lines in contact:\n",
    "            readline=','.join(lines)\n",
    "            f.writelines(readline)\n",
    "            \n",
    "filepath = \"DataFiles/contacts.txt\"\n",
    "contact=ReadContact(filepath)\n",
    "WriteData(filepath,contact)"
   ]
  },
  {
   "cell_type": "code",
   "execution_count": 21,
   "metadata": {},
   "outputs": [
    {
     "name": "stdout",
     "output_type": "stream",
     "text": [
      "[['name1', ' 9876543210', ' name1_23@gmail.com\\n'], ['name2', ' 8765432109', ' name2_34@gmail.com']]\n"
     ]
    }
   ],
   "source": [
    "# Function to delete contacts using files\n",
    "\n",
    "def DeleteContact(name):\n",
    "    contact=ReadContact(filepath)\n",
    "    if contactCheck(name):\n",
    "        for i in range(0,len(contact)):\n",
    "            if(contact[i][0]==name):\n",
    "                contact.pop(i)\n",
    "                break\n",
    "            WriteData(filepath,contact)\n",
    "            print(contact)\n",
    "    else:\n",
    "        print(\"Contact not found to Delete\")\n",
    "\n",
    "        \n",
    "def WriteData(filepath,contact):\n",
    "    with open(filepath,'w') as f:\n",
    "        for lines in contact:\n",
    "            readline=','.join(lines)\n",
    "            f.writelines(readline)\n",
    "    \n",
    "filepath='DataFiles/contacts.txt'\n",
    "DeleteContact(\"name2\")"
   ]
  },
  {
   "cell_type": "code",
   "execution_count": 24,
   "metadata": {},
   "outputs": [
    {
     "name": "stdout",
     "output_type": "stream",
     "text": [
      "name3 added to contacts\n"
     ]
    }
   ],
   "source": [
    "from Packages.validators import phonenumberValidator as pnv, emailValidator as ev\n",
    "\n",
    "def addContact(name, phone, email):\n",
    "    # store data as name, phone, email in the contacts file\n",
    "    filename = 'DataFiles/contacts.txt'\n",
    "    if not contactCheck(name):\n",
    "        if pnv(phone) and ev(email):\n",
    "            with open(filename, 'a') as f:\n",
    "                line = name + \", \"+str(phone)+', '+email\n",
    "                f.write(line)\n",
    "            print(name,'added to contacts')\n",
    "        else:\n",
    "            print('Invalid number or Email')\n",
    "        return\n",
    "    else:\n",
    "        print(name, 'already exists')\n",
    "    return\n",
    "addContact(\"name3\", 6543210987, \"name3_56@gmail.com\")"
   ]
  },
  {
   "cell_type": "code",
   "execution_count": 30,
   "metadata": {},
   "outputs": [
    {
     "name": "stdout",
     "output_type": "stream",
     "text": [
      "Sucessfully Contact Modified\n"
     ]
    }
   ],
   "source": [
    "#Modify Contact\n",
    "\n",
    "def ModifyContact(name,phone,email):\n",
    "    contact=ReadContact(filepath)\n",
    "    if contactCheck(name):\n",
    "        if pnv(phone) and ev(email):\n",
    "            for i in range(0,len(contact)):\n",
    "                if(contact[i][0]==name):\n",
    "                    contact[i][1]=phone;contact[i][2]=email\n",
    "                    break\n",
    "            WriteData(filepath,contact)\n",
    "        else:\n",
    "            print(\"Enter valid Phone number or email\")\n",
    "    else:\n",
    "        print(\"Contact not found\")\n",
    "    return\n",
    "\n",
    "def WriteData(filepath,contact):\n",
    "    with open(filepath,'w') as f:\n",
    "        for lines in contact:\n",
    "            readline=','.join(lines)\n",
    "            f.writelines(readline)\n",
    "        print(\"Sucessfully Contact Modified\")\n",
    "    return\n",
    "\n",
    "filepath='DataFiles/contacts.txt'\n",
    "ModifyContact(\"name2\",\"8333456609\",\"name2_34@gmail.com\")\n"
   ]
  },
  {
   "cell_type": "code",
   "execution_count": 16,
   "metadata": {},
   "outputs": [
    {
     "name": "stdout",
     "output_type": "stream",
     "text": [
      "Name: name1 Mobile Number:   9876543210 Email:   name1_23@gmail.com\n",
      "\n",
      "Name: name2 Mobile Number:   8765432109 Email:   name2_34@gmail.com\n"
     ]
    }
   ],
   "source": [
    "def DisplayContacts(filepath):\n",
    "    ContactsList=ReadContact(filepath)\n",
    "    for i in range (0,len(ContactsList)):\n",
    "        print(\"Name:\",ContactsList[i][0], \"Mobile Number: \",ContactsList[i][1], \"Email: \",ContactsList[i][2])\n",
    "    \n",
    "filepath = \"DataFiles/contacts.txt\"\n",
    "DisplayContacts(filepath)\n"
   ]
  },
  {
   "cell_type": "markdown",
   "metadata": {},
   "source": [
    "## HackerEarth Problems"
   ]
  },
  {
   "cell_type": "code",
   "execution_count": 3,
   "metadata": {},
   "outputs": [
    {
     "name": "stdout",
     "output_type": "stream",
     "text": [
      "2\n",
      "100 10000\n",
      "YES\n",
      "99 678\n",
      "NO\n"
     ]
    }
   ],
   "source": [
    "# Birthday Party\n",
    "\n",
    "def chocolates(N,M):\n",
    "    if(M%N==0):\n",
    "        print(\"YES\")\n",
    "    else:\n",
    "        print(\"NO\")\n",
    "    \n",
    "t=int(input())\n",
    "for i in range(0,t):\n",
    "    S=input().split()\n",
    "    N=int(S[0])\n",
    "    M=int(S[1])\n",
    "    chocolates(N,M)"
   ]
  },
  {
   "cell_type": "code",
   "execution_count": 22,
   "metadata": {},
   "outputs": [
    {
     "name": "stdout",
     "output_type": "stream",
     "text": [
      "5\n",
      "1 2 3 4 5\n",
      "5 7 3 "
     ]
    }
   ],
   "source": [
    "# Old Legendary Problem(Summation)\n",
    "\n",
    "N=int(input())\n",
    "S=input().split()\n",
    "L=[]\n",
    "H=[]\n",
    "for i in S:\n",
    "    L.append(int(i))\n",
    "sum1=0\n",
    "sum2=0\n",
    "sum3=0\n",
    "for i in range(0,N,3):\n",
    "    sum1 = sum1 + L[i]\n",
    "H.append(sum1)\n",
    "for i in range(1,N,3):\n",
    "    sum2 = sum2 + L[i]\n",
    "H.append(sum2)\n",
    "for i in range(2,N,3):\n",
    "    sum3 = sum3 + L[i]\n",
    "H.append(sum3)\n",
    "for i in H:\n",
    "    print(i,end=\" \")\n",
    "\n",
    "\n"
   ]
  },
  {
   "cell_type": "code",
   "execution_count": 24,
   "metadata": {},
   "outputs": [
    {
     "name": "stdout",
     "output_type": "stream",
     "text": [
      "5\n",
      "1000000001 1000000002 1000000003 1000000004 1000000005\n",
      "5000000015\n"
     ]
    }
   ],
   "source": [
    "# Array Sum\n",
    "\n",
    "N=int(input())\n",
    "S=input().split()\n",
    "sum=0\n",
    "L=[]\n",
    "for i in S:\n",
    "    L.append(int(i))\n",
    "for i in range(0,N):\n",
    "    sum= sum+ L[i]\n",
    "print(sum)"
   ]
  }
 ],
 "metadata": {
  "kernelspec": {
   "display_name": "Python 3",
   "language": "python",
   "name": "python3"
  },
  "language_info": {
   "codemirror_mode": {
    "name": "ipython",
    "version": 3
   },
   "file_extension": ".py",
   "mimetype": "text/x-python",
   "name": "python",
   "nbconvert_exporter": "python",
   "pygments_lexer": "ipython3",
   "version": "3.7.3"
  }
 },
 "nbformat": 4,
 "nbformat_minor": 2
}
