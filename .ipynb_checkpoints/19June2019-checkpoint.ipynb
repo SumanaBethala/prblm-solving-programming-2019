{
 "cells": [
  {
   "cell_type": "code",
   "execution_count": 18,
   "metadata": {},
   "outputs": [
    {
     "name": "stdout",
     "output_type": "stream",
     "text": [
      "5\n",
      "1\n",
      "2\n",
      "3\n",
      "4\n",
      "5\n",
      "['1', '2', '3', '4', '5']\n",
      "120\n"
     ]
    }
   ],
   "source": [
    "# Find Product\n",
    "\n",
    "N = int(input())\n",
    "ans = 1\n",
    "l=[]\n",
    "for i in range(1,N+1):\n",
    "    a = input()\n",
    "    l.append(a)\n",
    "print(l)\n",
    "\n",
    "for i in l:\n",
    "    ans = (ans * int(i))%(10**9+7) \n",
    "print(ans)\n",
    "\n"
   ]
  },
  {
   "cell_type": "code",
   "execution_count": 46,
   "metadata": {},
   "outputs": [
    {
     "name": "stdout",
     "output_type": "stream",
     "text": [
      "sumana\n",
      "samson\n",
      "['a', 'a', 'm', 'n', 's', 'u']\n",
      "['a', 'm', 'n', 'o', 's', 's']\n"
     ]
    }
   ],
   "source": [
    "# Anagrams\n",
    "\n",
    "a=input()\n",
    "b=input()\n",
    "l=sorted(a)\n",
    "k=sorted(b)\n",
    "if(len(l)==len(k) or len(l)!=len(k)):\n",
    "    for i in range(0,len(l)):\n",
    "        for j in range(0,len(k)):\n",
    "            if (i != j):\n",
    "                \n",
    "\n"
   ]
  },
  {
   "cell_type": "code",
   "execution_count": null,
   "metadata": {},
   "outputs": [
    {
     "name": "stdout",
     "output_type": "stream",
     "text": [
      "640\n",
      "10\n",
      "340 340\n",
      "UPLOAD ANOTHER\n",
      "320 320\n",
      "UPLOAD ANOTHER\n",
      "640 640\n",
      "ACCEPTED\n",
      "640 320\n",
      "UPLOAD ANOTHER\n",
      "320 640\n",
      "CROP IT\n"
     ]
    }
   ],
   "source": [
    "# Roy and Profile picture\n",
    "\n",
    "def picture(s):\n",
    "    l=[]\n",
    "    s=s.split()\n",
    "    for i in s:\n",
    "        l.append(int(i))\n",
    "    if(l[0]<=L and (l[1]<L or l[1]>=L)):\n",
    "        print(\"UPLOAD ANOTHER\")\n",
    "    elif ((l[0] == L and l[1] == L) or (l[0] == l[1])):\n",
    "        print(\"ACCEPTED\")\n",
    "    elif((l[0]>L or l[0]<=L) and l[1]>=L):\n",
    "        print(\"CROP IT\")\n",
    "    \n",
    "    \n",
    "L = int(input())\n",
    "t = int(input())\n",
    "for i in range(1, t+1):\n",
    "    s = input()\n",
    "    picture(s)"
   ]
  },
  {
   "cell_type": "code",
   "execution_count": null,
   "metadata": {},
   "outputs": [],
   "source": [
    "def picture(s):\n",
    "    l=[]\n",
    "    s=s.split()\n",
    "    for i in s:\n",
    "        l.append(int(i))\n",
    "    if(l[0]<L and (l[1]<L or l[1]>L)):\n",
    "        print(\"UPLOAD ANOTHER\")\n",
    "    elif (l[0] == L and l[1] == L):\n",
    "        print(\"ACCEPTED\")\n",
    "    elif((l[0]>L or l[0]<L) and l[1]>L):\n",
    "        print(\"CROP IT\")\n",
    "    \n",
    "    \n",
    "L = int(input())\n",
    "t = int(input())\n",
    "for i in range(1, t+1):\n",
    "    s = input()\n",
    "    picture(s)"
   ]
  },
  {
   "cell_type": "code",
   "execution_count": null,
   "metadata": {},
   "outputs": [],
   "source": [
    "def isbn(N):\n",
    "    sum = 0\n",
    "    if(len(N)!=10):\n",
    "        print(\"Illegal ISBN\")\n",
    "    else:\n",
    "        while(j<=N):\n",
    "            for i in N:\n",
    "                sum = j*i\n",
    "                j+1\n",
    "                   return     \n",
    "    \n",
    "n=input()\n",
    "N=list(n)\n",
    "isbn(N)"
   ]
  },
  {
   "cell_type": "code",
   "execution_count": 10,
   "metadata": {},
   "outputs": [
    {
     "name": "stdout",
     "output_type": "stream",
     "text": [
      "1 2 3 4 5\n",
      "120\n"
     ]
    }
   ],
   "source": [
    "a = input()\n",
    "l=list(a)\n",
    "z = 1\n",
    "for i in l:\n",
    "    if(i != \" \"):\n",
    "       z= (z * int(i))%(10**9+7) \n",
    "print(z)\n"
   ]
  },
  {
   "cell_type": "code",
   "execution_count": null,
   "metadata": {},
   "outputs": [],
   "source": [
    "N = int(input())\n",
    "a = input().split()\n",
    "l=[]\n",
    "for i in a:\n",
    "    l.append(int(i))\n",
    "\n",
    "\n",
    "def array(N):\n",
    "    ans = 1\n",
    "    for i in l:\n",
    "        ans = (ans * i)%(10**9+7) \n",
    "    print(ans)\n",
    "\n",
    "\n",
    "array(N)"
   ]
  },
  {
   "cell_type": "code",
   "execution_count": 42,
   "metadata": {},
   "outputs": [],
   "source": [
    "n=\"1234567890\"\n",
    "N=n.split()\n",
    "l=[]\n",
    "h=len(l)\n",
    "count=1\n",
    "sum=0\n",
    "for i in range(1,h+1):\n",
    "    l.append(int(i))\n",
    "\n",
    "for j in range(1,h+1):\n",
    "    k = j*count\n",
    "    sum = sum+ k\n",
    "    count+=1\n",
    "    print(sum)\n",
    "        \n",
    "        "
   ]
  },
  {
   "cell_type": "code",
   "execution_count": 1,
   "metadata": {},
   "outputs": [
    {
     "name": "stdout",
     "output_type": "stream",
     "text": [
      "13\n",
      "Motu\n"
     ]
    }
   ],
   "source": [
    "# Bricks Game\n",
    "\n",
    "N = int(input())\n",
    "\n",
    "def bricksnumber(N):\n",
    "    sum=0\n",
    "    count=0\n",
    "    for i in range(1,N):\n",
    "        sum = sum+i\n",
    "        if(sum+count>=N):\n",
    "            print(\"Patlu\")\n",
    "            break\n",
    "        count=count+(i*2)\n",
    "        if(sum+count>=N):\n",
    "            print(\"Motu\")\n",
    "            break\n",
    "    return\n",
    "bricksnumber(N)\n",
    "    "
   ]
  },
  {
   "cell_type": "code",
   "execution_count": 2,
   "metadata": {},
   "outputs": [
    {
     "name": "stdout",
     "output_type": "stream",
     "text": [
      "2\n",
      "100\n",
      "110\n",
      "YES\n",
      "90\n",
      "NO\n"
     ]
    }
   ],
   "source": [
    "# Goki and his Breakup\n",
    "\n",
    "X=int(input())        \n",
    "N=int(input())\n",
    "\n",
    "for i in range(0,X):\n",
    "    n=int(input())\n",
    "    if(n>=N):\n",
    "        print(\"YES\")\n",
    "    else:\n",
    "        print(\"NO\")"
   ]
  },
  {
   "cell_type": "code",
   "execution_count": 3,
   "metadata": {},
   "outputs": [
    {
     "name": "stdout",
     "output_type": "stream",
     "text": [
      "1\n",
      "1\n",
      "2\n",
      "2\n",
      "88\n",
      "88\n",
      "42\n"
     ]
    }
   ],
   "source": [
    "# Life, the Universe and Everything\n",
    "\n",
    "a=1\n",
    "N=42\n",
    "while(a!=N):\n",
    "    i=int(input())\n",
    "    a=i\n",
    "    if(a!=N):\n",
    "        print(a)"
   ]
  },
  {
   "cell_type": "code",
   "execution_count": null,
   "metadata": {},
   "outputs": [],
   "source": []
  }
 ],
 "metadata": {
  "kernelspec": {
   "display_name": "Python 3",
   "language": "python",
   "name": "python3"
  },
  "language_info": {
   "codemirror_mode": {
    "name": "ipython",
    "version": 3
   },
   "file_extension": ".py",
   "mimetype": "text/x-python",
   "name": "python",
   "nbconvert_exporter": "python",
   "pygments_lexer": "ipython3",
   "version": "3.7.3"
  }
 },
 "nbformat": 4,
 "nbformat_minor": 2
}
