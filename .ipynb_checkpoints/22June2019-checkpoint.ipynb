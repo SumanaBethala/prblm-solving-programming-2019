{
 "cells": [
  {
   "cell_type": "markdown",
   "metadata": {},
   "source": [
    "## Date 22June2019\n",
    "\n",
    "# Day Objectives\n",
    "\n",
    "- **File Handling**\n",
    "     - Basic File Data Processing\n",
    "          - Accessing & Modifying File Data\n",
    "     - Character Count\n",
    "     - Line Count\n",
    "     - File Size\n",
    "     - Word Count\n",
    "     - Unique Word Count\n",
    "     \n",
    "**Problem set**\n",
    "\n",
    "- Read a file\n",
    "- Read lines into list\n",
    "- Lines count in file\n",
    "- Characters count in file\n",
    "- Words count in file\n",
    "- File size\n",
    "- Unique elements\n",
    "- Unique words count\n",
    "- File into List\n"
   ]
  },
  {
   "cell_type": "code",
   "execution_count": 5,
   "metadata": {},
   "outputs": [
    {
     "name": "stdout",
     "output_type": "stream",
     "text": [
      "new data\n",
      "suma 1\n",
      "suma 2\n",
      "suma 3\n",
      "suma 4\n",
      "suma 5\n"
     ]
    }
   ],
   "source": [
    "# Read a File - File should exist (Read Mode)\n",
    "# Write a File - Existing(Append Mode) or New File(Write Mode)\n",
    "\n",
    "# Function to read entire file data into a single string - Character Processing\n",
    "\n",
    "def readFile(filepath):\n",
    "    with open(filepath, \"r\") as f:\n",
    "        filedata = f.read()   # Reads the entire file data into a string\n",
    "    return filedata\n",
    "\n",
    "filepath = \"DataFiles/data.txt\"\n",
    "print(readFile(filepath))"
   ]
  },
  {
   "cell_type": "code",
   "execution_count": 3,
   "metadata": {},
   "outputs": [
    {
     "data": {
      "text/plain": [
       "['new data', 'line 1', 'line 2', 'line 3', 'line 4', 'line 5']"
      ]
     },
     "execution_count": 3,
     "metadata": {},
     "output_type": "execute_result"
    }
   ],
   "source": [
    "# Function to read a file into a list of lines\n",
    "# Each element in the list is one line in the file - Line Processing\n",
    "def readFileIntoList(filepath):\n",
    "    with open(filepath, 'r') as f:\n",
    "        filedata = f.read()\n",
    "        lines = filedata.split('\\n')\n",
    "        #lines = []\n",
    "        #for line in f: \n",
    "            #lines.append(line)\n",
    "    return lines\n",
    "\n",
    "filepath = 'DataFiles/data.txt'\n",
    "readFileIntoList(filepath)"
   ]
  },
  {
   "cell_type": "code",
   "execution_count": 5,
   "metadata": {},
   "outputs": [
    {
     "data": {
      "text/plain": [
       "6"
      ]
     },
     "execution_count": 5,
     "metadata": {},
     "output_type": "execute_result"
    }
   ],
   "source": [
    "# Lines count\n",
    "\n",
    "def lineCount(filepath):\n",
    "    count = 0\n",
    "    with open(filepath, \"r\") as f:\n",
    "        filedata = f.readlines()\n",
    "        for i in filedata:\n",
    "            count+=1\n",
    "        return count\n",
    "\n",
    "filepath = \"DataFiles/data.txt\"\n",
    "lineCount(filepath)"
   ]
  },
  {
   "cell_type": "code",
   "execution_count": 6,
   "metadata": {},
   "outputs": [
    {
     "data": {
      "text/plain": [
       "6"
      ]
     },
     "execution_count": 6,
     "metadata": {},
     "output_type": "execute_result"
    }
   ],
   "source": [
    "# Function to count number of lines in a file\n",
    "\n",
    "def countLinesFile(filepath):\n",
    "    count = len(readFileIntoList(filepath))\n",
    "    return count\n",
    "\n",
    "countLinesFile(filepath)"
   ]
  },
  {
   "cell_type": "code",
   "execution_count": 15,
   "metadata": {
    "scrolled": true
   },
   "outputs": [
    {
     "name": "stdout",
     "output_type": "stream",
     "text": [
      "43\n"
     ]
    }
   ],
   "source": [
    "# Characters Count\n",
    "\n",
    "def charCount(filepath):\n",
    "    count = 0\n",
    "    with open(filepath, \"r\") as f:\n",
    "        filedata = f.read()\n",
    "        for i in filedata:\n",
    "            count+=1\n",
    "        return count\n",
    "\n",
    "filepath = \"DataFiles/data.txt\"\n",
    "print(charCount(filepath))"
   ]
  },
  {
   "cell_type": "code",
   "execution_count": 8,
   "metadata": {},
   "outputs": [
    {
     "data": {
      "text/plain": [
       "43"
      ]
     },
     "execution_count": 8,
     "metadata": {},
     "output_type": "execute_result"
    }
   ],
   "source": [
    "#Function to count the number of characters in a file\n",
    "\n",
    "def charCountFile(filepath):\n",
    "    count = len(readFile(filepath))\n",
    "    return count\n",
    "charCountFile(filepath)"
   ]
  },
  {
   "cell_type": "code",
   "execution_count": 6,
   "metadata": {},
   "outputs": [
    {
     "data": {
      "text/plain": [
       "12"
      ]
     },
     "execution_count": 6,
     "metadata": {},
     "output_type": "execute_result"
    }
   ],
   "source": [
    "# Function to count the number of words in a file\n",
    "import re\n",
    "\n",
    "def wordCountFile(filepath):\n",
    "    pattern = '[ \\n]'\n",
    "    filedata = readFile(filepath)\n",
    "    count = len(re.split(pattern, filedata))\n",
    "    return count\n",
    "\n",
    "wordCountFile(filepath)"
   ]
  },
  {
   "cell_type": "code",
   "execution_count": 28,
   "metadata": {},
   "outputs": [
    {
     "name": "stdout",
     "output_type": "stream",
     "text": [
      "['new', 'data', 'line', '1', 'line', '2', 'line', '3', 'line', '4', 'line', '5']\n"
     ]
    },
    {
     "data": {
      "text/plain": [
       "12"
      ]
     },
     "execution_count": 28,
     "metadata": {},
     "output_type": "execute_result"
    }
   ],
   "source": [
    "# Word count 2nd method\n",
    "\n",
    "def wordCount(filepath):\n",
    "    count = 0\n",
    "    with open(filepath, \"r\") as f:\n",
    "        filedata = f.read().split()\n",
    "        print(filedata)\n",
    "        p = len(filedata)\n",
    "    return p\n",
    "\n",
    "filepath = \"DataFiles/data.txt\"\n",
    "wordCount(filepath)"
   ]
  },
  {
   "cell_type": "code",
   "execution_count": 30,
   "metadata": {},
   "outputs": [
    {
     "data": {
      "text/plain": [
       "43"
      ]
     },
     "execution_count": 30,
     "metadata": {},
     "output_type": "execute_result"
    }
   ],
   "source": [
    "# File Size\n",
    "\n",
    "import os\n",
    "\n",
    "def fileSize(filepath):\n",
    "    with open(filepath, \"r\") as f:\n",
    "        filedata = os.path.getsize(filepath)\n",
    "        \n",
    "        #filedata = os.stat(filepath)\n",
    "    return filedata #.st_size\n",
    "\n",
    "filepath = \"DataFiles/data.txt\"\n",
    "fileSize(filepath)"
   ]
  },
  {
   "cell_type": "code",
   "execution_count": 8,
   "metadata": {},
   "outputs": [
    {
     "data": {
      "text/plain": [
       "[1, 2, 3]"
      ]
     },
     "execution_count": 8,
     "metadata": {},
     "output_type": "execute_result"
    }
   ],
   "source": [
    "# Function to get unique elements in a list\n",
    "\n",
    "# [1,2,3,3,2,1] -> [1,2,3]\n",
    "# Create a empty unique list [1,2,3]\n",
    "\n",
    "def uniqueData(li):\n",
    "    unique = []   # Create an empty unique list\n",
    "          # For every element in the main list, \n",
    "          # check if it exists in the unique list.\n",
    "          # If it does not exist, add it to unique list\n",
    "          # else if it already exists, move on to the next element in the main list   \n",
    "    for element in li:\n",
    "        if element not in unique:\n",
    "            unique.append(element)\n",
    "    return unique\n",
    "\n",
    "li = [1,2,3,3,2,1]\n",
    "\n",
    "uniqueData(li)"
   ]
  },
  {
   "cell_type": "code",
   "execution_count": 1,
   "metadata": {
    "scrolled": true
   },
   "outputs": [
    {
     "name": "stdout",
     "output_type": "stream",
     "text": [
      "['new', 'data', 'line', '1', 'line', '2', 'line', '3', 'line', '4', 'line', '5']\n",
      "['new', 'data', 'line', '1', '2', '3', '4', '5']\n",
      "8\n"
     ]
    }
   ],
   "source": [
    "# Unique Words Count\n",
    "\n",
    "def uniqueWord(filepath):\n",
    "    l=[]\n",
    "    count=0\n",
    "    with open(filepath, \"r\") as f:\n",
    "        filedata=f.read().split()\n",
    "        print(filedata)\n",
    "        for x in filedata:\n",
    "            if x not in l:\n",
    "                l.append(x)\n",
    "                count+=1\n",
    "        print(l)\n",
    "        print(count)\n",
    "        \n",
    "    \n",
    "    \n",
    "    \n",
    "filepath = \"DataFiles/data.txt\"\n",
    "uniqueWord(filepath)"
   ]
  },
  {
   "cell_type": "code",
   "execution_count": 9,
   "metadata": {},
   "outputs": [
    {
     "ename": "AttributeError",
     "evalue": "'int' object has no attribute 'count'",
     "output_type": "error",
     "traceback": [
      "\u001b[1;31m---------------------------------------------------------------------------\u001b[0m",
      "\u001b[1;31mAttributeError\u001b[0m                            Traceback (most recent call last)",
      "\u001b[1;32m<ipython-input-9-6741c689662c>\u001b[0m in \u001b[0;36m<module>\u001b[1;34m\u001b[0m\n\u001b[0;32m     11\u001b[0m     \u001b[1;32mreturn\u001b[0m\u001b[1;33m\u001b[0m\u001b[1;33m\u001b[0m\u001b[0m\n\u001b[0;32m     12\u001b[0m \u001b[0mfilepath\u001b[0m \u001b[1;33m=\u001b[0m \u001b[1;34m\"DataFiles/data.txt\"\u001b[0m\u001b[1;33m\u001b[0m\u001b[1;33m\u001b[0m\u001b[0m\n\u001b[1;32m---> 13\u001b[1;33m \u001b[0mfreqdistofwords1\u001b[0m\u001b[1;33m(\u001b[0m\u001b[0mfilepath\u001b[0m\u001b[1;33m)\u001b[0m\u001b[1;33m\u001b[0m\u001b[1;33m\u001b[0m\u001b[0m\n\u001b[0m",
      "\u001b[1;32m<ipython-input-9-6741c689662c>\u001b[0m in \u001b[0;36mfreqdistofwords1\u001b[1;34m(filepath)\u001b[0m\n\u001b[0;32m      6\u001b[0m \u001b[1;33m\u001b[0m\u001b[0m\n\u001b[0;32m      7\u001b[0m     \u001b[1;32mfor\u001b[0m \u001b[0mword\u001b[0m \u001b[1;32min\u001b[0m \u001b[0muniquewords\u001b[0m\u001b[1;33m:\u001b[0m\u001b[1;33m\u001b[0m\u001b[1;33m\u001b[0m\u001b[0m\n\u001b[1;32m----> 8\u001b[1;33m         \u001b[0mcount\u001b[0m \u001b[1;33m=\u001b[0m \u001b[0mallwords\u001b[0m\u001b[1;33m.\u001b[0m\u001b[0mcount\u001b[0m\u001b[1;33m(\u001b[0m\u001b[0mword\u001b[0m\u001b[1;33m)\u001b[0m\u001b[1;33m\u001b[0m\u001b[1;33m\u001b[0m\u001b[0m\n\u001b[0m\u001b[0;32m      9\u001b[0m         \u001b[0mprint\u001b[0m\u001b[1;33m(\u001b[0m\u001b[0mword\u001b[0m\u001b[1;33m,\u001b[0m \u001b[1;34m\":\"\u001b[0m \u001b[1;33m,\u001b[0m \u001b[0mcount\u001b[0m\u001b[1;33m)\u001b[0m\u001b[1;33m\u001b[0m\u001b[1;33m\u001b[0m\u001b[0m\n\u001b[0;32m     10\u001b[0m \u001b[1;33m\u001b[0m\u001b[0m\n",
      "\u001b[1;31mAttributeError\u001b[0m: 'int' object has no attribute 'count'"
     ]
    }
   ],
   "source": [
    "# List\n",
    "\n",
    "def freqdistofwords1(filepath):\n",
    "    allwords = wordCountFile(filepath)\n",
    "    uniquewords = uniqueData(filepath)\n",
    "\n",
    "    for word in uniquewords:\n",
    "        count = allwords.count(word)\n",
    "        print(word, \":\" , count)\n",
    "    \n",
    "    return\n",
    "filepath = \"DataFiles/data.txt\"\n",
    "freqdistofwords1(filepath)"
   ]
  },
  {
   "cell_type": "code",
   "execution_count": null,
   "metadata": {},
   "outputs": [],
   "source": []
  }
 ],
 "metadata": {
  "kernelspec": {
   "display_name": "Python 3",
   "language": "python",
   "name": "python3"
  },
  "language_info": {
   "codemirror_mode": {
    "name": "ipython",
    "version": 3
   },
   "file_extension": ".py",
   "mimetype": "text/x-python",
   "name": "python",
   "nbconvert_exporter": "python",
   "pygments_lexer": "ipython3",
   "version": "3.7.3"
  }
 },
 "nbformat": 4,
 "nbformat_minor": 2
}
