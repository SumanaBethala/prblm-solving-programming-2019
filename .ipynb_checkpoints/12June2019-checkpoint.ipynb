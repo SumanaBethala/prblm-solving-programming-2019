{
 "cells": [
  {
   "cell_type": "markdown",
   "metadata": {},
   "source": [
    "## Date 12 June 2019\n",
    "\n",
    "- String Slicing\n",
    "- Functions in Python\n",
    "- Basic Problems related to conditional statements using functions\n",
    "- Iteration in Python\n",
    "\n",
    "## Problem set for practice\n",
    "\n",
    "- Reverse of a string\n",
    "- Palindrome or Not\n",
    "- No. of digits in a given number\n",
    "- Greatest of 4 numbers\n",
    "- N natural numbers (using for loop and while loop)\n",
    "- Divisible by 6 bou not a factor of 100\n",
    "- Even cubes average\n",
    "- Factors of given number\n",
    "- Factorial\n",
    "- Prime number or Not\n",
    "- Generate prime numbers in a range\n",
    "- Average of n prime numbers\n",
    "- Perfect number\n"
   ]
  },
  {
   "cell_type": "markdown",
   "metadata": {},
   "source": [
    "## String Slicing"
   ]
  },
  {
   "cell_type": "code",
   "execution_count": 2,
   "metadata": {
    "scrolled": true
   },
   "outputs": [
    {
     "data": {
      "text/plain": [
       "'nohtyP'"
      ]
     },
     "execution_count": 2,
     "metadata": {},
     "output_type": "execute_result"
    }
   ],
   "source": [
    "S1 = \"Python\"\n",
    "S1[0] #Accessing the first character in a string\n",
    "S1[1] # Accessing the second character in a string\n",
    "S1[len(S1)-1] # Accessing the last character in a string\n",
    "\n",
    "S1[-1] #Another way of accessing the last character\n",
    "\n",
    "S1[-2] #Accessing the penultimate character of a string\n",
    "\n",
    "S1[0:2] #Accessing the first two characters in a string\n",
    "\n",
    "S1[-2:] # Accessing the last two characters in a string\n",
    "\n",
    "S1[4:] #Accessing all characters from 5th character to end of the string\n",
    "\n",
    "S1[1:-1] #Accessing all characters except first and last character\n",
    "\n",
    "S1[len(S1)//2] #Accessing the middle character in a string\n",
    "\n",
    "S1[-1::-1] '''Reverse of a string or''' S1[::-1]\n",
    "\n",
    "S1[-1:-3:-1] #Accessing last two characters in reverse order\n",
    "\n",
    "S1[len(S1)//2:len(S1)//2-2:-1]# Reverse the middle two characters in an even length string\n",
    "\n",
    "S1[::2]# Accessing alternate characters in a string\n",
    "# \"Python\" -> \"Pto\"\n",
    "\n",
    "S1[::-2]# Accessing alternate characters in a string in a reverse order\n",
    "# \"Python\" -> \"nhy\"\n",
    "\n"
   ]
  },
  {
   "cell_type": "markdown",
   "metadata": {},
   "source": [
    "## Functions"
   ]
  },
  {
   "cell_type": "code",
   "execution_count": 6,
   "metadata": {},
   "outputs": [
    {
     "data": {
      "text/plain": [
       "'nohtyP'"
      ]
     },
     "execution_count": 6,
     "metadata": {},
     "output_type": "execute_result"
    }
   ],
   "source": [
    "#Function to reverse a string\n",
    "def reverseString(s):\n",
    "    return s[::-1]\n",
    "\n",
    "reverseString(\"Python\")"
   ]
  },
  {
   "cell_type": "code",
   "execution_count": 12,
   "metadata": {},
   "outputs": [
    {
     "data": {
      "text/plain": [
       "True"
      ]
     },
     "execution_count": 12,
     "metadata": {},
     "output_type": "execute_result"
    }
   ],
   "source": [
    "#Function to check if a string is a Palindrome\n",
    "def palindrome(s):\n",
    "    if s == s[::-1]:\n",
    "        return True\n",
    "    else:\n",
    "        return False\n",
    "    \n",
    "palindrome(\"racecar\")"
   ]
  },
  {
   "cell_type": "code",
   "execution_count": 23,
   "metadata": {},
   "outputs": [
    {
     "data": {
      "text/plain": [
       "3"
      ]
     },
     "execution_count": 23,
     "metadata": {},
     "output_type": "execute_result"
    }
   ],
   "source": [
    "#Function to count the number of digits in a given number\n",
    "def countDigits(n):\n",
    "    return len(str(n))\n",
    "\n",
    "countDigits(123)"
   ]
  },
  {
   "cell_type": "code",
   "execution_count": 1,
   "metadata": {},
   "outputs": [
    {
     "data": {
      "text/plain": [
       "7"
      ]
     },
     "execution_count": 1,
     "metadata": {},
     "output_type": "execute_result"
    }
   ],
   "source": [
    "#Function to identify the greatest of 4 numbers\n",
    "def great(a, b, c, d):\n",
    "    if (a>b and a>c and a>d):\n",
    "        return a\n",
    "    elif (b>c and b>d):\n",
    "        return b\n",
    "    elif(c>d):\n",
    "        return c\n",
    "    return d\n",
    "    \n",
    "great(3,6,7,5)"
   ]
  },
  {
   "cell_type": "markdown",
   "metadata": {},
   "source": [
    "# Iteration\n",
    "\n",
    "- for\n",
    "- while\n",
    "\n",
    "### For Loop in Python\n",
    "\n",
    "[101,210] (inclusive,exclusive) for i in range(101,211): print i\n",
    "\n",
    "o/p: 101 102 .... 210 for i in range(lb,ub+1) here inclusive means add +1 to the number"
   ]
  },
  {
   "cell_type": "code",
   "execution_count": 31,
   "metadata": {},
   "outputs": [
    {
     "name": "stdout",
     "output_type": "stream",
     "text": [
      "1 2 3 4 5 6 7 8 9 10 11 12 13 14 15 "
     ]
    }
   ],
   "source": [
    "#Function to print n natural numbers\n",
    "\n",
    "def printNNN(n):\n",
    "    for i in range(1,n+1):\n",
    "        print (i, end = \" \")\n",
    "    return\n",
    "\n",
    "printNNN(15)\n",
    "        "
   ]
  },
  {
   "cell_type": "code",
   "execution_count": 36,
   "metadata": {},
   "outputs": [
    {
     "name": "stdout",
     "output_type": "stream",
     "text": [
      "1 2 3 4 5 6 7 8 9 "
     ]
    }
   ],
   "source": [
    "#Function to print n natural numbers using while loop\n",
    "\n",
    "def NNN(n):\n",
    "    counter = 1\n",
    "    while counter <= n:\n",
    "        print(counter, end = \" \")\n",
    "        counter = counter + 1\n",
    "    return\n",
    "\n",
    "NNN(9)"
   ]
  },
  {
   "cell_type": "code",
   "execution_count": 36,
   "metadata": {},
   "outputs": [
    {
     "name": "stdout",
     "output_type": "stream",
     "text": [
      "6 12 18 24 30 36 42 48 54 60 66 72 78 84 90 96 102 108 114 120 126 132 138 144 150 156 162 168 174 180 186 192 198 204 210 216 222 228 234 240 246 252 258 264 270 276 282 288 294 306 "
     ]
    }
   ],
   "source": [
    "#Function to print all numbers divisible by 6 and not a factor of 100 in a given range(lb, ub) inclusive\n",
    "def number(lb,ub):\n",
    "    for i in range(lb,ub+1):\n",
    "        if (i%6==0 and i%100!=0):\n",
    "            print(i, end = \" \")\n",
    "number(6,306)"
   ]
  },
  {
   "cell_type": "code",
   "execution_count": 38,
   "metadata": {},
   "outputs": [
    {
     "name": "stdout",
     "output_type": "stream",
     "text": [
      "2\n",
      "4\n"
     ]
    },
    {
     "data": {
      "text/plain": [
       "36.0"
      ]
     },
     "execution_count": 38,
     "metadata": {},
     "output_type": "execute_result"
    }
   ],
   "source": [
    "#Function to find the average of cubes of all even numbers in a given range(lb, ub) inclusive\n",
    "def avgcubes(lb,ub):\n",
    "    sum=0\n",
    "    count=0\n",
    "    for i in range(lb,ub+1):\n",
    "        if i%2==0:\n",
    "            print (i)\n",
    "            sum+= i**3\n",
    "            count+= 1\n",
    "    return sum/count\n",
    "    \n",
    "avgcubes(1,4)"
   ]
  },
  {
   "cell_type": "code",
   "execution_count": 23,
   "metadata": {},
   "outputs": [
    {
     "name": "stdout",
     "output_type": "stream",
     "text": [
      "1 2 3 4 6 12\n"
     ]
    }
   ],
   "source": [
    "#Function to generate the list of factors for a given number 12 -> 1,2,3,4,6,12 \n",
    "def factors(n):\n",
    "    for i in range(1,n//2+1):\n",
    "        if(n%i==0):\n",
    "            print(i, end=\" \")\n",
    "    print(n)\n",
    "    return\n",
    "            \n",
    "factors(12)"
   ]
  },
  {
   "cell_type": "code",
   "execution_count": 22,
   "metadata": {},
   "outputs": [
    {
     "name": "stdout",
     "output_type": "stream",
     "text": [
      "120\n"
     ]
    }
   ],
   "source": [
    "#Function to calculate the factorial of a given number\n",
    "\n",
    "def fact(n):\n",
    "    f=1\n",
    "    for i in range(1,n+1):\n",
    "        f = f*i\n",
    "    print(f)\n",
    "  \n",
    "fact(5)\n"
   ]
  },
  {
   "cell_type": "code",
   "execution_count": 103,
   "metadata": {},
   "outputs": [
    {
     "name": "stdout",
     "output_type": "stream",
     "text": [
      "1\n",
      "3\n",
      "37\n",
      "111\n",
      "Not a prime\n"
     ]
    }
   ],
   "source": [
    "#Function to check if a given number is Prime\n",
    "def prime(n):\n",
    "    count=0\n",
    "    for i in range(1,n+1):\n",
    "        if(n%i==0):\n",
    "            print(i)\n",
    "            count= count+1\n",
    "    if(count==2):\n",
    "        print(\"Prime\")\n",
    "    else:\n",
    "        print(\"Not a prime\")\n",
    "                \n",
    "prime(111)"
   ]
  },
  {
   "cell_type": "code",
   "execution_count": 106,
   "metadata": {},
   "outputs": [
    {
     "name": "stdout",
     "output_type": "stream",
     "text": [
      "13 "
     ]
    }
   ],
   "source": [
    "#Function to generate N Prime Numbers\n",
    "def prime(n):\n",
    "    count=0\n",
    "    for i in range(1,n+1):\n",
    "        if(n%i==0):\n",
    "            count=count+1\n",
    "    if(count==2):\n",
    "        print(i, end=\" \")\n",
    "    else:\n",
    "        print(\"not a prime\")\n",
    "    \n",
    "prime(13)\n",
    "    "
   ]
  },
  {
   "cell_type": "code",
   "execution_count": 1,
   "metadata": {},
   "outputs": [
    {
     "data": {
      "text/plain": [
       "31.95"
      ]
     },
     "execution_count": 1,
     "metadata": {},
     "output_type": "execute_result"
    }
   ],
   "source": [
    "#Function to calculate the average first N Prime numbers\n",
    "def isprime(n):\n",
    "    count=0\n",
    "    for i in range(1,n+1):\n",
    "        if(n%i==0):\n",
    "            count=count+1\n",
    "    if(count==2):\n",
    "        return True\n",
    "    return False\n",
    "        \n",
    "def avgNPrimes(n):\n",
    "    primecount=0\n",
    "    sum=0\n",
    "    seqcount=2\n",
    "    while(primecount<n):\n",
    "        if isprime(seqcount):\n",
    "            primecount+=1\n",
    "            sum+=seqcount\n",
    "        seqcount+=1\n",
    "    return sum/n\n",
    "\n",
    "avgNPrimes(20)"
   ]
  },
  {
   "cell_type": "code",
   "execution_count": 2,
   "metadata": {},
   "outputs": [
    {
     "data": {
      "text/plain": [
       "31.95"
      ]
     },
     "execution_count": 2,
     "metadata": {},
     "output_type": "execute_result"
    }
   ],
   "source": [
    "# Another method for avg of n prime numbers\n",
    "\n",
    "def isPrime(n):\n",
    "    flag = True\n",
    "    for i in range(2, n//2+1):\n",
    "        if n % i == 0:\n",
    "            flag = False\n",
    "            return flag\n",
    "    return flag\n",
    "\n",
    "def avgNPrimes(n):\n",
    "    primeCount = 0\n",
    "    sum = 0\n",
    "    seqCount = 2\n",
    "    while(primeCount < n):\n",
    "        if isPrime(seqCount):\n",
    "            primeCount += 1\n",
    "            sum += seqCount\n",
    "            #print(seqCount)\n",
    "        seqCount += 1\n",
    "    return sum/n\n",
    "\n",
    "avgNPrimes(20)"
   ]
  },
  {
   "cell_type": "code",
   "execution_count": 62,
   "metadata": {},
   "outputs": [
    {
     "name": "stdout",
     "output_type": "stream",
     "text": [
      "6 28 496 8128 "
     ]
    }
   ],
   "source": [
    "#Function to generate all perfect numbers in a given range\n",
    "\n",
    "def isperfect(n):\n",
    "    sum = 0\n",
    "    for i in range(1,n):\n",
    "        if n%i==0:\n",
    "            sum = sum+i\n",
    "    if sum == n:\n",
    "        return True\n",
    "    return False\n",
    "\n",
    "def perfectrange(lb,ub):\n",
    "    for i in range(lb, ub+1):\n",
    "        if isperfect(i):\n",
    "            print (i, end=\" \")\n",
    "    return\n",
    "         \n",
    "        \n",
    "perfectrange(1,8129)"
   ]
  }
 ],
 "metadata": {
  "kernelspec": {
   "display_name": "Python 3",
   "language": "python",
   "name": "python3"
  },
  "language_info": {
   "codemirror_mode": {
    "name": "ipython",
    "version": 3
   },
   "file_extension": ".py",
   "mimetype": "text/x-python",
   "name": "python",
   "nbconvert_exporter": "python",
   "pygments_lexer": "ipython3",
   "version": "3.7.3"
  }
 },
 "nbformat": 4,
 "nbformat_minor": 2
}
