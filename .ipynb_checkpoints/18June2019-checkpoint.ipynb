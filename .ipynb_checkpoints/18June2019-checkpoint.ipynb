{
 "cells": [
  {
   "cell_type": "markdown",
   "metadata": {},
   "source": [
    "## Date 18June2019\n",
    "\n",
    "# Day Objectives\n",
    "\n",
    "- Tuples\n",
    "- Dictionaries\n",
    "- Contact Applications\n",
    "- Packages and modules"
   ]
  },
  {
   "cell_type": "markdown",
   "metadata": {},
   "source": [
    "## Tuples\n",
    "\n",
    "tu = ()\n",
    "\n",
    "li = []\n",
    "\n",
    "Difference between Lists and Tuples\n",
    "\n",
    "Lists are mutable - can be changed/modified\n",
    "- Used to Access, Modify, Add, Delete data\n",
    "\n",
    "Tuples are immutable - cannot be changed once initialised\n",
    "- Used to access data only\n",
    "- All slicing work"
   ]
  },
  {
   "cell_type": "code",
   "execution_count": 6,
   "metadata": {},
   "outputs": [
    {
     "data": {
      "text/plain": [
       "tuple"
      ]
     },
     "execution_count": 6,
     "metadata": {},
     "output_type": "execute_result"
    }
   ],
   "source": [
    "t1 = (1,2,8,6,0)\n",
    "\n",
    "t1[3] # Accessing the 4th element\n",
    "\n",
    "t1[len(t1)//2:] # Accessing all elements from middle to last\n",
    "\n",
    "type(t1)"
   ]
  },
  {
   "cell_type": "markdown",
   "metadata": {},
   "source": [
    "### Dictionaries\n",
    "\n",
    "It works on the concept of Set\n",
    "Unique Data\n",
    "\n",
    "\n",
    "Keys, Values\n",
    "\n",
    "Key is the unique identifier for a value\n",
    "\n",
    "Value is data that can be accessed with a key\n"
   ]
  },
  {
   "cell_type": "code",
   "execution_count": 16,
   "metadata": {},
   "outputs": [
    {
     "data": {
      "text/plain": [
       "{'k1': 'value1', 'k2': 'value2'}"
      ]
     },
     "execution_count": 16,
     "metadata": {},
     "output_type": "execute_result"
    }
   ],
   "source": [
    "d1 = {\"k1\":\"value1\", \"k2\":\"value2\"}\n",
    "\n",
    "d1[\"k2\"] # Accessing the value with key \"k2\"\n",
    "\n",
    "d1.keys() # Returns list of all keys\n",
    " \n",
    "d1.values() # Returns list of all values\n",
    "\n",
    "d1.items() # Returns list of tuples of keys and values\n",
    "\n",
    "d1[\"k3\"] = \"value3\" # Adding an element to the dictionary\n",
    "\n",
    "d1[\"k3\"] = \"value4\" # Update an element\n",
    "\n",
    "d1.pop(\"k3\") # Removing an element\n",
    "\n",
    "\"k2\" in d1 #Check whether the key exists in dictionary or not"
   ]
  },
  {
   "cell_type": "markdown",
   "metadata": {},
   "source": [
    "### Contacts Application\n",
    "\n",
    "- Add contact\n",
    "- Search for contact\n",
    "- List all contacts\n",
    "        - name1 : phone1\n",
    "        - name2 : phone2\n",
    "- Modify contact\n",
    "- Remove contact\n",
    "- Import contacts"
   ]
  },
  {
   "cell_type": "code",
   "execution_count": 1,
   "metadata": {},
   "outputs": [
    {
     "name": "stdout",
     "output_type": "stream",
     "text": [
      "2\n",
      "sam\n",
      "3667\n",
      "contact sam added\n",
      "suma\n",
      "4567\n",
      "contact suma added\n"
     ]
    }
   ],
   "source": [
    "# Add contacts\n",
    "\n",
    "contacts = {}\n",
    "\n",
    "def addContact(name, phone):\n",
    "    if name not in contacts: # name exists or not\n",
    "        contacts[name] = phone\n",
    "        print(\"contact %s added\" %name)\n",
    "    else:\n",
    "        print(\"Contact %s already exists\" %name)\n",
    "    return\n",
    "t=int(input())\n",
    "for i in range(1,t+1):\n",
    "    name = input()\n",
    "    phone= int(input())\n",
    "    addContact(name,phone)\n",
    "        "
   ]
  },
  {
   "cell_type": "code",
   "execution_count": 28,
   "metadata": {},
   "outputs": [
    {
     "name": "stdout",
     "output_type": "stream",
     "text": [
      "10\n"
     ]
    }
   ],
   "source": [
    "# Search contact\n",
    "\n",
    "def searchContacts(n):\n",
    "    l=[]\n",
    "    if n in contacts:\n",
    "        l.append(name, \":\", contacts[name])\n",
    "        print(l)\n",
    "    return\n",
    "n=int(input())\n",
    "for i in range(0,n):\n",
    "    searchContacts(n)"
   ]
  },
  {
   "cell_type": "code",
   "execution_count": 25,
   "metadata": {},
   "outputs": [
    {
     "name": "stdout",
     "output_type": "stream",
     "text": [
      "2 contacts added successfully\n"
     ]
    }
   ],
   "source": [
    "# New contacts is given as a dictionary\n",
    "# Merge new contacts with existing contacts\n",
    "\n",
    "def importContacts(newContacts):\n",
    "    contacts.update(newContacts)\n",
    "    print(len(newContacts.keys()), \"contacts added successfully\")\n",
    "    return\n",
    "\n",
    "newContacts = {\"Shine\": 7093885859, \"Sharn\": 8522992069}\n",
    "\n",
    "importContacts(newContacts)"
   ]
  },
  {
   "cell_type": "code",
   "execution_count": 29,
   "metadata": {},
   "outputs": [
    {
     "name": "stdout",
     "output_type": "stream",
     "text": [
      "sam : 8885122583\n"
     ]
    }
   ],
   "source": [
    "def searchContact(name):\n",
    "    if name in contacts:\n",
    "        print(name, \":\", contacts[name])\n",
    "    else:\n",
    "        print(\"%s doesnot exist\" %name)\n",
    "\n",
    "searchContact(\"sam\")\n"
   ]
  },
  {
   "cell_type": "code",
   "execution_count": 3,
   "metadata": {},
   "outputs": [
    {
     "name": "stdout",
     "output_type": "stream",
     "text": [
      "{}\n"
     ]
    }
   ],
   "source": [
    "def removeContact(contacts):\n",
    "    contacts.clear()\n",
    "    print(contacts)\n",
    "    \n",
    "contacts= {\"sam\": 3667, \"suma\":4567}\n",
    "removeContact(contacts)\n",
    "         \n",
    "         "
   ]
  },
  {
   "cell_type": "markdown",
   "metadata": {},
   "source": [
    "## Packages and Modules\n",
    "\n",
    "**Package** -> Collection of Modules(Python File.py) and sub packages\n",
    "\n",
    "**Sub Packages** -> \n",
    "\n",
    "**Module** --> A single python file containing functions\n",
    "\n",
    "Package --> Subpackages --> Modules --> Functions"
   ]
  },
  {
   "cell_type": "code",
   "execution_count": 36,
   "metadata": {},
   "outputs": [
    {
     "data": {
      "text/plain": [
       "3.141592653589793"
      ]
     },
     "execution_count": 36,
     "metadata": {},
     "output_type": "execute_result"
    }
   ],
   "source": [
    "import math\n",
    "\n",
    "math.floor(123.456)\n",
    "\n",
    "math.pi\n"
   ]
  },
  {
   "cell_type": "code",
   "execution_count": 8,
   "metadata": {},
   "outputs": [
    {
     "data": {
      "text/plain": [
       "123"
      ]
     },
     "execution_count": 8,
     "metadata": {},
     "output_type": "execute_result"
    }
   ],
   "source": [
    "from math import floor as fl # Renaming of the functions is possible\n",
    "\n",
    "fl(123.456)\n"
   ]
  },
  {
   "cell_type": "code",
   "execution_count": 58,
   "metadata": {},
   "outputs": [
    {
     "name": "stdout",
     "output_type": "stream",
     "text": [
      "65 73 47 55 52 67 72 83 60 71 "
     ]
    }
   ],
   "source": [
    "# Function to generate N random numbers\n",
    "\n",
    "import random\n",
    "\n",
    "def generateNRandomNumbers(n,lb,ub):\n",
    "    for i in range(0,n):\n",
    "        print(random.randint(lb,ub), end =\" \")\n",
    "        \n",
    "\n",
    "generateNRandomNumbers(10,0,100)"
   ]
  },
  {
   "cell_type": "code",
   "execution_count": 64,
   "metadata": {},
   "outputs": [
    {
     "data": {
      "text/plain": [
       "False"
      ]
     },
     "execution_count": 64,
     "metadata": {},
     "output_type": "execute_result"
    }
   ],
   "source": [
    "from Packages.numerical import isprimenumber\n",
    "#numerical.isprimefactors(4567)\n",
    "\n",
    "isprimenumber(3667)"
   ]
  }
 ],
 "metadata": {
  "kernelspec": {
   "display_name": "Python 3",
   "language": "python",
   "name": "python3"
  },
  "language_info": {
   "codemirror_mode": {
    "name": "ipython",
    "version": 3
   },
   "file_extension": ".py",
   "mimetype": "text/x-python",
   "name": "python",
   "nbconvert_exporter": "python",
   "pygments_lexer": "ipython3",
   "version": "3.7.3"
  }
 },
 "nbformat": 4,
 "nbformat_minor": 2
}
