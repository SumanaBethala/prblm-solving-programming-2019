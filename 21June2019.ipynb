{
 "cells": [
  {
   "cell_type": "code",
   "execution_count": 11,
   "metadata": {},
   "outputs": [
    {
     "name": "stdout",
     "output_type": "stream",
     "text": [
      "name1 already exists\n"
     ]
    }
   ],
   "source": [
    "# Function to add contact to contacts text file\n",
    "\n",
    "from Packages.validators import phonenumberValidator as pnv, emailValidator as ev\n",
    "\n",
    "def addContact(name, phone, email):\n",
    "    # store data as name, phone, email in the contacts file\n",
    "    filename = 'DataFiles/contacts.txt'\n",
    "    if not contactCheck(name):\n",
    "        if pnv(phone) and ev(email):\n",
    "            with open(filename, 'a') as f:\n",
    "                line = name + \", \"+str(phone)+', '+email\n",
    "                f.write(line)\n",
    "            print(name,'added to contacts')\n",
    "        else:\n",
    "            print('Invalid number or Email')\n",
    "        return\n",
    "    else:\n",
    "        print(name, 'already exists')\n",
    "    return\n",
    "\n",
    "\n",
    "\n",
    "import re\n",
    "# Function to check if contact already exists\n",
    "\n",
    "def contactCheck(name):\n",
    "    filename = 'DataFiles/contacts.txt'\n",
    "    with open(filename, 'r') as f:\n",
    "        filedata = f.read()\n",
    "        pattern = name +','\n",
    "    return re.search(pattern, filedata)\n",
    "\n",
    "\n",
    "addContact('name1', 8765432107, 'name2_34@gmail.com')"
   ]
  },
  {
   "cell_type": "code",
   "execution_count": 30,
   "metadata": {},
   "outputs": [
    {
     "data": {
      "text/plain": [
       "' name1, 9876543210, name1_23@gmail.com\\n'"
      ]
     },
     "execution_count": 30,
     "metadata": {},
     "output_type": "execute_result"
    }
   ],
   "source": [
    "# CSV to List\n",
    "\n",
    "filename = 'DataFiles/contacts.txt'\n",
    "def csvToList(filename):\n",
    "    li=[]\n",
    "    with open(filename, 'r') as f:\n",
    "        for line in f:\n",
    "            li.append(line.split(','))\n",
    "    return li\n",
    "\n",
    "def listToFile(li):\n",
    "    s=' '\n",
    "    for i in li:\n",
    "        s+= ','.join(i)\n",
    "    return s\n",
    "\n",
    "li = csvToList(filename)\n",
    "listToFile(li)"
   ]
  },
  {
   "cell_type": "code",
   "execution_count": 6,
   "metadata": {},
   "outputs": [
    {
     "ename": "SyntaxError",
     "evalue": "invalid syntax (<ipython-input-6-0559d5c63acd>, line 12)",
     "output_type": "error",
     "traceback": [
      "\u001b[1;36m  File \u001b[1;32m\"<ipython-input-6-0559d5c63acd>\"\u001b[1;36m, line \u001b[1;32m12\u001b[0m\n\u001b[1;33m    if is csvToList:\u001b[0m\n\u001b[1;37m        ^\u001b[0m\n\u001b[1;31mSyntaxError\u001b[0m\u001b[1;31m:\u001b[0m invalid syntax\n"
     ]
    }
   ],
   "source": [
    "# Search contact\n",
    "\n",
    "from Packages.validators import phonenumberValidator as pnv, emailValidator as ev\n",
    "\n",
    "filename = 'DataFiles/contacts.txt'\n",
    "def csvToList(filename):\n",
    "    li=[]\n",
    "    with open(filename, 'r') as f:\n",
    "        for line in f:\n",
    "            li.append(line.split(','))\n",
    "    return li\n",
    "\n",
    "def searchContact(name):\n",
    "    if is csvToList:\n",
    "        if name in li:\n",
    "            print(name)\n",
    "            print(\"phone:\",li[name][0])\n",
    "            print(\"Email:\",li[name][1])\n",
    "        else:\n",
    "            print(\"%s doesnot exist\"%name)\n",
    "        return\n",
    "searchContact(\"name1\")"
   ]
  },
  {
   "cell_type": "code",
   "execution_count": 13,
   "metadata": {},
   "outputs": [],
   "source": [
    "# Delete Contact\n",
    "\n",
    "def deleteContact(name, phone, email):\n",
    "    filename = 'DataFiles/contacts.txt'\n",
    "    if name in filename:\n",
    "        if contactCheck(name):\n",
    "            with open(filename, 'w') as f:\n",
    "                del(name)\n",
    "            print(name,'deleted from contacts')\n",
    "        else:\n",
    "            print('Not in contacts')\n",
    "            return\n",
    "\n",
    "import re\n",
    "# Function to check if contact already exists\n",
    "\n",
    "def contactCheck(name):\n",
    "    filename = 'DataFiles/contacts.txt'\n",
    "    with open(filename, 'r') as f:\n",
    "        filedata = f.read()\n",
    "        pattern = name +','\n",
    "    return re.search(pattern, filedata)\n",
    "\n",
    "\n",
    "deleteContact('name2', 8765432109, 'name2_34@gmail.com')"
   ]
  },
  {
   "cell_type": "code",
   "execution_count": null,
   "metadata": {},
   "outputs": [],
   "source": []
  },
  {
   "cell_type": "markdown",
   "metadata": {},
   "source": [
    "## HackerEarth Problems"
   ]
  },
  {
   "cell_type": "code",
   "execution_count": 3,
   "metadata": {},
   "outputs": [
    {
     "name": "stdout",
     "output_type": "stream",
     "text": [
      "2\n",
      "100 10000\n",
      "YES\n",
      "99 678\n",
      "NO\n"
     ]
    }
   ],
   "source": [
    "# Birthday Party\n",
    "\n",
    "def chocolates(N,M):\n",
    "    if(M%N==0):\n",
    "        print(\"YES\")\n",
    "    else:\n",
    "        print(\"NO\")\n",
    "    \n",
    "t=int(input())\n",
    "for i in range(0,t):\n",
    "    S=input().split()\n",
    "    N=int(S[0])\n",
    "    M=int(S[1])\n",
    "    chocolates(N,M)"
   ]
  },
  {
   "cell_type": "code",
   "execution_count": 22,
   "metadata": {},
   "outputs": [
    {
     "name": "stdout",
     "output_type": "stream",
     "text": [
      "5\n",
      "1 2 3 4 5\n",
      "5 7 3 "
     ]
    }
   ],
   "source": [
    "# Old Legendary Problem(Summation)\n",
    "\n",
    "N=int(input())\n",
    "S=input().split()\n",
    "L=[]\n",
    "H=[]\n",
    "for i in S:\n",
    "    L.append(int(i))\n",
    "sum1=0\n",
    "sum2=0\n",
    "sum3=0\n",
    "for i in range(0,N,3):\n",
    "    sum1 = sum1 + L[i]\n",
    "H.append(sum1)\n",
    "for i in range(1,N,3):\n",
    "    sum2 = sum2 + L[i]\n",
    "H.append(sum2)\n",
    "for i in range(2,N,3):\n",
    "    sum3 = sum3 + L[i]\n",
    "H.append(sum3)\n",
    "for i in H:\n",
    "    print(i,end=\" \")\n",
    "\n",
    "\n"
   ]
  },
  {
   "cell_type": "code",
   "execution_count": 24,
   "metadata": {},
   "outputs": [
    {
     "name": "stdout",
     "output_type": "stream",
     "text": [
      "5\n",
      "1000000001 1000000002 1000000003 1000000004 1000000005\n",
      "5000000015\n"
     ]
    }
   ],
   "source": [
    "# Array Sum\n",
    "\n",
    "N=int(input())\n",
    "S=input().split()\n",
    "sum=0\n",
    "L=[]\n",
    "for i in S:\n",
    "    L.append(int(i))\n",
    "for i in range(0,N):\n",
    "    sum= sum+ L[i]\n",
    "print(sum)"
   ]
  },
  {
   "cell_type": "code",
   "execution_count": 45,
   "metadata": {},
   "outputs": [
    {
     "name": "stdout",
     "output_type": "stream",
     "text": [
      "5 1 4\n",
      "3 5 7 2 4\n",
      "YES\n"
     ]
    }
   ],
   "source": [
    "S=input().split()\n",
    "L=[]\n",
    "for i in S:\n",
    "    L.append(int(i))\n",
    "N=L[0]\n",
    "X=L[1]\n",
    "Y=L[2]\n",
    "A=input().split()\n",
    "Z=[]\n",
    "for i in A:\n",
    "    Z.append(i)\n",
    "for i in range(X,Y+1) :\n",
    "    print(\"YES\")\n",
    "    break"
   ]
  },
  {
   "cell_type": "code",
   "execution_count": 47,
   "metadata": {
    "scrolled": true
   },
   "outputs": [
    {
     "name": "stdout",
     "output_type": "stream",
     "text": [
      "1\n",
      "26\n",
      "sadw96aeafae4awdw2wd100awd\n",
      "7\n"
     ]
    }
   ],
   "source": [
    "t=int(input())\n",
    "N=int(input())\n",
    "S=input()\n",
    "count=0\n",
    "for i in S:\n",
    "    if i.isdigit():\n",
    "        count+=1\n",
    "print(count)\n"
   ]
  }
 ],
 "metadata": {
  "kernelspec": {
   "display_name": "Python 3",
   "language": "python",
   "name": "python3"
  },
  "language_info": {
   "codemirror_mode": {
    "name": "ipython",
    "version": 3
   },
   "file_extension": ".py",
   "mimetype": "text/x-python",
   "name": "python",
   "nbconvert_exporter": "python",
   "pygments_lexer": "ipython3",
   "version": "3.7.3"
  }
 },
 "nbformat": 4,
 "nbformat_minor": 2
}
