{
 "cells": [
  {
   "cell_type": "markdown",
   "metadata": {},
   "source": [
    "b## Files Concept"
   ]
  },
  {
   "cell_type": "markdown",
   "metadata": {},
   "source": [
    "### Write mode"
   ]
  },
  {
   "cell_type": "code",
   "execution_count": 18,
   "metadata": {},
   "outputs": [],
   "source": [
    "fh = open(\"book.txt\", \"w\")\n",
    "data = \"Hi this is SAM\"\n",
    "fh.write(data)\n",
    "fh.close()"
   ]
  },
  {
   "cell_type": "markdown",
   "metadata": {},
   "source": [
    "### Read mode"
   ]
  },
  {
   "cell_type": "code",
   "execution_count": 19,
   "metadata": {},
   "outputs": [
    {
     "name": "stdout",
     "output_type": "stream",
     "text": [
      "Hi this is SAM\n"
     ]
    }
   ],
   "source": [
    "fh = open(\"book.txt\", \"r\")\n",
    "#fh.read()  # Just read the data in the present file \n",
    "print(fh.read())\n",
    "fh.close()"
   ]
  },
  {
   "cell_type": "markdown",
   "metadata": {},
   "source": [
    "## Coursera Problems"
   ]
  },
  {
   "cell_type": "code",
   "execution_count": null,
   "metadata": {},
   "outputs": [],
   "source": [
    "fname = input(\"Enter file name: \")\n",
    "if len(fname) == 0:\n",
    "    fname = 'mbox-short.txt'\n",
    "fh = open(fname)\n",
    "count = 0\n",
    "total = 0\n",
    "ans = 0\n",
    "for line in fh:\n",
    "    if not line.startswith(\"X-DSPAM-Confidence:\") : continue\n",
    "    count = count + 1\n",
    "    num = float(line[21:])\n",
    "    total = num + total\n",
    "a = total / count\n",
    "print(\"Average spam confidence:\", a)"
   ]
  },
  {
   "cell_type": "code",
   "execution_count": null,
   "metadata": {},
   "outputs": [],
   "source": [
    "fname=input(\"enter text\")\n",
    "fh = open(fname)\n",
    "count=0\n",
    "n=0\n",
    "for line in fh:\n",
    "    if line.startswith(\"X-DSPAM-Confidence:\"):\n",
    "        count+=1\n",
    "        space=line.find(' ')\n",
    "        n=line[space::1]\n",
    "        s=n.lstrip()\n",
    "        m=m+float(s)\n",
    "        \n",
    "print(\"Average spam confidence:\", m/count)"
   ]
  },
  {
   "cell_type": "code",
   "execution_count": 1,
   "metadata": {},
   "outputs": [
    {
     "name": "stdout",
     "output_type": "stream",
     "text": [
      "0.8475\n"
     ]
    }
   ],
   "source": [
    "text = \"X-DSPAM-Confidence:    0.8475\";\n",
    "\n",
    "s = text.find(\" \")\n",
    "n = text[s::1]\n",
    "N = n.lstrip()\n",
    "result = float(N)\n",
    "\n",
    "def number(printed):\n",
    "    print (printed)  \n",
    "\n",
    "number(result)"
   ]
  }
 ],
 "metadata": {
  "kernelspec": {
   "display_name": "Python 3",
   "language": "python",
   "name": "python3"
  },
  "language_info": {
   "codemirror_mode": {
    "name": "ipython",
    "version": 3
   },
   "file_extension": ".py",
   "mimetype": "text/x-python",
   "name": "python",
   "nbconvert_exporter": "python",
   "pygments_lexer": "ipython3",
   "version": "3.7.3"
  }
 },
 "nbformat": 4,
 "nbformat_minor": 2
}
