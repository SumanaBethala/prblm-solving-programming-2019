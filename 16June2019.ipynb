{
 "cells": [
  {
   "cell_type": "code",
   "execution_count": 2,
   "metadata": {},
   "outputs": [
    {
     "name": "stdout",
     "output_type": "stream",
     "text": [
      "2\n",
      "6\n",
      "YES\n",
      "28\n",
      "YES\n"
     ]
    }
   ],
   "source": [
    "# Perfect Range Count\n",
    "\n",
    "def isperfect(n):\n",
    "    sum = 0\n",
    "    for i in range(1,n):\n",
    "        if n%i==0:\n",
    "            sum = sum+i\n",
    "    if sum == n:\n",
    "        print(\"YES\")\n",
    "    else:\n",
    "        print(\"NO\")\n",
    "            \n",
    "t=int(input())\n",
    "for i in range(1,t+1):\n",
    "    n=int(input())\n",
    "    isperfect(n)\n",
    "    "
   ]
  },
  {
   "cell_type": "code",
   "execution_count": 17,
   "metadata": {},
   "outputs": [
    {
     "name": "stdout",
     "output_type": "stream",
     "text": [
      "2\n",
      "2\n",
      "6\n",
      "YES\n",
      "7\n",
      "NO\n"
     ]
    }
   ],
   "source": [
    "#Special Number\n",
    "\n",
    "def isprime(n): \n",
    "    count=0\n",
    "    for i in range(1,n+1):\n",
    "        if(n%i==0): \n",
    "            count= count+1\n",
    "    if(count==2):\n",
    "        return True\n",
    "    return False\n",
    "\n",
    "def factors(n):\n",
    "    l=[] \n",
    "    for i in range(1,n+1): \n",
    "        if(n%i==0): \n",
    "            l.append(i)\n",
    "    return l\n",
    "\n",
    "def specialnumber(N): \n",
    "    sum = 0 \n",
    "    l= factors(N)\n",
    "    for i in l: \n",
    "        if isprime(i): \n",
    "            sum+=1 \n",
    "    if sum == p:\n",
    "        print(\"YES\")\n",
    "    else:\n",
    "        print(\"NO\")\n",
    "            \n",
    "     \n",
    "p=int(input()) \n",
    "t=int(input()) \n",
    "for i in range(1,t+1):\n",
    "    N=int(input())\n",
    "    specialnumber(N)"
   ]
  },
  {
   "cell_type": "code",
   "execution_count": 3,
   "metadata": {},
   "outputs": [
    {
     "name": "stdout",
     "output_type": "stream",
     "text": [
      "Samson$am67\n",
      "2\n",
      "8\n"
     ]
    }
   ],
   "source": [
    "# Char digit count\n",
    "\n",
    "def charcount(s):\n",
    "    count = 0\n",
    "    sum = 0\n",
    "    s = list(s)\n",
    "    for i in s:\n",
    "        if i.isdigit():\n",
    "            count+=1\n",
    "        elif i.isalpha():\n",
    "            sum+=1\n",
    "    print(count)\n",
    "    print(sum)\n",
    "            \n",
    "s=input()\n",
    "charcount(s)"
   ]
  },
  {
   "cell_type": "code",
   "execution_count": null,
   "metadata": {},
   "outputs": [],
   "source": []
  }
 ],
 "metadata": {
  "kernelspec": {
   "display_name": "Python 3",
   "language": "python",
   "name": "python3"
  },
  "language_info": {
   "codemirror_mode": {
    "name": "ipython",
    "version": 3
   },
   "file_extension": ".py",
   "mimetype": "text/x-python",
   "name": "python",
   "nbconvert_exporter": "python",
   "pygments_lexer": "ipython3",
   "version": "3.7.3"
  }
 },
 "nbformat": 4,
 "nbformat_minor": 2
}
